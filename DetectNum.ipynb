{
  "nbformat": 4,
  "nbformat_minor": 0,
  "metadata": {
    "colab": {
      "name": "DetectNum.ipynb",
      "version": "0.3.2",
      "provenance": [],
      "collapsed_sections": [],
      "include_colab_link": true
    },
    "kernelspec": {
      "name": "python3",
      "display_name": "Python 3"
    },
    "accelerator": "GPU"
  },
  "cells": [
    {
      "cell_type": "markdown",
      "metadata": {
        "id": "view-in-github",
        "colab_type": "text"
      },
      "source": [
        "<a href=\"https://colab.research.google.com/github/mlubega/cv/blob/master/DetectNum.ipynb\" target=\"_parent\"><img src=\"https://colab.research.google.com/assets/colab-badge.svg\" alt=\"Open In Colab\"/></a>"
      ]
    },
    {
      "cell_type": "markdown",
      "metadata": {
        "id": "6jqK__37NCgK",
        "colab_type": "text"
      },
      "source": [
        "OCR\n",
        "\n",
        "Maimuna Lubega\n",
        "\n",
        "April 2019"
      ]
    },
    {
      "cell_type": "markdown",
      "metadata": {
        "id": "-cTH6WQbL9_T",
        "colab_type": "text"
      },
      "source": [
        "### Please execute each cell in order to install and load the necessary libraries and functions."
      ]
    },
    {
      "cell_type": "code",
      "metadata": {
        "id": "-jxz4sBooUBT",
        "colab_type": "code",
        "outputId": "e6333c7c-0e8d-4512-f87c-11f811174f49",
        "colab": {
          "base_uri": "https://localhost:8080/",
          "height": 34
        }
      },
      "source": [
        "# Load the Drive helper and mount\n",
        "from google.colab import drive\n",
        "\n",
        "# This will prompt for authorization.\n",
        "drive.mount('/content/drive')"
      ],
      "execution_count": 0,
      "outputs": [
        {
          "output_type": "stream",
          "text": [
            "Drive already mounted at /content/drive; to attempt to forcibly remount, call drive.mount(\"/content/drive\", force_remount=True).\n"
          ],
          "name": "stdout"
        }
      ]
    },
    {
      "cell_type": "code",
      "metadata": {
        "id": "stZMoc3_xVCD",
        "colab_type": "code",
        "outputId": "1fa980fc-b63c-431a-96d5-f265769554fc",
        "colab": {
          "base_uri": "https://localhost:8080/",
          "height": 323
        }
      },
      "source": [
        "#Install necessary libraries\n",
        "\n",
        "!pip install opencv-python==3.4.2.16\n",
        "!pip install opencv-contrib-python==3.4.2.16\n",
        "!pip install matplotlib\n",
        "!pip install numpy\n",
        "!pip install pandas"
      ],
      "execution_count": 0,
      "outputs": [
        {
          "output_type": "stream",
          "text": [
            "Requirement already satisfied: opencv-python==3.4.2.16 in /usr/local/lib/python3.6/dist-packages (3.4.2.16)\n",
            "Requirement already satisfied: numpy>=1.11.3 in /usr/local/lib/python3.6/dist-packages (from opencv-python==3.4.2.16) (1.16.3)\n",
            "Requirement already satisfied: opencv-contrib-python==3.4.2.16 in /usr/local/lib/python3.6/dist-packages (3.4.2.16)\n",
            "Requirement already satisfied: numpy>=1.11.3 in /usr/local/lib/python3.6/dist-packages (from opencv-contrib-python==3.4.2.16) (1.16.3)\n",
            "Requirement already satisfied: matplotlib in /usr/local/lib/python3.6/dist-packages (3.0.3)\n",
            "Requirement already satisfied: kiwisolver>=1.0.1 in /usr/local/lib/python3.6/dist-packages (from matplotlib) (1.1.0)\n",
            "Requirement already satisfied: python-dateutil>=2.1 in /usr/local/lib/python3.6/dist-packages (from matplotlib) (2.5.3)\n",
            "Requirement already satisfied: pyparsing!=2.0.4,!=2.1.2,!=2.1.6,>=2.0.1 in /usr/local/lib/python3.6/dist-packages (from matplotlib) (2.4.0)\n",
            "Requirement already satisfied: numpy>=1.10.0 in /usr/local/lib/python3.6/dist-packages (from matplotlib) (1.16.3)\n",
            "Requirement already satisfied: cycler>=0.10 in /usr/local/lib/python3.6/dist-packages (from matplotlib) (0.10.0)\n",
            "Requirement already satisfied: setuptools in /usr/local/lib/python3.6/dist-packages (from kiwisolver>=1.0.1->matplotlib) (41.0.1)\n",
            "Requirement already satisfied: six>=1.5 in /usr/local/lib/python3.6/dist-packages (from python-dateutil>=2.1->matplotlib) (1.12.0)\n",
            "Requirement already satisfied: numpy in /usr/local/lib/python3.6/dist-packages (1.16.3)\n",
            "Requirement already satisfied: pandas in /usr/local/lib/python3.6/dist-packages (0.24.2)\n",
            "Requirement already satisfied: python-dateutil>=2.5.0 in /usr/local/lib/python3.6/dist-packages (from pandas) (2.5.3)\n",
            "Requirement already satisfied: pytz>=2011k in /usr/local/lib/python3.6/dist-packages (from pandas) (2018.9)\n",
            "Requirement already satisfied: numpy>=1.12.0 in /usr/local/lib/python3.6/dist-packages (from pandas) (1.16.3)\n",
            "Requirement already satisfied: six>=1.5 in /usr/local/lib/python3.6/dist-packages (from python-dateutil>=2.5.0->pandas) (1.12.0)\n"
          ],
          "name": "stdout"
        }
      ]
    },
    {
      "cell_type": "code",
      "metadata": {
        "id": "HrIUBQErzm7R",
        "colab_type": "code",
        "outputId": "47ad72ae-ad51-4772-8a2b-0f537eb72cb4",
        "colab": {
          "base_uri": "https://localhost:8080/",
          "height": 51
        }
      },
      "source": [
        "# Install required dependencies before installing Tesseract and Pytesseract\n",
        "!apt install libleptonica-dev # \n",
        "!apt install libtesseract-dev\n",
        "!apt install tesseract-ocr\n",
        "!pip install pytesseract"
      ],
      "execution_count": 0,
      "outputs": [
        {
          "output_type": "stream",
          "text": [
            "Requirement already satisfied: tesseract-ocr in /usr/local/lib/python3.6/dist-packages (0.0.1)\n",
            "Requirement already satisfied: cython in /usr/local/lib/python3.6/dist-packages (from tesseract-ocr) (0.29.7)\n"
          ],
          "name": "stdout"
        }
      ]
    },
    {
      "cell_type": "code",
      "metadata": {
        "id": "GMAxjuAS4IF1",
        "colab_type": "code",
        "colab": {}
      },
      "source": [
        "import cv2 \n",
        "import numpy as np\n",
        "import matplotlib.pyplot as plt\n",
        "import pytesseract\n",
        "import imutils\n",
        "import sys\n",
        "import argparse\n",
        "import os\n",
        "from google.colab.patches import cv2_imshow\n",
        "\n",
        "\n",
        "\n",
        "IMG_EXTS = ['.jpg', '.jpeg']\n",
        "VID_EXTS = ['.mp4', '.mov']\n",
        "VALID_LIST = IMG_EXTS + VID_EXTS"
      ],
      "execution_count": 0,
      "outputs": []
    },
    {
      "cell_type": "code",
      "metadata": {
        "id": "xCY2a5IW5sM7",
        "colab_type": "code",
        "colab": {}
      },
      "source": [
        "'''\n",
        "get_image()\n",
        "\n",
        "This method accepts only four file types ['.mp4', '.mov','.jpg','.jpeg' ]\n",
        "\n",
        "input: filepath\n",
        "output: image or single frame for video\n",
        "\n",
        "\n",
        "'''\n",
        "\n",
        "def get_image(filepath):\n",
        "\n",
        "  if not filepath:\n",
        "    raise ValueError(\"No file path given\")\n",
        "\n",
        "  img = None\n",
        "  ftype = os.path.splitext(filepath)[-1]\n",
        "\n",
        "\n",
        "  # process img\n",
        "  if ftype in IMG_EXTS:\n",
        "      img = cv2.imread(filepath)\n",
        "\n",
        "  #process video\n",
        "  elif ftype in VID_EXTS: \n",
        "      cap = cv2.VideoCapture(filepath)\n",
        "\n",
        "      if not cap.isOpened:\n",
        "          sys.exit('Video Capture Not Open')  # how to handle?\n",
        "\n",
        "      total_frames = int(cap.get(cv2.CAP_PROP_FRAME_COUNT))\n",
        "      for i in range(total_frames):\n",
        "          hasframe, frame = cap.read()\n",
        "\n",
        "          if not hasframe:\n",
        "               continue;\n",
        "          if filepath.endswith('.mov'):\n",
        "               frame = imutils.rotate_bound(frame, 90)\n",
        "\n",
        "          img = frame\n",
        "          break;\n",
        "  else:\n",
        "      raise ValueError(\"Invalid file extension\")\n",
        "      \n",
        "  if img == None:\n",
        "    raise FileNotFoundError(\"Unable to read file\")\n",
        "\n",
        "  return img"
      ],
      "execution_count": 0,
      "outputs": []
    },
    {
      "cell_type": "code",
      "metadata": {
        "id": "VhgPVnKV6DAO",
        "colab_type": "code",
        "colab": {}
      },
      "source": [
        "'''\n",
        "get_mser_regions()\n",
        "\n",
        "\n",
        "input: image\n",
        "output: array with identified mser regions\n",
        "\n",
        "'''\n",
        "def get_mser_regions(img):\n",
        "    \n",
        "    rois = []\n",
        "     \n",
        "    #Set params\n",
        "    img_height, img_width = img.shape[:2]\n",
        "    img_area = float(img_height) * img_width\n",
        "    max_num_area = int(img_area * 0.004)\n",
        "    kernel_edge = int(np.sqrt(max_num_area / 2))\n",
        "    \n",
        "\n",
        "    # Threshold\n",
        "    gray = cv2.cvtColor(img, cv2.COLOR_BGR2GRAY)\n",
        "    retval, graythresh = cv2.threshold(gray, 150, 255, cv2.THRESH_BINARY + cv2.THRESH_OTSU)\n",
        "    \n",
        "    # Opening\n",
        "    kernel = np.ones((kernel_edge,kernel_edge),np.uint8)\n",
        "    opening = cv2.morphologyEx(graythresh, cv2.MORPH_OPEN, kernel)\n",
        "\n",
        "    #extract MSER regions\n",
        "    vis = img.copy()\n",
        "    mser = cv2.MSER_create(_delta=10, _max_area=max_num_area, _max_variation=0.5)\n",
        "    regions, _ = mser.detectRegions(opening)\n",
        "    for p in regions:\n",
        "        xmax, ymax = np.amax(p, axis=0)\n",
        "        xmin, ymin = np.amin(p, axis=0)\n",
        "        \n",
        "        # increasing bbox improves detection & recognition\n",
        "        xmax = min(xmax + 35, img_width )\n",
        "        ymax = min(ymax + 35, img_height)\n",
        "        xmin = max(xmin - 35, 1)\n",
        "        ymin = max(ymin - 35, 1)\n",
        "    \n",
        "    \n",
        "        rois.append(img[ymin:ymax, xmin:xmax])\n",
        "        cv2.rectangle(vis, (xmin,ymax), (xmax,ymin), (0, 255, 0), 1)\n",
        "\n",
        "    \n",
        "    return rois"
      ],
      "execution_count": 0,
      "outputs": []
    },
    {
      "cell_type": "code",
      "metadata": {
        "id": "jxbMroKy6SYM",
        "colab_type": "code",
        "colab": {}
      },
      "source": [
        "'''\n",
        "get_best_roi()\n",
        "\n",
        "This method converts the image to grayscale, generates a histogram of 16 bins,\n",
        "and sums the first and last four bins. If the sum of those values is 88% or more \n",
        "of the total values, then the histogram is bimodal, likely contains text, and will\n",
        "be returned as the best roi. Is there is more than one bimodal histogram, it will \n",
        "return the one with the highest percentage\n",
        "\n",
        "input: list of roi regions\n",
        "output: single roi that is above the threshold\n",
        "\n",
        "'''\n",
        "def get_best_roi(rois):\n",
        "    \n",
        "\n",
        "    best_roi = None\n",
        "    best_pct = .88 # bad practice, sorry\n",
        "    \n",
        "    for img in rois:\n",
        "\n",
        "      gray = cv2.cvtColor(img, cv2.COLOR_BGR2GRAY)\n",
        "      \n",
        "      #filtering using histogram\n",
        "      hist,bins = np.histogram(gray.ravel(),16)\n",
        "      low = sum(hist[:4])\n",
        "      high = sum(hist[12:])\n",
        "      al = sum(hist)\n",
        "      bimodal_pct = (low+high)/al\n",
        "      \n",
        "      if bimodal_pct > best_pct:\n",
        "          best_roi = img\n",
        "          best_pct = bimodal_pct\n",
        "\n",
        "    \n",
        "    return best_roi"
      ],
      "execution_count": 0,
      "outputs": []
    },
    {
      "cell_type": "code",
      "metadata": {
        "id": "TubUzzoB6Vwe",
        "colab_type": "code",
        "colab": {}
      },
      "source": [
        "'''\n",
        "deskew_image\n",
        "\n",
        "This code is taken from ( https://www.pyimagesearch.com/2017/02/20/text-skew-correction-opencv-python/ ) \n",
        "\n",
        "input: rgbimage\n",
        "output: rgb image\n",
        "'''\n",
        "def deskew_image(img):\n",
        "    g_roi = cv2.cvtColor(img, cv2.COLOR_BGR2GRAY)\n",
        "    gray = cv2.bitwise_not(g_roi)\n",
        "\n",
        "    # threshold the image, setting all foreground pixels to\n",
        "    # 255 and all background pixels to 0\n",
        "    thresh = cv2.threshold(gray, 0, 255,\n",
        "    \tcv2.THRESH_BINARY | cv2.THRESH_OTSU)[1]\n",
        "\n",
        "    \n",
        "    # grab the (x, y) coordinates of all pixel values that\n",
        "    # are greater than zero, then use these coordinates to\n",
        "    # compute a rotated bounding box that contains all\n",
        "    # coordinates\n",
        "    coords = np.column_stack(np.where(thresh > 0))\n",
        "    angle = cv2.minAreaRect(coords)[-1]\n",
        "\n",
        "     \n",
        "    # the `cv2.minAreaRect` function returns values in the\n",
        "    # range [-90, 0); as the rectangle rotates clockwise the\n",
        "    # returned angle trends to 0 -- in this special case we\n",
        "    # need to add 90 degrees to the angle\n",
        "    if angle < -45:\n",
        "    \tangle = -(90 + angle)\n",
        " \n",
        "    # # otherwise, just take the inverse of the angle to make\n",
        "    # # it positive\n",
        "    else:\n",
        "    \tangle = -angle\n",
        "\n",
        "\n",
        "    # rotate the image to deskew it\n",
        "    image = img\n",
        "    (h, w) = image.shape[:2]\n",
        "    center = (w // 2, h // 2)\n",
        "    M = cv2.getRotationMatrix2D(center, angle, 1.0)\n",
        "    rotated = cv2.warpAffine(image, M, (w, h),\n",
        "    \tflags=cv2.INTER_CUBIC, borderMode=cv2.BORDER_REPLICATE)\n",
        "    \n",
        "\n",
        "    return rotated\n",
        " \n",
        "\n",
        "\n"
      ],
      "execution_count": 0,
      "outputs": []
    },
    {
      "cell_type": "code",
      "metadata": {
        "id": "EfMLuSEQ6YOY",
        "colab_type": "code",
        "colab": {}
      },
      "source": [
        "'''\n",
        "binarize()\n",
        "\n",
        "This methods returns a binary image.\n",
        "\n",
        "input: binary image\n",
        "output: string text\n",
        "'''\n",
        "def binarize(img):\n",
        "  ret, thresh1 = cv2.threshold(img, 150,255,cv2.THRESH_BINARY)\n",
        "\n",
        "  return thresh1\n",
        "\n",
        "'''\n",
        "read_text()\n",
        "\n",
        "This methods uses the pytesseract library to recognize text in the image.\n",
        "The configuration specifies:\n",
        "\n",
        "  -l eng = english language\n",
        "  --oem 3 = Default engine( i.e. LSTM) , based on what is available.\n",
        "  --psm 7 = Assume text is a single line\n",
        "  --outputbase digits = return only digits ( not functional)\n",
        "\n",
        "input: binary image\n",
        "output: string text\n",
        "'''\n",
        "\n",
        "def read_text(img):\n",
        "    \n",
        "  config = (\"-l eng --oem 3 --psm 7  outputbase digits\")\n",
        "  text = pytesseract.image_to_string(img, config=config) \n",
        "\n",
        "  return text"
      ],
      "execution_count": 0,
      "outputs": []
    },
    {
      "cell_type": "code",
      "metadata": {
        "id": "RDUOFmPW6baA",
        "colab_type": "code",
        "colab": {}
      },
      "source": [
        "'''\n",
        "detect_num\n",
        "'''\n",
        "\n",
        "def detect_num(filename):\n",
        "\n",
        "    img = get_image(filename)\n",
        "    if img is None:\n",
        "      return \n",
        "    rois = get_mser_regions(img)\n",
        "    roi = get_best_roi(rois)\n",
        "    if roi is None:\n",
        "      return \"No text regions detected\"\n",
        "    \n",
        "    rotated = deskew_image(roi)\n",
        "    bw_img = binarize(rotated)\n",
        "    cv2_imshow(bw_img)\n",
        "    text = read_text(bw_img)\n",
        "    return text"
      ],
      "execution_count": 0,
      "outputs": []
    },
    {
      "cell_type": "markdown",
      "metadata": {
        "id": "Vo-3rHvi1Sp8",
        "colab_type": "text"
      },
      "source": [
        "###  Add images and videos  you want to test to the images folder. Executing the cell below will loop over the folder and print detected text if any. If you have downloaded this file to your own Google Drive, then please modify the image_dir to point to the directory where you have kept the images."
      ]
    },
    {
      "cell_type": "code",
      "metadata": {
        "id": "GEeIAS4sq4he",
        "colab_type": "code",
        "outputId": "dd19005f-1d1d-4dd0-c3c2-f88653bea6b7",
        "colab": {
          "base_uri": "https://localhost:8080/",
          "height": 1930
        }
      },
      "source": [
        "img_dir = \"/content/drive/My Drive/City Msc Data Science/ComputerVision/Coursework2019/images\"\n",
        "\n",
        "\n",
        "file_names = os.listdir(img_dir)\n",
        "image_names = list(filter(lambda x: os.path.splitext(x)[1] in VALID_LIST, file_names)) # remove invalid file extensions\n",
        "\n",
        "for name in image_names:\n",
        "    file_path = os.path.join(img_dir, name)\n",
        "    detected_text = detect_num(file_path)\n",
        "    print(detected_text, \"detected for image:\", name)"
      ],
      "execution_count": 0,
      "outputs": [
        {
          "output_type": "stream",
          "text": [
            "No text regions detected detected for image: juan.jpg\n"
          ],
          "name": "stdout"
        },
        {
          "output_type": "display_data",
          "data": {
            "image/png": "[encoded data removed]",
            "text/plain": [
              "<PIL.Image.Image image mode=RGB size=204x224 at 0x7FC349B7D198>"
            ]
          },
          "metadata": {
            "tags": []
          }
        },
        {
          "output_type": "stream",
          "text": [
            "TT detected for image: jack_side.jpeg\n"
          ],
          "name": "stdout"
        },
        {
          "output_type": "display_data",
          "data": {
            "image/png": "[encoded data removed]",
            "text/plain": [
              "<PIL.Image.Image image mode=RGB size=242x180 at 0x7FC349B7D278>"
            ]
          },
          "metadata": {
            "tags": []
          }
        },
        {
          "output_type": "stream",
          "text": [
            "11 detected for image: jack.jpeg\n"
          ],
          "name": "stdout"
        },
        {
          "output_type": "display_data",
          "data": {
            "image/png": "[encoded data removed]",
            "text/plain": [
              "<PIL.Image.Image image mode=RGB size=136x191 at 0x7FC349B7D3C8>"
            ]
          },
          "metadata": {
            "tags": []
          }
        },
        {
          "output_type": "stream",
          "text": [
            "1 detected for image: sepher.jpg\n"
          ],
          "name": "stdout"
        },
        {
          "output_type": "display_data",
          "data": {
            "image/png": "[encoded data removed]",
            "text/plain": [
              "<PIL.Image.Image image mode=RGB size=145x166 at 0x7FC349B59908>"
            ]
          },
          "metadata": {
            "tags": []
          }
        },
        {
          "output_type": "stream",
          "text": [
            " detected for image: daniel.jpeg\n"
          ],
          "name": "stdout"
        },
        {
          "output_type": "display_data",
          "data": {
            "image/png": "[encoded data removed]",
            "text/plain": [
              "<PIL.Image.Image image mode=RGB size=204x219 at 0x7FC349B59588>"
            ]
          },
          "metadata": {
            "tags": []
          }
        },
        {
          "output_type": "stream",
          "text": [
            "22 detected for image: sophie_side.jpeg\n"
          ],
          "name": "stdout"
        },
        {
          "output_type": "display_data",
          "data": {
            "image/png": "[encoded data removed]",
            "text/plain": [
              "<PIL.Image.Image image mode=RGB size=147x185 at 0x7FC349B597B8>"
            ]
          },
          "metadata": {
            "tags": []
          }
        },
        {
          "output_type": "stream",
          "text": [
            "2 detected for image: elia.jpeg\n"
          ],
          "name": "stdout"
        },
        {
          "output_type": "display_data",
          "data": {
            "image/png": "[encoded data removed]",
            "text/plain": [
              "<PIL.Image.Image image mode=RGB size=232x214 at 0x7FC349B59668>"
            ]
          },
          "metadata": {
            "tags": []
          }
        },
        {
          "output_type": "stream",
          "text": [
            "67 detected for image: juan_full.jpg\n"
          ],
          "name": "stdout"
        },
        {
          "output_type": "display_data",
          "data": {
            "image/png": "[encoded data removed]",
            "text/plain": [
              "<PIL.Image.Image image mode=RGB size=96x110 at 0x7FC349B597B8>"
            ]
          },
          "metadata": {
            "tags": []
          }
        },
        {
          "output_type": "stream",
          "text": [
            "2 detected for image: elia_vid.mov\n"
          ],
          "name": "stdout"
        },
        {
          "output_type": "display_data",
          "data": {
            "image/png": "[encoded data removed]",
            "text/plain": [
              "<PIL.Image.Image image mode=RGB size=322x254 at 0x7FC349B597B8>"
            ]
          },
          "metadata": {
            "tags": []
          }
        },
        {
          "output_type": "stream",
          "text": [
            "66 detected for image: eijaz.jpg\n"
          ],
          "name": "stdout"
        }
      ]
    }
  ]
}