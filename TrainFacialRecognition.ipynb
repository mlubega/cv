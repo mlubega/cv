{
  "nbformat": 4,
  "nbformat_minor": 0,
  "metadata": {
    "colab": {
      "name": "TrainFacialRecognition.ipynb",
      "version": "0.3.2",
      "provenance": [],
      "collapsed_sections": [
        "V7NDfnsUNSkZ",
        "pVExTueVPP3F"
      ],
      "include_colab_link": true
    },
    "kernelspec": {
      "name": "python3",
      "display_name": "Python 3"
    },
    "accelerator": "GPU"
  },
  "cells": [
    {
      "cell_type": "markdown",
      "metadata": {
        "id": "view-in-github",
        "colab_type": "text"
      },
      "source": [
        "<a href=\"https://colab.research.google.com/github/mlubega/cv/blob/master/TrainFacialRecognition.ipynb\" target=\"_parent\"><img src=\"https://colab.research.google.com/assets/colab-badge.svg\" alt=\"Open In Colab\"/></a>"
      ]
    },
    {
      "cell_type": "code",
      "metadata": {
        "id": "S85AJNF_PgBO",
        "colab_type": "code",
        "outputId": "464b38df-58b1-40c7-f4f8-76fa828fd48f",
        "colab": {
          "base_uri": "https://localhost:8080/",
          "height": 122
        }
      },
      "source": [
        "# Load the Drive helper and mount\n",
        "from google.colab import drive\n",
        "\n",
        "# This will prompt for authorization.\n",
        "drive.mount('/content/drive')"
      ],
      "execution_count": 0,
      "outputs": [
        {
          "output_type": "stream",
          "text": [
            "Go to this URL in a browser: https://accounts.google.com/o/oauth2/auth?client_id=947318989803-6bn6qk8qdgf4n4g3pfee6491hc0brc4i.apps.googleusercontent.com&redirect_uri=urn%3Aietf%3Awg%3Aoauth%3A2.0%3Aoob&scope=email%20https%3A%2F%2Fwww.googleapis.com%2Fauth%2Fdocs.test%20https%3A%2F%2Fwww.googleapis.com%2Fauth%2Fdrive%20https%3A%2F%2Fwww.googleapis.com%2Fauth%2Fdrive.photos.readonly%20https%3A%2F%2Fwww.googleapis.com%2Fauth%2Fpeopleapi.readonly&response_type=code\n",
            "\n",
            "Enter your authorization code:\n",
            "··········\n",
            "Mounted at /content/drive\n"
          ],
          "name": "stdout"
        }
      ]
    },
    {
      "cell_type": "code",
      "metadata": {
        "id": "IPJGJxbab3lP",
        "colab_type": "code",
        "outputId": "00b02218-35ae-42b7-d71d-daf7af1eefe5",
        "colab": {
          "base_uri": "https://localhost:8080/",
          "height": 85
        }
      },
      "source": [
        "#Enable CUDA GPU\n",
        "!nvcc --version"
      ],
      "execution_count": 0,
      "outputs": [
        {
          "output_type": "stream",
          "text": [
            "nvcc: NVIDIA (R) Cuda compiler driver\n",
            "Copyright (c) 2005-2018 NVIDIA Corporation\n",
            "Built on Sat_Aug_25_21:08:01_CDT_2018\n",
            "Cuda compilation tools, release 10.0, V10.0.130\n"
          ],
          "name": "stdout"
        }
      ]
    },
    {
      "cell_type": "code",
      "metadata": {
        "id": "5X6q1-9NUgPE",
        "colab_type": "code",
        "colab": {}
      },
      "source": [
        "# Only need to do once\n",
        "#%cd /content/drive/My\\ Drive/City\\ Msc\\ Data\\ Science/ComputerVision/\n",
        "#!ls -l\n",
        "#!tar -xzvf crops.tar.gz"
      ],
      "execution_count": 0,
      "outputs": []
    },
    {
      "cell_type": "code",
      "metadata": {
        "id": "bg4esxfc6ADt",
        "colab_type": "code",
        "outputId": "3add18d3-ee6d-48c6-931c-218b34ae368a",
        "colab": {
          "base_uri": "https://localhost:8080/",
          "height": 119
        }
      },
      "source": [
        "%cd /content/drive/My\\ Drive/City\\ Msc\\ Data\\ Science/ComputerVision/crops/\n",
        "!ls -l"
      ],
      "execution_count": 0,
      "outputs": [
        {
          "output_type": "stream",
          "text": [
            "/content/drive/My Drive/City Msc Data Science/ComputerVision/crops\n",
            "total 19\n",
            "-rw------- 1 root root 6477 Apr 18 17:23  juan.jpg\n",
            "drwx------ 2 root root 4096 Apr 22 16:35 'model(?)'\n",
            "drwx------ 2 root root 4096 Apr 16 18:53  test\n",
            "drwx------ 2 root root 4096 Apr 16 18:53  train\n"
          ],
          "name": "stdout"
        }
      ]
    },
    {
      "cell_type": "markdown",
      "metadata": {
        "id": "alZke1ghwxlC",
        "colab_type": "text"
      },
      "source": [
        "Downgrade OPENCV version to access SIFT/SURF"
      ]
    },
    {
      "cell_type": "code",
      "metadata": {
        "id": "7-oGXKp7Hhg9",
        "colab_type": "code",
        "outputId": "be68f2a7-7c23-49c0-c1c6-541c17ca93b0",
        "colab": {
          "base_uri": "https://localhost:8080/",
          "height": 340
        }
      },
      "source": [
        "!pip install opencv-python==3.4.2.16\n",
        "!pip install opencv-contrib-python==3.4.2.16"
      ],
      "execution_count": 0,
      "outputs": [
        {
          "output_type": "stream",
          "text": [
            "Collecting opencv-python==3.4.2.16\n",
            "\u001b[?25l  Downloading https://files.pythonhosted.org/packages/fa/7d/5042b668a8ed41d2a80b8c172f5efcd572e3c046c75ae029407e19b7fc68/opencv_python-3.4.2.16-cp36-cp36m-manylinux1_x86_64.whl (25.0MB)\n",
            "\u001b[K     |████████████████████████████████| 25.0MB 4.4MB/s \n",
            "\u001b[?25hRequirement already satisfied: numpy>=1.11.3 in /usr/local/lib/python3.6/dist-packages (from opencv-python==3.4.2.16) (1.16.3)\n",
            "\u001b[31mERROR: albumentations 0.1.12 has requirement imgaug<0.2.7,>=0.2.5, but you'll have imgaug 0.2.8 which is incompatible.\u001b[0m\n",
            "Installing collected packages: opencv-python\n",
            "  Found existing installation: opencv-python 3.4.5.20\n",
            "    Uninstalling opencv-python-3.4.5.20:\n",
            "      Successfully uninstalled opencv-python-3.4.5.20\n",
            "Successfully installed opencv-python-3.4.2.16\n",
            "Collecting opencv-contrib-python==3.4.2.16\n",
            "\u001b[?25l  Downloading https://files.pythonhosted.org/packages/08/f1/66330f4042c4fb3b2d77a159db8e8916d9cdecc29bc8c1f56bc7f8a9bec9/opencv_contrib_python-3.4.2.16-cp36-cp36m-manylinux1_x86_64.whl (30.6MB)\n",
            "\u001b[K     |████████████████████████████████| 30.6MB 1.4MB/s \n",
            "\u001b[?25hRequirement already satisfied: numpy>=1.11.3 in /usr/local/lib/python3.6/dist-packages (from opencv-contrib-python==3.4.2.16) (1.16.3)\n",
            "Installing collected packages: opencv-contrib-python\n",
            "  Found existing installation: opencv-contrib-python 3.4.3.18\n",
            "    Uninstalling opencv-contrib-python-3.4.3.18:\n",
            "      Successfully uninstalled opencv-contrib-python-3.4.3.18\n",
            "Successfully installed opencv-contrib-python-3.4.2.16\n"
          ],
          "name": "stdout"
        }
      ]
    },
    {
      "cell_type": "markdown",
      "metadata": {
        "id": "2OiNOoQwaN7B",
        "colab_type": "text"
      },
      "source": [
        "# SVM/MLP Training\n"
      ]
    },
    {
      "cell_type": "code",
      "metadata": {
        "id": "7DQ78uZfNKw-",
        "colab_type": "code",
        "colab": {}
      },
      "source": [
        "import cv2\n",
        "import numpy as np\n",
        "import os\n",
        "from functools import reduce\n",
        "from sklearn.cluster import MiniBatchKMeans\n",
        "from sklearn.neural_network import MLPClassifier\n",
        "from sklearn import svm\n",
        "from sklearn.metrics import confusion_matrix \n",
        "from sklearn.metrics import f1_score\n",
        "from sklearn.metrics import accuracy_score\n",
        "from sklearn.externals import joblib\n",
        "import time"
      ],
      "execution_count": 0,
      "outputs": []
    },
    {
      "cell_type": "code",
      "metadata": {
        "id": "dR09LfoMGccp",
        "colab_type": "code",
        "outputId": "8bea29c8-4ae7-456d-fad5-d67f26ddfd37",
        "colab": {
          "base_uri": "https://localhost:8080/",
          "height": 34
        }
      },
      "source": [
        "cv2.__version__"
      ],
      "execution_count": 0,
      "outputs": [
        {
          "output_type": "execute_result",
          "data": {
            "text/plain": [
              "'3.4.2'"
            ]
          },
          "metadata": {
            "tags": []
          },
          "execution_count": 6
        }
      ]
    },
    {
      "cell_type": "code",
      "metadata": {
        "id": "Q9eK-E10OtmV",
        "colab_type": "code",
        "colab": {}
      },
      "source": [
        "import timeit\n",
        "import time\n",
        "\n",
        "class Timer(object):\n",
        "    def __init__(self, verbose=False):\n",
        "        self.verbose = verbose\n",
        "\n",
        "    def __enter__(self):\n",
        "        self.start = timeit.default_timer()\n",
        "        return self\n",
        "\n",
        "    def __exit__(self, *args):\n",
        "        self.end = timeit.default_timer()\n",
        "        self.secs = self.end - self.start\n",
        "        self.msecs = self.secs * 1000  # millisecs\n",
        "        if self.verbose:\n",
        "            print(\"elapsed time:\", self.msecs)"
      ],
      "execution_count": 0,
      "outputs": []
    },
    {
      "cell_type": "code",
      "metadata": {
        "id": "alMT1O-WIWtH",
        "colab_type": "code",
        "colab": {}
      },
      "source": [
        "TRAIN_DATA = 'train/'\n",
        "TEST_DATA  = 'test/'\n",
        "\n",
        "NUM_CLASSES = len(os.listdir(TRAIN_DATA))\n",
        "K = NUM_CLASSES * 5  # KMeans Classes\n",
        "\n",
        "sift = cv2.xfeatures2d.SIFT_create()\n",
        "surf = cv2.xfeatures2d.SURF_create()\n",
        "orb = cv2.ORB_create()\n",
        "\n",
        "def getSIFTfeatures(gray_img):\n",
        "    #sift = cv2.xfeatures2d.SIFT_create() #What threshold?\n",
        "    kp, desc = sift.detectAndCompute(gray_img, None)\n",
        "    return kp, desc\n",
        "\n",
        "def getSURFfeatures(gray_img):  \n",
        "    #surf = cv2.xfeatures2d.SURF_create() #what threshold?\n",
        "    surf.setExtended(True) # --> to expand to 128 dim.\n",
        "    kp, desc = surf.detectAndCompute(gray_img, None)\n",
        "    return kp, desc\n",
        "\n",
        "def getORBfeatures(gray_img):\n",
        "    # Initiate ORB detector\n",
        "    #orb = cv2.ORB_create()\n",
        "    # find the keypoints with ORB\n",
        "    kp = orb.detect(gray_img,None)\n",
        "    # compute the descriptors with ORB\n",
        "    kp, desc = orb.compute(gray_img, kp)\n",
        "    return kp, desc\n",
        "\n",
        "def extractFeatures(crop_list, featureFunc):\n",
        "    descriptors = {}\n",
        "    \n",
        "    for i in range(0, len(crop_list)):\n",
        "       # gray = cv2.cvtColor(crop_list[i], cv2.COLOR_BGR2GRAY)\n",
        "        kp, desc = featureFunc(crop_list[i])\n",
        "        if type(desc) == type(None):\n",
        "          print('No Features Extracted')\n",
        "          continue\n",
        "          \n",
        "        descriptors[i] = desc\n",
        "        \n",
        "    return descriptors\n",
        "  \n",
        "def groupAllFeatures(desc_hash):\n",
        "    all_desc = []\n",
        "    for person, crops in desc_hash.items():\n",
        "        for idx, descs in crops.items():\n",
        "            all_desc.extend(descs)\n",
        "            \n",
        "    return all_desc\n",
        "        \n",
        "\n",
        "def trainKMeans(descriptors):\n",
        "     \n",
        "    # Train KMeans\n",
        "    initial_size = 3 * K\n",
        "    batch_size = int(len(descriptors) / 3)  # What's a good metric to determine this number? \n",
        "    kmeans = MiniBatchKMeans(n_clusters=K, batch_size=batch_size, init_size=initial_size, verbose=0).fit(descriptors)\n",
        "    \n",
        "    return kmeans\n",
        "    \n",
        "def generateHistograms(descriptors, kmeans_centers):\n",
        "    \n",
        "    ## Generate Histogram \n",
        "    histograms = []\n",
        "    for i, desc in descriptors.items(): \n",
        "        preds = kmeans_centers.predict(desc)\n",
        "        hist, bin_edges=np.histogram(preds, bins=range(0, K)) # Normalize by number of keypoints?? \n",
        "        histograms.append(hist)\n",
        "    \n",
        "    return histograms\n"
      ],
      "execution_count": 0,
      "outputs": []
    },
    {
      "cell_type": "markdown",
      "metadata": {
        "id": "6Kui_j5JX8bE",
        "colab_type": "text"
      },
      "source": [
        "#### Extract features separately  in order to time"
      ]
    },
    {
      "cell_type": "code",
      "metadata": {
        "id": "zEyp-1oxNKl6",
        "colab_type": "code",
        "outputId": "50fc047c-9d61-4bb4-94f2-8c6faf10acb1",
        "colab": {
          "base_uri": "https://localhost:8080/",
          "height": 2397
        }
      },
      "source": [
        "allSIFT = {}\n",
        "\n",
        "people = os.listdir(TRAIN_DATA)    \n",
        "\n",
        "wall_start, cpu_start = time.time(), time.clock()\n",
        "i, total = 0,len(people)\n",
        "\n",
        "with Timer() as t:\n",
        "  for person in people:\n",
        "      i += 1\n",
        "      print(\"Processing Sub Dir\", person, \"[\", i , \"/\", total, \"]\" )\n",
        "\n",
        "      #read in cropped data\n",
        "      crop_names = os.listdir(os.path.join(TRAIN_DATA, person))\n",
        "      crop_names = list(map(lambda x: os.path.join(TRAIN_DATA, person, x), crop_names)) \n",
        "      crops = [cv2.imread(x , cv2.IMREAD_GRAYSCALE) for x in crop_names ]\n",
        "\n",
        "      # get SIFT Features\n",
        "      sift_desc = extractFeatures(crops, getSIFTfeatures)\n",
        "      allSIFT[person] = sift_desc\n",
        "      print(\"Extracted SIFT\")\n",
        "\n",
        "print(\"\\n\",\"Time\", t.secs)\n"
      ],
      "execution_count": 0,
      "outputs": [
        {
          "output_type": "stream",
          "text": [
            "Processing Sub Dir 43 [ 1 / 69 ]\n",
            "Extracted SIFT\n",
            "Processing Sub Dir 66 [ 2 / 69 ]\n",
            "Extracted SIFT\n",
            "Processing Sub Dir 24 [ 3 / 69 ]\n",
            "Extracted SIFT\n",
            "Processing Sub Dir 8 [ 4 / 69 ]\n",
            "Extracted SIFT\n",
            "Processing Sub Dir 54 [ 5 / 69 ]\n",
            "Extracted SIFT\n",
            "Processing Sub Dir 22 [ 6 / 69 ]\n",
            "Extracted SIFT\n",
            "Processing Sub Dir 11 [ 7 / 69 ]\n",
            "Extracted SIFT\n",
            "Processing Sub Dir 76 [ 8 / 69 ]\n",
            "Extracted SIFT\n",
            "Processing Sub Dir 69 [ 9 / 69 ]\n",
            "Extracted SIFT\n",
            "Processing Sub Dir 74 [ 10 / 69 ]\n",
            "Extracted SIFT\n",
            "Processing Sub Dir 9 [ 11 / 69 ]\n",
            "Extracted SIFT\n",
            "Processing Sub Dir 13 [ 12 / 69 ]\n",
            "Extracted SIFT\n",
            "Processing Sub Dir 38 [ 13 / 69 ]\n",
            "Extracted SIFT\n",
            "Processing Sub Dir 81 [ 14 / 69 ]\n",
            "Extracted SIFT\n",
            "Processing Sub Dir 67 [ 15 / 69 ]\n",
            "Extracted SIFT\n",
            "Processing Sub Dir 55 [ 16 / 69 ]\n",
            "Extracted SIFT\n",
            "Processing Sub Dir 65 [ 17 / 69 ]\n",
            "Extracted SIFT\n",
            "Processing Sub Dir 41 [ 18 / 69 ]\n",
            "Extracted SIFT\n",
            "Processing Sub Dir 7 [ 19 / 69 ]\n",
            "Extracted SIFT\n",
            "Processing Sub Dir 45 [ 20 / 69 ]\n",
            "Extracted SIFT\n",
            "Processing Sub Dir 78 [ 21 / 69 ]\n",
            "Extracted SIFT\n",
            "Processing Sub Dir 50 [ 22 / 69 ]\n",
            "Extracted SIFT\n",
            "Processing Sub Dir 62 [ 23 / 69 ]\n",
            "Extracted SIFT\n",
            "Processing Sub Dir 44 [ 24 / 69 ]\n",
            "Extracted SIFT\n",
            "Processing Sub Dir 75 [ 25 / 69 ]\n",
            "Extracted SIFT\n",
            "Processing Sub Dir 60 [ 26 / 69 ]\n",
            "Extracted SIFT\n",
            "Processing Sub Dir 57 [ 27 / 69 ]\n",
            "Extracted SIFT\n",
            "Processing Sub Dir 40 [ 28 / 69 ]\n",
            "Extracted SIFT\n",
            "Processing Sub Dir 21 [ 29 / 69 ]\n",
            "Extracted SIFT\n",
            "Processing Sub Dir 15 [ 30 / 69 ]\n",
            "Extracted SIFT\n",
            "Processing Sub Dir 12 [ 31 / 69 ]\n",
            "Extracted SIFT\n",
            "Processing Sub Dir 61 [ 32 / 69 ]\n",
            "Extracted SIFT\n",
            "Processing Sub Dir 49 [ 33 / 69 ]\n",
            "Extracted SIFT\n",
            "Processing Sub Dir 77 [ 34 / 69 ]\n",
            "Extracted SIFT\n",
            "Processing Sub Dir 42 [ 35 / 69 ]\n",
            "Extracted SIFT\n",
            "Processing Sub Dir 48 [ 36 / 69 ]\n",
            "Extracted SIFT\n",
            "Processing Sub Dir 58 [ 37 / 69 ]\n",
            "Extracted SIFT\n",
            "Processing Sub Dir 3 [ 38 / 69 ]\n",
            "Extracted SIFT\n",
            "Processing Sub Dir 71 [ 39 / 69 ]\n",
            "Extracted SIFT\n",
            "Processing Sub Dir 46 [ 40 / 69 ]\n",
            "Extracted SIFT\n",
            "Processing Sub Dir 59 [ 41 / 69 ]\n",
            "Extracted SIFT\n",
            "Processing Sub Dir 52 [ 42 / 69 ]\n",
            "Extracted SIFT\n",
            "Processing Sub Dir 16 [ 43 / 69 ]\n",
            "Extracted SIFT\n",
            "Processing Sub Dir 36 [ 44 / 69 ]\n",
            "Extracted SIFT\n",
            "Processing Sub Dir 47 [ 45 / 69 ]\n",
            "Extracted SIFT\n",
            "Processing Sub Dir 79 [ 46 / 69 ]\n",
            "Extracted SIFT\n",
            "Processing Sub Dir 56 [ 47 / 69 ]\n",
            "Extracted SIFT\n",
            "Processing Sub Dir 2 [ 48 / 69 ]\n",
            "Extracted SIFT\n",
            "Processing Sub Dir 64 [ 49 / 69 ]\n",
            "Extracted SIFT\n",
            "Processing Sub Dir 39 [ 50 / 69 ]\n",
            "Extracted SIFT\n",
            "Processing Sub Dir 10 [ 51 / 69 ]\n",
            "Extracted SIFT\n",
            "Processing Sub Dir 68 [ 52 / 69 ]\n",
            "Extracted SIFT\n",
            "Processing Sub Dir 4 [ 53 / 69 ]\n",
            "Extracted SIFT\n",
            "Processing Sub Dir 5 [ 54 / 69 ]\n",
            "Extracted SIFT\n",
            "Processing Sub Dir 51 [ 55 / 69 ]\n",
            "Extracted SIFT\n",
            "Processing Sub Dir 80 [ 56 / 69 ]\n",
            "Extracted SIFT\n",
            "Processing Sub Dir 70 [ 57 / 69 ]\n",
            "Extracted SIFT\n",
            "Processing Sub Dir 33 [ 58 / 69 ]\n",
            "Extracted SIFT\n",
            "Processing Sub Dir 14 [ 59 / 69 ]\n",
            "Extracted SIFT\n",
            "Processing Sub Dir 17 [ 60 / 69 ]\n",
            "Extracted SIFT\n",
            "Processing Sub Dir 73 [ 61 / 69 ]\n",
            "Extracted SIFT\n",
            "Processing Sub Dir 37 [ 62 / 69 ]\n",
            "Extracted SIFT\n",
            "Processing Sub Dir 20 [ 63 / 69 ]\n",
            "Extracted SIFT\n",
            "Processing Sub Dir 72 [ 64 / 69 ]\n",
            "Extracted SIFT\n",
            "Processing Sub Dir 6 [ 65 / 69 ]\n",
            "Extracted SIFT\n",
            "Processing Sub Dir 53 [ 66 / 69 ]\n",
            "Extracted SIFT\n",
            "Processing Sub Dir 63 [ 67 / 69 ]\n",
            "Extracted SIFT\n",
            "Processing Sub Dir 34 [ 68 / 69 ]\n",
            "Extracted SIFT\n",
            "Processing Sub Dir 1 [ 69 / 69 ]\n",
            "Extracted SIFT\n",
            "\n",
            " Time 60.181477559000086\n"
          ],
          "name": "stdout"
        }
      ]
    },
    {
      "cell_type": "code",
      "metadata": {
        "id": "v05CFgmdNK6-",
        "colab_type": "code",
        "outputId": "537fe2cb-abb2-4d44-c484-7dc53013e719",
        "colab": {
          "base_uri": "https://localhost:8080/",
          "height": 2397
        }
      },
      "source": [
        "allSURF = {}\n",
        "people = os.listdir(TRAIN_DATA)    \n",
        "\n",
        "i, total = 0,len(people)\n",
        "\n",
        "with Timer() as t:\n",
        "  for person in people:\n",
        "      i += 1\n",
        "      print(\"Processing Sub Dir\", person, \"[\", i , \"/\", total, \"]\" )\n",
        "\n",
        "\n",
        "      #read in cropped data\n",
        "      crop_names = os.listdir(os.path.join(TRAIN_DATA, person))\n",
        "      crop_names = list(map(lambda x: os.path.join(TRAIN_DATA, person, x), crop_names)) \n",
        "      crops = [cv2.imread(x , cv2.IMREAD_GRAYSCALE) for x in crop_names ]\n",
        "\n",
        "      # get SURF Features\n",
        "      surf_desc = extractFeatures(crops, getSURFfeatures)\n",
        "      allSURF[person] = surf_desc\n",
        "      print(\"Extracted SURF\")\n",
        "\n",
        "                 \n",
        "print(\"\\n\",\"Time\", t.secs)                 \n",
        "\n"
      ],
      "execution_count": 0,
      "outputs": [
        {
          "output_type": "stream",
          "text": [
            "Processing Sub Dir 43 [ 1 / 69 ]\n",
            "Extracted SURF\n",
            "Processing Sub Dir 66 [ 2 / 69 ]\n",
            "Extracted SURF\n",
            "Processing Sub Dir 24 [ 3 / 69 ]\n",
            "Extracted SURF\n",
            "Processing Sub Dir 8 [ 4 / 69 ]\n",
            "Extracted SURF\n",
            "Processing Sub Dir 54 [ 5 / 69 ]\n",
            "Extracted SURF\n",
            "Processing Sub Dir 22 [ 6 / 69 ]\n",
            "Extracted SURF\n",
            "Processing Sub Dir 11 [ 7 / 69 ]\n",
            "Extracted SURF\n",
            "Processing Sub Dir 76 [ 8 / 69 ]\n",
            "Extracted SURF\n",
            "Processing Sub Dir 69 [ 9 / 69 ]\n",
            "Extracted SURF\n",
            "Processing Sub Dir 74 [ 10 / 69 ]\n",
            "Extracted SURF\n",
            "Processing Sub Dir 9 [ 11 / 69 ]\n",
            "Extracted SURF\n",
            "Processing Sub Dir 13 [ 12 / 69 ]\n",
            "Extracted SURF\n",
            "Processing Sub Dir 38 [ 13 / 69 ]\n",
            "Extracted SURF\n",
            "Processing Sub Dir 81 [ 14 / 69 ]\n",
            "Extracted SURF\n",
            "Processing Sub Dir 67 [ 15 / 69 ]\n",
            "Extracted SURF\n",
            "Processing Sub Dir 55 [ 16 / 69 ]\n",
            "Extracted SURF\n",
            "Processing Sub Dir 65 [ 17 / 69 ]\n",
            "Extracted SURF\n",
            "Processing Sub Dir 41 [ 18 / 69 ]\n",
            "Extracted SURF\n",
            "Processing Sub Dir 7 [ 19 / 69 ]\n",
            "Extracted SURF\n",
            "Processing Sub Dir 45 [ 20 / 69 ]\n",
            "Extracted SURF\n",
            "Processing Sub Dir 78 [ 21 / 69 ]\n",
            "Extracted SURF\n",
            "Processing Sub Dir 50 [ 22 / 69 ]\n",
            "Extracted SURF\n",
            "Processing Sub Dir 62 [ 23 / 69 ]\n",
            "Extracted SURF\n",
            "Processing Sub Dir 44 [ 24 / 69 ]\n",
            "Extracted SURF\n",
            "Processing Sub Dir 75 [ 25 / 69 ]\n",
            "Extracted SURF\n",
            "Processing Sub Dir 60 [ 26 / 69 ]\n",
            "Extracted SURF\n",
            "Processing Sub Dir 57 [ 27 / 69 ]\n",
            "Extracted SURF\n",
            "Processing Sub Dir 40 [ 28 / 69 ]\n",
            "Extracted SURF\n",
            "Processing Sub Dir 21 [ 29 / 69 ]\n",
            "Extracted SURF\n",
            "Processing Sub Dir 15 [ 30 / 69 ]\n",
            "Extracted SURF\n",
            "Processing Sub Dir 12 [ 31 / 69 ]\n",
            "Extracted SURF\n",
            "Processing Sub Dir 61 [ 32 / 69 ]\n",
            "Extracted SURF\n",
            "Processing Sub Dir 49 [ 33 / 69 ]\n",
            "Extracted SURF\n",
            "Processing Sub Dir 77 [ 34 / 69 ]\n",
            "Extracted SURF\n",
            "Processing Sub Dir 42 [ 35 / 69 ]\n",
            "Extracted SURF\n",
            "Processing Sub Dir 48 [ 36 / 69 ]\n",
            "Extracted SURF\n",
            "Processing Sub Dir 58 [ 37 / 69 ]\n",
            "Extracted SURF\n",
            "Processing Sub Dir 3 [ 38 / 69 ]\n",
            "Extracted SURF\n",
            "Processing Sub Dir 71 [ 39 / 69 ]\n",
            "Extracted SURF\n",
            "Processing Sub Dir 46 [ 40 / 69 ]\n",
            "Extracted SURF\n",
            "Processing Sub Dir 59 [ 41 / 69 ]\n",
            "Extracted SURF\n",
            "Processing Sub Dir 52 [ 42 / 69 ]\n",
            "Extracted SURF\n",
            "Processing Sub Dir 16 [ 43 / 69 ]\n",
            "Extracted SURF\n",
            "Processing Sub Dir 36 [ 44 / 69 ]\n",
            "Extracted SURF\n",
            "Processing Sub Dir 47 [ 45 / 69 ]\n",
            "Extracted SURF\n",
            "Processing Sub Dir 79 [ 46 / 69 ]\n",
            "Extracted SURF\n",
            "Processing Sub Dir 56 [ 47 / 69 ]\n",
            "Extracted SURF\n",
            "Processing Sub Dir 2 [ 48 / 69 ]\n",
            "Extracted SURF\n",
            "Processing Sub Dir 64 [ 49 / 69 ]\n",
            "Extracted SURF\n",
            "Processing Sub Dir 39 [ 50 / 69 ]\n",
            "Extracted SURF\n",
            "Processing Sub Dir 10 [ 51 / 69 ]\n",
            "Extracted SURF\n",
            "Processing Sub Dir 68 [ 52 / 69 ]\n",
            "Extracted SURF\n",
            "Processing Sub Dir 4 [ 53 / 69 ]\n",
            "Extracted SURF\n",
            "Processing Sub Dir 5 [ 54 / 69 ]\n",
            "Extracted SURF\n",
            "Processing Sub Dir 51 [ 55 / 69 ]\n",
            "Extracted SURF\n",
            "Processing Sub Dir 80 [ 56 / 69 ]\n",
            "Extracted SURF\n",
            "Processing Sub Dir 70 [ 57 / 69 ]\n",
            "Extracted SURF\n",
            "Processing Sub Dir 33 [ 58 / 69 ]\n",
            "Extracted SURF\n",
            "Processing Sub Dir 14 [ 59 / 69 ]\n",
            "Extracted SURF\n",
            "Processing Sub Dir 17 [ 60 / 69 ]\n",
            "Extracted SURF\n",
            "Processing Sub Dir 73 [ 61 / 69 ]\n",
            "Extracted SURF\n",
            "Processing Sub Dir 37 [ 62 / 69 ]\n",
            "Extracted SURF\n",
            "Processing Sub Dir 20 [ 63 / 69 ]\n",
            "Extracted SURF\n",
            "Processing Sub Dir 72 [ 64 / 69 ]\n",
            "Extracted SURF\n",
            "Processing Sub Dir 6 [ 65 / 69 ]\n",
            "Extracted SURF\n",
            "Processing Sub Dir 53 [ 66 / 69 ]\n",
            "Extracted SURF\n",
            "Processing Sub Dir 63 [ 67 / 69 ]\n",
            "Extracted SURF\n",
            "Processing Sub Dir 34 [ 68 / 69 ]\n",
            "Extracted SURF\n",
            "Processing Sub Dir 1 [ 69 / 69 ]\n",
            "Extracted SURF\n",
            "\n",
            " Time 93.72377456699996\n"
          ],
          "name": "stdout"
        }
      ]
    },
    {
      "cell_type": "code",
      "metadata": {
        "id": "j-b8HdcENLIU",
        "colab_type": "code",
        "outputId": "cd94314b-0390-44df-b6bc-b993ebd660ca",
        "colab": {
          "base_uri": "https://localhost:8080/",
          "height": 2669
        }
      },
      "source": [
        "allORB = {}\n",
        "\n",
        "people = os.listdir(TRAIN_DATA)    \n",
        "\n",
        "\n",
        "i, total = 0,len(people)\n",
        "with Timer() as t:\n",
        "  for person in people:\n",
        "      i += 1\n",
        "      print(\"Processing Sub Dir\", person, \"[\", i , \"/\", total, \"]\" )\n",
        "\n",
        "\n",
        "      #read in cropped data\n",
        "      crop_names = os.listdir(os.path.join(TRAIN_DATA, person))\n",
        "      crop_names = list(map(lambda x: os.path.join(TRAIN_DATA, person, x), crop_names)) \n",
        "      crops = [cv2.imread(x , cv2.IMREAD_GRAYSCALE) for x in crop_names ]\n",
        "\n",
        "      # get ORB Features\n",
        "      orb_desc = extractFeatures(crops, getORBfeatures)\n",
        "      allORB[person] = orb_desc\n",
        "      print(\"Extracted ORB\")\n",
        "                 \n",
        "print(\"\\n\", \"Time\", t.secs)                  "
      ],
      "execution_count": 0,
      "outputs": [
        {
          "output_type": "stream",
          "text": [
            "Processing Sub Dir 43 [ 1 / 69 ]\n",
            "Extracted ORB\n",
            "Processing Sub Dir 66 [ 2 / 69 ]\n",
            "Extracted ORB\n",
            "Processing Sub Dir 24 [ 3 / 69 ]\n",
            "Extracted ORB\n",
            "Processing Sub Dir 8 [ 4 / 69 ]\n",
            "Extracted ORB\n",
            "Processing Sub Dir 54 [ 5 / 69 ]\n",
            "Extracted ORB\n",
            "Processing Sub Dir 22 [ 6 / 69 ]\n",
            "Extracted ORB\n",
            "Processing Sub Dir 11 [ 7 / 69 ]\n",
            "Extracted ORB\n",
            "Processing Sub Dir 76 [ 8 / 69 ]\n",
            "Extracted ORB\n",
            "Processing Sub Dir 69 [ 9 / 69 ]\n",
            "Extracted ORB\n",
            "Processing Sub Dir 74 [ 10 / 69 ]\n",
            "Extracted ORB\n",
            "Processing Sub Dir 9 [ 11 / 69 ]\n",
            "Extracted ORB\n",
            "Processing Sub Dir 13 [ 12 / 69 ]\n",
            "Extracted ORB\n",
            "Processing Sub Dir 38 [ 13 / 69 ]\n",
            "Extracted ORB\n",
            "Processing Sub Dir 81 [ 14 / 69 ]\n",
            "Extracted ORB\n",
            "Processing Sub Dir 67 [ 15 / 69 ]\n",
            "Extracted ORB\n",
            "Processing Sub Dir 55 [ 16 / 69 ]\n",
            "Extracted ORB\n",
            "Processing Sub Dir 65 [ 17 / 69 ]\n",
            "Extracted ORB\n",
            "Processing Sub Dir 41 [ 18 / 69 ]\n",
            "Extracted ORB\n",
            "Processing Sub Dir 7 [ 19 / 69 ]\n",
            "Extracted ORB\n",
            "Processing Sub Dir 45 [ 20 / 69 ]\n",
            "Extracted ORB\n",
            "Processing Sub Dir 78 [ 21 / 69 ]\n",
            "Extracted ORB\n",
            "Processing Sub Dir 50 [ 22 / 69 ]\n",
            "Extracted ORB\n",
            "Processing Sub Dir 62 [ 23 / 69 ]\n",
            "No Features Extracted\n",
            "No Features Extracted\n",
            "No Features Extracted\n",
            "Extracted ORB\n",
            "Processing Sub Dir 44 [ 24 / 69 ]\n",
            "Extracted ORB\n",
            "Processing Sub Dir 75 [ 25 / 69 ]\n",
            "Extracted ORB\n",
            "Processing Sub Dir 60 [ 26 / 69 ]\n",
            "Extracted ORB\n",
            "Processing Sub Dir 57 [ 27 / 69 ]\n",
            "Extracted ORB\n",
            "Processing Sub Dir 40 [ 28 / 69 ]\n",
            "Extracted ORB\n",
            "Processing Sub Dir 21 [ 29 / 69 ]\n",
            "Extracted ORB\n",
            "Processing Sub Dir 15 [ 30 / 69 ]\n",
            "Extracted ORB\n",
            "Processing Sub Dir 12 [ 31 / 69 ]\n",
            "Extracted ORB\n",
            "Processing Sub Dir 61 [ 32 / 69 ]\n",
            "Extracted ORB\n",
            "Processing Sub Dir 49 [ 33 / 69 ]\n",
            "Extracted ORB\n",
            "Processing Sub Dir 77 [ 34 / 69 ]\n",
            "Extracted ORB\n",
            "Processing Sub Dir 42 [ 35 / 69 ]\n",
            "Extracted ORB\n",
            "Processing Sub Dir 48 [ 36 / 69 ]\n",
            "Extracted ORB\n",
            "Processing Sub Dir 58 [ 37 / 69 ]\n",
            "Extracted ORB\n",
            "Processing Sub Dir 3 [ 38 / 69 ]\n",
            "No Features Extracted\n",
            "No Features Extracted\n",
            "No Features Extracted\n",
            "No Features Extracted\n",
            "No Features Extracted\n",
            "No Features Extracted\n",
            "Extracted ORB\n",
            "Processing Sub Dir 71 [ 39 / 69 ]\n",
            "Extracted ORB\n",
            "Processing Sub Dir 46 [ 40 / 69 ]\n",
            "Extracted ORB\n",
            "Processing Sub Dir 59 [ 41 / 69 ]\n",
            "Extracted ORB\n",
            "Processing Sub Dir 52 [ 42 / 69 ]\n",
            "Extracted ORB\n",
            "Processing Sub Dir 16 [ 43 / 69 ]\n",
            "Extracted ORB\n",
            "Processing Sub Dir 36 [ 44 / 69 ]\n",
            "Extracted ORB\n",
            "Processing Sub Dir 47 [ 45 / 69 ]\n",
            "No Features Extracted\n",
            "Extracted ORB\n",
            "Processing Sub Dir 79 [ 46 / 69 ]\n",
            "Extracted ORB\n",
            "Processing Sub Dir 56 [ 47 / 69 ]\n",
            "Extracted ORB\n",
            "Processing Sub Dir 2 [ 48 / 69 ]\n",
            "Extracted ORB\n",
            "Processing Sub Dir 64 [ 49 / 69 ]\n",
            "Extracted ORB\n",
            "Processing Sub Dir 39 [ 50 / 69 ]\n",
            "Extracted ORB\n",
            "Processing Sub Dir 10 [ 51 / 69 ]\n",
            "Extracted ORB\n",
            "Processing Sub Dir 68 [ 52 / 69 ]\n",
            "No Features Extracted\n",
            "No Features Extracted\n",
            "No Features Extracted\n",
            "No Features Extracted\n",
            "No Features Extracted\n",
            "Extracted ORB\n",
            "Processing Sub Dir 4 [ 53 / 69 ]\n",
            "Extracted ORB\n",
            "Processing Sub Dir 5 [ 54 / 69 ]\n",
            "Extracted ORB\n",
            "Processing Sub Dir 51 [ 55 / 69 ]\n",
            "No Features Extracted\n",
            "Extracted ORB\n",
            "Processing Sub Dir 80 [ 56 / 69 ]\n",
            "Extracted ORB\n",
            "Processing Sub Dir 70 [ 57 / 69 ]\n",
            "Extracted ORB\n",
            "Processing Sub Dir 33 [ 58 / 69 ]\n",
            "Extracted ORB\n",
            "Processing Sub Dir 14 [ 59 / 69 ]\n",
            "Extracted ORB\n",
            "Processing Sub Dir 17 [ 60 / 69 ]\n",
            "Extracted ORB\n",
            "Processing Sub Dir 73 [ 61 / 69 ]\n",
            "Extracted ORB\n",
            "Processing Sub Dir 37 [ 62 / 69 ]\n",
            "Extracted ORB\n",
            "Processing Sub Dir 20 [ 63 / 69 ]\n",
            "Extracted ORB\n",
            "Processing Sub Dir 72 [ 64 / 69 ]\n",
            "Extracted ORB\n",
            "Processing Sub Dir 6 [ 65 / 69 ]\n",
            "Extracted ORB\n",
            "Processing Sub Dir 53 [ 66 / 69 ]\n",
            "Extracted ORB\n",
            "Processing Sub Dir 63 [ 67 / 69 ]\n",
            "Extracted ORB\n",
            "Processing Sub Dir 34 [ 68 / 69 ]\n",
            "Extracted ORB\n",
            "Processing Sub Dir 1 [ 69 / 69 ]\n",
            "Extracted ORB\n",
            "\n",
            " Time 17.94920523399969\n"
          ],
          "name": "stdout"
        }
      ]
    },
    {
      "cell_type": "markdown",
      "metadata": {
        "id": "2WaRpRmxSu3s",
        "colab_type": "text"
      },
      "source": [
        "#### Create Bag of Visual Words"
      ]
    },
    {
      "cell_type": "code",
      "metadata": {
        "id": "aomdV9f9Eube",
        "colab_type": "code",
        "outputId": "28d8639e-1b2e-4e03-c5b1-e3d6aef168e5",
        "colab": {
          "base_uri": "https://localhost:8080/",
          "height": 72
        }
      },
      "source": [
        "### Group Features\n",
        "\n",
        "sift_matrix = groupAllFeatures(allSIFT)\n",
        "surf_matrix = groupAllFeatures(allSURF)\n",
        "orb_matrix = groupAllFeatures(allORB)\n",
        "\n",
        "### Train KMeans\n",
        "sift_kmeans = None\n",
        "surf_kmeans = None\n",
        "orb_kmeans = None\n",
        "\n",
        "print(\"Training SIFT KMeans\")\n",
        "sift_kmeans = trainKMeans(sift_matrix)\n",
        "\n",
        "print(\"Training SURF KMeans\")\n",
        "surf_kmeans = trainKMeans(surf_matrix)\n",
        "\n",
        "print(\"Training ORB KMeans\")\n",
        "orb_kmeans = trainKMeans(orb_matrix)"
      ],
      "execution_count": 0,
      "outputs": [
        {
          "output_type": "stream",
          "text": [
            "Training SIFT KMeans\n",
            "Training SURF KMeans\n",
            "Training ORB KMeans\n"
          ],
          "name": "stdout"
        }
      ]
    },
    {
      "cell_type": "markdown",
      "metadata": {
        "id": "D4Sqo4esRzQQ",
        "colab_type": "text"
      },
      "source": [
        "#### Prepare Training Data"
      ]
    },
    {
      "cell_type": "code",
      "metadata": {
        "id": "1A9xkhVRR2pr",
        "colab_type": "code",
        "outputId": "20966b20-2b55-4aca-e1f5-1d3a2bb478fb",
        "colab": {
          "base_uri": "https://localhost:8080/",
          "height": 1326
        }
      },
      "source": [
        "sift_train_feature_vec = [[], []]   \n",
        "   \n",
        "\n",
        "print(\"SURF Training Data\")\n",
        "people = os.listdir(TRAIN_DATA)    \n",
        "\n",
        "i, total = 0,len(people)\n",
        "with Timer() as t: \n",
        "  for person in people:\n",
        "      i += 1\n",
        "      print(\"Processing Sub Dir\", person, \"[\", i , \"/\", total, \"]\" )\n",
        "\n",
        "\n",
        "      sift_histograms = generateHistograms(allSIFT[person], sift_kmeans)\n",
        "      sift_train_feature_vec[0].extend(sift_histograms)\n",
        "      sift_train_feature_vec[1].extend([person] * len(sift_histograms))\n",
        "\n",
        "    \n",
        "    \n",
        "\n",
        "print(\"\\n\", \"Time\", t.secs)"
      ],
      "execution_count": 0,
      "outputs": [
        {
          "output_type": "stream",
          "text": [
            "SURF Training Data\n",
            "Processing Sub Dir 43 [ 1 / 69 ]\n",
            "Processing Sub Dir 66 [ 2 / 69 ]\n",
            "Processing Sub Dir 24 [ 3 / 69 ]\n",
            "Processing Sub Dir 8 [ 4 / 69 ]\n",
            "Processing Sub Dir 54 [ 5 / 69 ]\n",
            "Processing Sub Dir 22 [ 6 / 69 ]\n",
            "Processing Sub Dir 11 [ 7 / 69 ]\n",
            "Processing Sub Dir 76 [ 8 / 69 ]\n",
            "Processing Sub Dir 69 [ 9 / 69 ]\n",
            "Processing Sub Dir 74 [ 10 / 69 ]\n",
            "Processing Sub Dir 9 [ 11 / 69 ]\n",
            "Processing Sub Dir 13 [ 12 / 69 ]\n",
            "Processing Sub Dir 38 [ 13 / 69 ]\n",
            "Processing Sub Dir 81 [ 14 / 69 ]\n",
            "Processing Sub Dir 67 [ 15 / 69 ]\n",
            "Processing Sub Dir 55 [ 16 / 69 ]\n",
            "Processing Sub Dir 65 [ 17 / 69 ]\n",
            "Processing Sub Dir 41 [ 18 / 69 ]\n",
            "Processing Sub Dir 7 [ 19 / 69 ]\n",
            "Processing Sub Dir 45 [ 20 / 69 ]\n",
            "Processing Sub Dir 78 [ 21 / 69 ]\n",
            "Processing Sub Dir 50 [ 22 / 69 ]\n",
            "Processing Sub Dir 62 [ 23 / 69 ]\n",
            "Processing Sub Dir 44 [ 24 / 69 ]\n",
            "Processing Sub Dir 75 [ 25 / 69 ]\n",
            "Processing Sub Dir 60 [ 26 / 69 ]\n",
            "Processing Sub Dir 57 [ 27 / 69 ]\n",
            "Processing Sub Dir 40 [ 28 / 69 ]\n",
            "Processing Sub Dir 21 [ 29 / 69 ]\n",
            "Processing Sub Dir 15 [ 30 / 69 ]\n",
            "Processing Sub Dir 12 [ 31 / 69 ]\n",
            "Processing Sub Dir 61 [ 32 / 69 ]\n",
            "Processing Sub Dir 49 [ 33 / 69 ]\n",
            "Processing Sub Dir 77 [ 34 / 69 ]\n",
            "Processing Sub Dir 42 [ 35 / 69 ]\n",
            "Processing Sub Dir 48 [ 36 / 69 ]\n",
            "Processing Sub Dir 58 [ 37 / 69 ]\n",
            "Processing Sub Dir 3 [ 38 / 69 ]\n",
            "Processing Sub Dir 71 [ 39 / 69 ]\n",
            "Processing Sub Dir 46 [ 40 / 69 ]\n",
            "Processing Sub Dir 59 [ 41 / 69 ]\n",
            "Processing Sub Dir 52 [ 42 / 69 ]\n",
            "Processing Sub Dir 16 [ 43 / 69 ]\n",
            "Processing Sub Dir 36 [ 44 / 69 ]\n",
            "Processing Sub Dir 47 [ 45 / 69 ]\n",
            "Processing Sub Dir 79 [ 46 / 69 ]\n",
            "Processing Sub Dir 56 [ 47 / 69 ]\n",
            "Processing Sub Dir 2 [ 48 / 69 ]\n",
            "Processing Sub Dir 64 [ 49 / 69 ]\n",
            "Processing Sub Dir 39 [ 50 / 69 ]\n",
            "Processing Sub Dir 10 [ 51 / 69 ]\n",
            "Processing Sub Dir 68 [ 52 / 69 ]\n",
            "Processing Sub Dir 4 [ 53 / 69 ]\n",
            "Processing Sub Dir 5 [ 54 / 69 ]\n",
            "Processing Sub Dir 51 [ 55 / 69 ]\n",
            "Processing Sub Dir 80 [ 56 / 69 ]\n",
            "Processing Sub Dir 70 [ 57 / 69 ]\n",
            "Processing Sub Dir 33 [ 58 / 69 ]\n",
            "Processing Sub Dir 14 [ 59 / 69 ]\n",
            "Processing Sub Dir 17 [ 60 / 69 ]\n",
            "Processing Sub Dir 73 [ 61 / 69 ]\n",
            "Processing Sub Dir 37 [ 62 / 69 ]\n",
            "Processing Sub Dir 20 [ 63 / 69 ]\n",
            "Processing Sub Dir 72 [ 64 / 69 ]\n",
            "Processing Sub Dir 6 [ 65 / 69 ]\n",
            "Processing Sub Dir 53 [ 66 / 69 ]\n",
            "Processing Sub Dir 63 [ 67 / 69 ]\n",
            "Processing Sub Dir 34 [ 68 / 69 ]\n",
            "Processing Sub Dir 1 [ 69 / 69 ]\n",
            "\n",
            " Time 6.566239984999811\n"
          ],
          "name": "stdout"
        }
      ]
    },
    {
      "cell_type": "code",
      "metadata": {
        "id": "abKERlabR9x7",
        "colab_type": "code",
        "outputId": "bff34f2c-b708-41d5-83d2-cf48383ec1e0",
        "colab": {
          "base_uri": "https://localhost:8080/",
          "height": 1241
        }
      },
      "source": [
        "surf_train_feature_vec = [[], []]   \n",
        " \n",
        "print(\"SURF Training Data\")\n",
        "people = os.listdir(TRAIN_DATA)    \n",
        "\n",
        "\n",
        "i, total = 0,len(people)\n",
        "with Timer() as t:\n",
        "  for person in people:\n",
        "      i += 1\n",
        "      print(\"Processing Sub Dir\", person, \"[\", i , \"/\", total, \"]\" )\n",
        "\n",
        "      # get SURF Features\n",
        "      surf_histograms = generateHistograms(allSURF[person], surf_kmeans)\n",
        "      surf_train_feature_vec[0].extend(surf_histograms)\n",
        "      surf_train_feature_vec[1].extend([person] * len(surf_histograms))\n",
        "    \n",
        "print(\"\\n\", \"Time\", t.secs)"
      ],
      "execution_count": 0,
      "outputs": [
        {
          "output_type": "stream",
          "text": [
            "SURF Training Data\n",
            "Processing Sub Dir 43 [ 1 / 69 ]\n",
            "Processing Sub Dir 66 [ 2 / 69 ]\n",
            "Processing Sub Dir 24 [ 3 / 69 ]\n",
            "Processing Sub Dir 8 [ 4 / 69 ]\n",
            "Processing Sub Dir 54 [ 5 / 69 ]\n",
            "Processing Sub Dir 22 [ 6 / 69 ]\n",
            "Processing Sub Dir 11 [ 7 / 69 ]\n",
            "Processing Sub Dir 76 [ 8 / 69 ]\n",
            "Processing Sub Dir 69 [ 9 / 69 ]\n",
            "Processing Sub Dir 74 [ 10 / 69 ]\n",
            "Processing Sub Dir 9 [ 11 / 69 ]\n",
            "Processing Sub Dir 13 [ 12 / 69 ]\n",
            "Processing Sub Dir 38 [ 13 / 69 ]\n",
            "Processing Sub Dir 81 [ 14 / 69 ]\n",
            "Processing Sub Dir 67 [ 15 / 69 ]\n",
            "Processing Sub Dir 55 [ 16 / 69 ]\n",
            "Processing Sub Dir 65 [ 17 / 69 ]\n",
            "Processing Sub Dir 41 [ 18 / 69 ]\n",
            "Processing Sub Dir 7 [ 19 / 69 ]\n",
            "Processing Sub Dir 45 [ 20 / 69 ]\n",
            "Processing Sub Dir 78 [ 21 / 69 ]\n",
            "Processing Sub Dir 50 [ 22 / 69 ]\n",
            "Processing Sub Dir 62 [ 23 / 69 ]\n",
            "Processing Sub Dir 44 [ 24 / 69 ]\n",
            "Processing Sub Dir 75 [ 25 / 69 ]\n",
            "Processing Sub Dir 60 [ 26 / 69 ]\n",
            "Processing Sub Dir 57 [ 27 / 69 ]\n",
            "Processing Sub Dir 40 [ 28 / 69 ]\n",
            "Processing Sub Dir 21 [ 29 / 69 ]\n",
            "Processing Sub Dir 15 [ 30 / 69 ]\n",
            "Processing Sub Dir 12 [ 31 / 69 ]\n",
            "Processing Sub Dir 61 [ 32 / 69 ]\n",
            "Processing Sub Dir 49 [ 33 / 69 ]\n",
            "Processing Sub Dir 77 [ 34 / 69 ]\n",
            "Processing Sub Dir 42 [ 35 / 69 ]\n",
            "Processing Sub Dir 48 [ 36 / 69 ]\n",
            "Processing Sub Dir 58 [ 37 / 69 ]\n",
            "Processing Sub Dir 3 [ 38 / 69 ]\n",
            "Processing Sub Dir 71 [ 39 / 69 ]\n",
            "Processing Sub Dir 46 [ 40 / 69 ]\n",
            "Processing Sub Dir 59 [ 41 / 69 ]\n",
            "Processing Sub Dir 52 [ 42 / 69 ]\n",
            "Processing Sub Dir 16 [ 43 / 69 ]\n",
            "Processing Sub Dir 36 [ 44 / 69 ]\n",
            "Processing Sub Dir 47 [ 45 / 69 ]\n",
            "Processing Sub Dir 79 [ 46 / 69 ]\n",
            "Processing Sub Dir 56 [ 47 / 69 ]\n",
            "Processing Sub Dir 2 [ 48 / 69 ]\n",
            "Processing Sub Dir 64 [ 49 / 69 ]\n",
            "Processing Sub Dir 39 [ 50 / 69 ]\n",
            "Processing Sub Dir 10 [ 51 / 69 ]\n",
            "Processing Sub Dir 68 [ 52 / 69 ]\n",
            "Processing Sub Dir 4 [ 53 / 69 ]\n",
            "Processing Sub Dir 5 [ 54 / 69 ]\n",
            "Processing Sub Dir 51 [ 55 / 69 ]\n",
            "Processing Sub Dir 80 [ 56 / 69 ]\n",
            "Processing Sub Dir 70 [ 57 / 69 ]\n",
            "Processing Sub Dir 33 [ 58 / 69 ]\n",
            "Processing Sub Dir 14 [ 59 / 69 ]\n",
            "Processing Sub Dir 17 [ 60 / 69 ]\n",
            "Processing Sub Dir 73 [ 61 / 69 ]\n",
            "Processing Sub Dir 37 [ 62 / 69 ]\n",
            "Processing Sub Dir 20 [ 63 / 69 ]\n",
            "Processing Sub Dir 72 [ 64 / 69 ]\n",
            "Processing Sub Dir 6 [ 65 / 69 ]\n",
            "Processing Sub Dir 53 [ 66 / 69 ]\n",
            "Processing Sub Dir 63 [ 67 / 69 ]\n",
            "Processing Sub Dir 34 [ 68 / 69 ]\n",
            "Processing Sub Dir 1 [ 69 / 69 ]\n",
            "\n",
            " Time 6.870205224000074\n"
          ],
          "name": "stdout"
        }
      ]
    },
    {
      "cell_type": "code",
      "metadata": {
        "id": "6cm2-3Bd-Au3",
        "colab_type": "code",
        "outputId": "5b90475b-c51e-4be8-c720-d19638f5beb0",
        "colab": {
          "base_uri": "https://localhost:8080/",
          "height": 1241
        }
      },
      "source": [
        " orb_train_feature_vec = [[], []]   \n",
        "\n",
        "print(\"ORB Training Data\")\n",
        "people = os.listdir(TRAIN_DATA)    \n",
        "\n",
        "i, total = 0,len(people)\n",
        "with Timer() as t:\n",
        "  for person in people:\n",
        "      i += 1\n",
        "      print(\"Processing Sub Dir\", person, \"[\", i , \"/\", total, \"]\" )\n",
        "\n",
        "      # get ORB Features\n",
        "      orb_histograms = generateHistograms(allORB[person], orb_kmeans)\n",
        "      orb_train_feature_vec[0].extend(orb_histograms)\n",
        "      orb_train_feature_vec[1].extend([person] * len(orb_histograms))\n",
        "    \n",
        "\n",
        "    \n",
        "print(\"\\n\", \"Time\", t.secs)"
      ],
      "execution_count": 0,
      "outputs": [
        {
          "output_type": "stream",
          "text": [
            "ORB Training Data\n",
            "Processing Sub Dir 43 [ 1 / 69 ]\n",
            "Processing Sub Dir 66 [ 2 / 69 ]\n",
            "Processing Sub Dir 24 [ 3 / 69 ]\n",
            "Processing Sub Dir 8 [ 4 / 69 ]\n",
            "Processing Sub Dir 54 [ 5 / 69 ]\n",
            "Processing Sub Dir 22 [ 6 / 69 ]\n",
            "Processing Sub Dir 11 [ 7 / 69 ]\n",
            "Processing Sub Dir 76 [ 8 / 69 ]\n",
            "Processing Sub Dir 69 [ 9 / 69 ]\n",
            "Processing Sub Dir 74 [ 10 / 69 ]\n",
            "Processing Sub Dir 9 [ 11 / 69 ]\n",
            "Processing Sub Dir 13 [ 12 / 69 ]\n",
            "Processing Sub Dir 38 [ 13 / 69 ]\n",
            "Processing Sub Dir 81 [ 14 / 69 ]\n",
            "Processing Sub Dir 67 [ 15 / 69 ]\n",
            "Processing Sub Dir 55 [ 16 / 69 ]\n",
            "Processing Sub Dir 65 [ 17 / 69 ]\n",
            "Processing Sub Dir 41 [ 18 / 69 ]\n",
            "Processing Sub Dir 7 [ 19 / 69 ]\n",
            "Processing Sub Dir 45 [ 20 / 69 ]\n",
            "Processing Sub Dir 78 [ 21 / 69 ]\n",
            "Processing Sub Dir 50 [ 22 / 69 ]\n",
            "Processing Sub Dir 62 [ 23 / 69 ]\n",
            "Processing Sub Dir 44 [ 24 / 69 ]\n",
            "Processing Sub Dir 75 [ 25 / 69 ]\n",
            "Processing Sub Dir 60 [ 26 / 69 ]\n",
            "Processing Sub Dir 57 [ 27 / 69 ]\n",
            "Processing Sub Dir 40 [ 28 / 69 ]\n",
            "Processing Sub Dir 21 [ 29 / 69 ]\n",
            "Processing Sub Dir 15 [ 30 / 69 ]\n",
            "Processing Sub Dir 12 [ 31 / 69 ]\n",
            "Processing Sub Dir 61 [ 32 / 69 ]\n",
            "Processing Sub Dir 49 [ 33 / 69 ]\n",
            "Processing Sub Dir 77 [ 34 / 69 ]\n",
            "Processing Sub Dir 42 [ 35 / 69 ]\n",
            "Processing Sub Dir 48 [ 36 / 69 ]\n",
            "Processing Sub Dir 58 [ 37 / 69 ]\n",
            "Processing Sub Dir 3 [ 38 / 69 ]\n",
            "Processing Sub Dir 71 [ 39 / 69 ]\n",
            "Processing Sub Dir 46 [ 40 / 69 ]\n",
            "Processing Sub Dir 59 [ 41 / 69 ]\n",
            "Processing Sub Dir 52 [ 42 / 69 ]\n",
            "Processing Sub Dir 16 [ 43 / 69 ]\n",
            "Processing Sub Dir 36 [ 44 / 69 ]\n",
            "Processing Sub Dir 47 [ 45 / 69 ]\n",
            "Processing Sub Dir 79 [ 46 / 69 ]\n",
            "Processing Sub Dir 56 [ 47 / 69 ]\n",
            "Processing Sub Dir 2 [ 48 / 69 ]\n",
            "Processing Sub Dir 64 [ 49 / 69 ]\n",
            "Processing Sub Dir 39 [ 50 / 69 ]\n",
            "Processing Sub Dir 10 [ 51 / 69 ]\n",
            "Processing Sub Dir 68 [ 52 / 69 ]\n",
            "Processing Sub Dir 4 [ 53 / 69 ]\n",
            "Processing Sub Dir 5 [ 54 / 69 ]\n",
            "Processing Sub Dir 51 [ 55 / 69 ]\n",
            "Processing Sub Dir 80 [ 56 / 69 ]\n",
            "Processing Sub Dir 70 [ 57 / 69 ]\n",
            "Processing Sub Dir 33 [ 58 / 69 ]\n",
            "Processing Sub Dir 14 [ 59 / 69 ]\n",
            "Processing Sub Dir 17 [ 60 / 69 ]\n",
            "Processing Sub Dir 73 [ 61 / 69 ]\n",
            "Processing Sub Dir 37 [ 62 / 69 ]\n",
            "Processing Sub Dir 20 [ 63 / 69 ]\n",
            "Processing Sub Dir 72 [ 64 / 69 ]\n",
            "Processing Sub Dir 6 [ 65 / 69 ]\n",
            "Processing Sub Dir 53 [ 66 / 69 ]\n",
            "Processing Sub Dir 63 [ 67 / 69 ]\n",
            "Processing Sub Dir 34 [ 68 / 69 ]\n",
            "Processing Sub Dir 1 [ 69 / 69 ]\n",
            "\n",
            " Time 4.736499226000433\n"
          ],
          "name": "stdout"
        }
      ]
    },
    {
      "cell_type": "markdown",
      "metadata": {
        "id": "jQyD31iSSPvr",
        "colab_type": "text"
      },
      "source": [
        "#### Prepare Test Data"
      ]
    },
    {
      "cell_type": "code",
      "metadata": {
        "id": "a3pZQmbOTCXL",
        "colab_type": "code",
        "outputId": "7d48e344-5e3b-41b7-c350-d00391f30fcd",
        "colab": {
          "base_uri": "https://localhost:8080/",
          "height": 1326
        }
      },
      "source": [
        "sift_test_feature_vec = [[], []] \n",
        "\n",
        "\n",
        "print(\"SIFT Test Data\")\n",
        "people = os.listdir(TEST_DATA) \n",
        "\n",
        "\n",
        "i, total = 0,len(people)\n",
        "with Timer() as t:\n",
        "  for person in people:\n",
        "\n",
        "      i += 1\n",
        "      print(\"Processing Sub Dir\", person, \"[\", i , \"/\", total, \"]\" )\n",
        "      \n",
        "      \n",
        "      crop_names = os.listdir(os.path.join(TEST_DATA, person))\n",
        "      crop_names = list(map(lambda x: os.path.join(TEST_DATA, person, x), crop_names)) \n",
        "      crops = [cv2.imread(x , cv2.IMREAD_GRAYSCALE) for x in crop_names ]\n",
        "      \n",
        "      # get SIFT Features\n",
        "      sift_desc = extractFeatures(crops, getSIFTfeatures)\n",
        "      \n",
        "      # get histograms\n",
        "      sift_histograms = generateHistograms(sift_desc, sift_kmeans)\n",
        "      sift_test_feature_vec[0].extend(sift_histograms)\n",
        "      sift_test_feature_vec[1].extend([person] * len(sift_histograms))\n",
        "    \n",
        "print(\"\\n\", \"Time\", t.secs)"
      ],
      "execution_count": 0,
      "outputs": [
        {
          "output_type": "stream",
          "text": [
            "SIFT Test Data\n",
            "Processing Sub Dir 43 [ 1 / 69 ]\n",
            "Processing Sub Dir 22 [ 2 / 69 ]\n",
            "Processing Sub Dir 74 [ 3 / 69 ]\n",
            "Processing Sub Dir 11 [ 4 / 69 ]\n",
            "Processing Sub Dir 9 [ 5 / 69 ]\n",
            "Processing Sub Dir 8 [ 6 / 69 ]\n",
            "Processing Sub Dir 76 [ 7 / 69 ]\n",
            "Processing Sub Dir 69 [ 8 / 69 ]\n",
            "Processing Sub Dir 54 [ 9 / 69 ]\n",
            "Processing Sub Dir 24 [ 10 / 69 ]\n",
            "Processing Sub Dir 78 [ 11 / 69 ]\n",
            "Processing Sub Dir 65 [ 12 / 69 ]\n",
            "Processing Sub Dir 67 [ 13 / 69 ]\n",
            "Processing Sub Dir 55 [ 14 / 69 ]\n",
            "Processing Sub Dir 81 [ 15 / 69 ]\n",
            "Processing Sub Dir 13 [ 16 / 69 ]\n",
            "Processing Sub Dir 66 [ 17 / 69 ]\n",
            "Processing Sub Dir 7 [ 18 / 69 ]\n",
            "Processing Sub Dir 38 [ 19 / 69 ]\n",
            "Processing Sub Dir 41 [ 20 / 69 ]\n",
            "Processing Sub Dir 40 [ 21 / 69 ]\n",
            "Processing Sub Dir 45 [ 22 / 69 ]\n",
            "Processing Sub Dir 15 [ 23 / 69 ]\n",
            "Processing Sub Dir 12 [ 24 / 69 ]\n",
            "Processing Sub Dir 75 [ 25 / 69 ]\n",
            "Processing Sub Dir 60 [ 26 / 69 ]\n",
            "Processing Sub Dir 50 [ 27 / 69 ]\n",
            "Processing Sub Dir 21 [ 28 / 69 ]\n",
            "Processing Sub Dir 57 [ 29 / 69 ]\n",
            "Processing Sub Dir 44 [ 30 / 69 ]\n",
            "Processing Sub Dir 3 [ 31 / 69 ]\n",
            "Processing Sub Dir 49 [ 32 / 69 ]\n",
            "Processing Sub Dir 48 [ 33 / 69 ]\n",
            "Processing Sub Dir 58 [ 34 / 69 ]\n",
            "Processing Sub Dir 59 [ 35 / 69 ]\n",
            "Processing Sub Dir 61 [ 36 / 69 ]\n",
            "Processing Sub Dir 62 [ 37 / 69 ]\n",
            "Processing Sub Dir 71 [ 38 / 69 ]\n",
            "Processing Sub Dir 42 [ 39 / 69 ]\n",
            "Processing Sub Dir 77 [ 40 / 69 ]\n",
            "Processing Sub Dir 47 [ 41 / 69 ]\n",
            "Processing Sub Dir 39 [ 42 / 69 ]\n",
            "Processing Sub Dir 56 [ 43 / 69 ]\n",
            "Processing Sub Dir 64 [ 44 / 69 ]\n",
            "Processing Sub Dir 46 [ 45 / 69 ]\n",
            "Processing Sub Dir 36 [ 46 / 69 ]\n",
            "Processing Sub Dir 16 [ 47 / 69 ]\n",
            "Processing Sub Dir 2 [ 48 / 69 ]\n",
            "Processing Sub Dir 10 [ 49 / 69 ]\n",
            "Processing Sub Dir 79 [ 50 / 69 ]\n",
            "Processing Sub Dir 73 [ 51 / 69 ]\n",
            "Processing Sub Dir 5 [ 52 / 69 ]\n",
            "Processing Sub Dir 4 [ 53 / 69 ]\n",
            "Processing Sub Dir 17 [ 54 / 69 ]\n",
            "Processing Sub Dir 14 [ 55 / 69 ]\n",
            "Processing Sub Dir 52 [ 56 / 69 ]\n",
            "Processing Sub Dir 33 [ 57 / 69 ]\n",
            "Processing Sub Dir 70 [ 58 / 69 ]\n",
            "Processing Sub Dir 80 [ 59 / 69 ]\n",
            "Processing Sub Dir 51 [ 60 / 69 ]\n",
            "Processing Sub Dir 72 [ 61 / 69 ]\n",
            "Processing Sub Dir 34 [ 62 / 69 ]\n",
            "Processing Sub Dir 6 [ 63 / 69 ]\n",
            "Processing Sub Dir 20 [ 64 / 69 ]\n",
            "Processing Sub Dir 1 [ 65 / 69 ]\n",
            "Processing Sub Dir 68 [ 66 / 69 ]\n",
            "Processing Sub Dir 37 [ 67 / 69 ]\n",
            "Processing Sub Dir 53 [ 68 / 69 ]\n",
            "Processing Sub Dir 63 [ 69 / 69 ]\n",
            "\n",
            " Time 839.8382625289996\n"
          ],
          "name": "stdout"
        }
      ]
    },
    {
      "cell_type": "code",
      "metadata": {
        "id": "FOXcuCNzTCl2",
        "colab_type": "code",
        "outputId": "910542ac-85ac-481f-ce62-2e28781bfff6",
        "colab": {
          "base_uri": "https://localhost:8080/",
          "height": 2461
        }
      },
      "source": [
        "surf_test_feature_vec = [[], []] \n",
        "\n",
        "\n",
        "print(\"SURF Test Data\")\n",
        "people = os.listdir(TEST_DATA) \n",
        "\n",
        "i, total = 0,len(people)\n",
        "with Timer() as t:\n",
        "  for person in people:\n",
        "\n",
        "      i += 1\n",
        "      print(\"Processing Sub Dir\", person, \"[\", i , \"/\", total, \"]\")\n",
        "       \n",
        "      crop_names = os.listdir(os.path.join(TEST_DATA, person))\n",
        "      crop_names = list(map(lambda x: os.path.join(TEST_DATA, person, x), crop_names)) \n",
        "      crops = [cv2.imread(x , cv2.IMREAD_GRAYSCALE) for x in crop_names ]\n",
        "            \n",
        "      # get SURFT Features\n",
        "      surf_desc = extractFeatures(crops, getSURFfeatures)\n",
        "\n",
        "      # get SURF Features\n",
        "      surf_histograms = generateHistograms(surf_desc, surf_kmeans)\n",
        "      surf_test_feature_vec[0].extend(surf_histograms)\n",
        "      surf_test_feature_vec[1].extend([person] * len(surf_histograms))\n",
        "      print(\"Extracted SURF\")\n",
        "    \n",
        "        \n",
        "print(\"\\n\", \"Time\", t.secs)"
      ],
      "execution_count": 0,
      "outputs": [
        {
          "output_type": "stream",
          "text": [
            "SURF Test Data\n",
            "Processing Sub Dir 43 [ 1 / 69 ]\n",
            "Extracted SURF\n",
            "Processing Sub Dir 22 [ 2 / 69 ]\n",
            "Extracted SURF\n",
            "Processing Sub Dir 74 [ 3 / 69 ]\n",
            "Extracted SURF\n",
            "Processing Sub Dir 11 [ 4 / 69 ]\n",
            "Extracted SURF\n",
            "Processing Sub Dir 9 [ 5 / 69 ]\n",
            "Extracted SURF\n",
            "Processing Sub Dir 8 [ 6 / 69 ]\n",
            "Extracted SURF\n",
            "Processing Sub Dir 76 [ 7 / 69 ]\n",
            "Extracted SURF\n",
            "Processing Sub Dir 69 [ 8 / 69 ]\n",
            "Extracted SURF\n",
            "Processing Sub Dir 54 [ 9 / 69 ]\n",
            "Extracted SURF\n",
            "Processing Sub Dir 24 [ 10 / 69 ]\n",
            "Extracted SURF\n",
            "Processing Sub Dir 78 [ 11 / 69 ]\n",
            "Extracted SURF\n",
            "Processing Sub Dir 65 [ 12 / 69 ]\n",
            "Extracted SURF\n",
            "Processing Sub Dir 67 [ 13 / 69 ]\n",
            "Extracted SURF\n",
            "Processing Sub Dir 55 [ 14 / 69 ]\n",
            "Extracted SURF\n",
            "Processing Sub Dir 81 [ 15 / 69 ]\n",
            "Extracted SURF\n",
            "Processing Sub Dir 13 [ 16 / 69 ]\n",
            "Extracted SURF\n",
            "Processing Sub Dir 66 [ 17 / 69 ]\n",
            "Extracted SURF\n",
            "Processing Sub Dir 7 [ 18 / 69 ]\n",
            "Extracted SURF\n",
            "Processing Sub Dir 38 [ 19 / 69 ]\n",
            "Extracted SURF\n",
            "Processing Sub Dir 41 [ 20 / 69 ]\n",
            "Extracted SURF\n",
            "Processing Sub Dir 40 [ 21 / 69 ]\n",
            "Extracted SURF\n",
            "Processing Sub Dir 45 [ 22 / 69 ]\n",
            "Extracted SURF\n",
            "Processing Sub Dir 15 [ 23 / 69 ]\n",
            "Extracted SURF\n",
            "Processing Sub Dir 12 [ 24 / 69 ]\n",
            "Extracted SURF\n",
            "Processing Sub Dir 75 [ 25 / 69 ]\n",
            "Extracted SURF\n",
            "Processing Sub Dir 60 [ 26 / 69 ]\n",
            "Extracted SURF\n",
            "Processing Sub Dir 50 [ 27 / 69 ]\n",
            "Extracted SURF\n",
            "Processing Sub Dir 21 [ 28 / 69 ]\n",
            "Extracted SURF\n",
            "Processing Sub Dir 57 [ 29 / 69 ]\n",
            "Extracted SURF\n",
            "Processing Sub Dir 44 [ 30 / 69 ]\n",
            "Extracted SURF\n",
            "Processing Sub Dir 3 [ 31 / 69 ]\n",
            "Extracted SURF\n",
            "Processing Sub Dir 49 [ 32 / 69 ]\n",
            "Extracted SURF\n",
            "Processing Sub Dir 48 [ 33 / 69 ]\n",
            "Extracted SURF\n",
            "Processing Sub Dir 58 [ 34 / 69 ]\n",
            "Extracted SURF\n",
            "Processing Sub Dir 59 [ 35 / 69 ]\n",
            "Extracted SURF\n",
            "Processing Sub Dir 61 [ 36 / 69 ]\n",
            "Extracted SURF\n",
            "Processing Sub Dir 62 [ 37 / 69 ]\n",
            "Extracted SURF\n",
            "Processing Sub Dir 71 [ 38 / 69 ]\n",
            "Extracted SURF\n",
            "Processing Sub Dir 42 [ 39 / 69 ]\n",
            "Extracted SURF\n",
            "Processing Sub Dir 77 [ 40 / 69 ]\n",
            "Extracted SURF\n",
            "Processing Sub Dir 47 [ 41 / 69 ]\n",
            "Extracted SURF\n",
            "Processing Sub Dir 39 [ 42 / 69 ]\n",
            "Extracted SURF\n",
            "Processing Sub Dir 56 [ 43 / 69 ]\n",
            "Extracted SURF\n",
            "Processing Sub Dir 64 [ 44 / 69 ]\n",
            "Extracted SURF\n",
            "Processing Sub Dir 46 [ 45 / 69 ]\n",
            "Extracted SURF\n",
            "Processing Sub Dir 36 [ 46 / 69 ]\n",
            "Extracted SURF\n",
            "Processing Sub Dir 16 [ 47 / 69 ]\n",
            "Extracted SURF\n",
            "Processing Sub Dir 2 [ 48 / 69 ]\n",
            "Extracted SURF\n",
            "Processing Sub Dir 10 [ 49 / 69 ]\n",
            "Extracted SURF\n",
            "Processing Sub Dir 79 [ 50 / 69 ]\n",
            "Extracted SURF\n",
            "Processing Sub Dir 73 [ 51 / 69 ]\n",
            "Extracted SURF\n",
            "Processing Sub Dir 5 [ 52 / 69 ]\n",
            "Extracted SURF\n",
            "Processing Sub Dir 4 [ 53 / 69 ]\n",
            "Extracted SURF\n",
            "Processing Sub Dir 17 [ 54 / 69 ]\n",
            "Extracted SURF\n",
            "Processing Sub Dir 14 [ 55 / 69 ]\n",
            "Extracted SURF\n",
            "Processing Sub Dir 52 [ 56 / 69 ]\n",
            "Extracted SURF\n",
            "Processing Sub Dir 33 [ 57 / 69 ]\n",
            "Extracted SURF\n",
            "Processing Sub Dir 70 [ 58 / 69 ]\n",
            "Extracted SURF\n",
            "Processing Sub Dir 80 [ 59 / 69 ]\n",
            "Extracted SURF\n",
            "Processing Sub Dir 51 [ 60 / 69 ]\n",
            "Extracted SURF\n",
            "Processing Sub Dir 72 [ 61 / 69 ]\n",
            "Extracted SURF\n",
            "Processing Sub Dir 34 [ 62 / 69 ]\n",
            "Extracted SURF\n",
            "Processing Sub Dir 6 [ 63 / 69 ]\n",
            "Extracted SURF\n",
            "Processing Sub Dir 20 [ 64 / 69 ]\n",
            "Extracted SURF\n",
            "Processing Sub Dir 1 [ 65 / 69 ]\n",
            "Extracted SURF\n",
            "Processing Sub Dir 68 [ 66 / 69 ]\n",
            "Extracted SURF\n",
            "Processing Sub Dir 37 [ 67 / 69 ]\n",
            "Extracted SURF\n",
            "Processing Sub Dir 53 [ 68 / 69 ]\n",
            "Extracted SURF\n",
            "Processing Sub Dir 63 [ 69 / 69 ]\n",
            "Extracted SURF\n",
            "\n",
            " Time 47.1190721210005\n"
          ],
          "name": "stdout"
        }
      ]
    },
    {
      "cell_type": "code",
      "metadata": {
        "id": "3gMEFRTL-BlU",
        "colab_type": "code",
        "outputId": "cf87a49f-579d-48a9-c049-dac459f44151",
        "colab": {
          "base_uri": "https://localhost:8080/",
          "height": 1334
        }
      },
      "source": [
        "orb_test_feature_vec = [[], []]  \n",
        "\n",
        "\n",
        "print(\"ORB Test Data\")\n",
        "people = os.listdir(TEST_DATA) \n",
        "\n",
        "i, total = 0,len(people)\n",
        "with Timer() as t:\n",
        "  for person in people:\n",
        "\n",
        "      i += 1\n",
        "      print(\"Processing Sub Dir\", person, \"[\", i , \"/\", total, \"]\" )\n",
        "\n",
        "      crop_names = os.listdir(os.path.join(TEST_DATA, person))\n",
        "      crop_names = list(map(lambda x: os.path.join(TEST_DATA, person, x), crop_names)) \n",
        "      crops = [cv2.imread(x , cv2.IMREAD_GRAYSCALE) for x in crop_names ]\n",
        "      \n",
        "      # get ORB Features\n",
        "      orb_desc = extractFeatures(crops, getORBfeatures)\n",
        "            \n",
        "      # get ORB Features\n",
        "      orb_histograms = generateHistograms(orb_desc, orb_kmeans)\n",
        "      orb_test_feature_vec[0].extend(orb_histograms)\n",
        "      orb_test_feature_vec[1].extend([person] * len(orb_histograms))\n",
        "\n",
        "    \n",
        "    \n",
        "print(\"\\n\", \"Time\", t.secs)"
      ],
      "execution_count": 0,
      "outputs": [
        {
          "output_type": "stream",
          "text": [
            "ORB Test Data\n",
            "Processing Sub Dir 43 [ 1 / 69 ]\n",
            "Processing Sub Dir 22 [ 2 / 69 ]\n",
            "Processing Sub Dir 74 [ 3 / 69 ]\n",
            "Processing Sub Dir 11 [ 4 / 69 ]\n",
            "Processing Sub Dir 9 [ 5 / 69 ]\n",
            "Processing Sub Dir 8 [ 6 / 69 ]\n",
            "Processing Sub Dir 76 [ 7 / 69 ]\n",
            "Processing Sub Dir 69 [ 8 / 69 ]\n",
            "Processing Sub Dir 54 [ 9 / 69 ]\n",
            "Processing Sub Dir 24 [ 10 / 69 ]\n",
            "Processing Sub Dir 78 [ 11 / 69 ]\n",
            "Processing Sub Dir 65 [ 12 / 69 ]\n",
            "Processing Sub Dir 67 [ 13 / 69 ]\n",
            "Processing Sub Dir 55 [ 14 / 69 ]\n",
            "Processing Sub Dir 81 [ 15 / 69 ]\n",
            "Processing Sub Dir 13 [ 16 / 69 ]\n",
            "Processing Sub Dir 66 [ 17 / 69 ]\n",
            "Processing Sub Dir 7 [ 18 / 69 ]\n",
            "No Features Extracted\n",
            "Processing Sub Dir 38 [ 19 / 69 ]\n",
            "Processing Sub Dir 41 [ 20 / 69 ]\n",
            "Processing Sub Dir 40 [ 21 / 69 ]\n",
            "Processing Sub Dir 45 [ 22 / 69 ]\n",
            "Processing Sub Dir 15 [ 23 / 69 ]\n",
            "Processing Sub Dir 12 [ 24 / 69 ]\n",
            "Processing Sub Dir 75 [ 25 / 69 ]\n",
            "Processing Sub Dir 60 [ 26 / 69 ]\n",
            "Processing Sub Dir 50 [ 27 / 69 ]\n",
            "Processing Sub Dir 21 [ 28 / 69 ]\n",
            "Processing Sub Dir 57 [ 29 / 69 ]\n",
            "Processing Sub Dir 44 [ 30 / 69 ]\n",
            "Processing Sub Dir 3 [ 31 / 69 ]\n",
            "No Features Extracted\n",
            "No Features Extracted\n",
            "Processing Sub Dir 49 [ 32 / 69 ]\n",
            "Processing Sub Dir 48 [ 33 / 69 ]\n",
            "Processing Sub Dir 58 [ 34 / 69 ]\n",
            "No Features Extracted\n",
            "Processing Sub Dir 59 [ 35 / 69 ]\n",
            "Processing Sub Dir 61 [ 36 / 69 ]\n",
            "Processing Sub Dir 62 [ 37 / 69 ]\n",
            "Processing Sub Dir 71 [ 38 / 69 ]\n",
            "Processing Sub Dir 42 [ 39 / 69 ]\n",
            "Processing Sub Dir 77 [ 40 / 69 ]\n",
            "Processing Sub Dir 47 [ 41 / 69 ]\n",
            "Processing Sub Dir 39 [ 42 / 69 ]\n",
            "Processing Sub Dir 56 [ 43 / 69 ]\n",
            "Processing Sub Dir 64 [ 44 / 69 ]\n",
            "Processing Sub Dir 46 [ 45 / 69 ]\n",
            "Processing Sub Dir 36 [ 46 / 69 ]\n",
            "Processing Sub Dir 16 [ 47 / 69 ]\n",
            "Processing Sub Dir 2 [ 48 / 69 ]\n",
            "Processing Sub Dir 10 [ 49 / 69 ]\n",
            "Processing Sub Dir 79 [ 50 / 69 ]\n",
            "Processing Sub Dir 73 [ 51 / 69 ]\n",
            "Processing Sub Dir 5 [ 52 / 69 ]\n",
            "Processing Sub Dir 4 [ 53 / 69 ]\n",
            "Processing Sub Dir 17 [ 54 / 69 ]\n",
            "Processing Sub Dir 14 [ 55 / 69 ]\n",
            "Processing Sub Dir 52 [ 56 / 69 ]\n",
            "Processing Sub Dir 33 [ 57 / 69 ]\n",
            "Processing Sub Dir 70 [ 58 / 69 ]\n",
            "Processing Sub Dir 80 [ 59 / 69 ]\n",
            "Processing Sub Dir 51 [ 60 / 69 ]\n",
            "Processing Sub Dir 72 [ 61 / 69 ]\n",
            "Processing Sub Dir 34 [ 62 / 69 ]\n",
            "Processing Sub Dir 6 [ 63 / 69 ]\n",
            "Processing Sub Dir 20 [ 64 / 69 ]\n",
            "Processing Sub Dir 1 [ 65 / 69 ]\n",
            "Processing Sub Dir 68 [ 66 / 69 ]\n",
            "Processing Sub Dir 37 [ 67 / 69 ]\n",
            "Processing Sub Dir 53 [ 68 / 69 ]\n",
            "Processing Sub Dir 63 [ 69 / 69 ]\n",
            "\n",
            " Time 12.078418099000373\n"
          ],
          "name": "stdout"
        }
      ]
    },
    {
      "cell_type": "markdown",
      "metadata": {
        "id": "-3keABhDV5in",
        "colab_type": "text"
      },
      "source": [
        "#### Train SVM Models"
      ]
    },
    {
      "cell_type": "code",
      "metadata": {
        "id": "LVu-nbHMV8Hs",
        "colab_type": "code",
        "outputId": "b2ba2c33-3fec-4cb8-8637-46f558657ab7",
        "colab": {
          "base_uri": "https://localhost:8080/",
          "height": 108
        }
      },
      "source": [
        "print(\"Training SIFT SVM\")\n",
        "svmSIFT = svm.SVC(gamma = 'auto')\n",
        "svmSIFT.fit(sift_train_feature_vec[0], sift_train_feature_vec[1])"
      ],
      "execution_count": 0,
      "outputs": [
        {
          "output_type": "stream",
          "text": [
            "Training SIFT SVM\n"
          ],
          "name": "stdout"
        },
        {
          "output_type": "execute_result",
          "data": {
            "text/plain": [
              "SVC(C=1.0, cache_size=200, class_weight=None, coef0=0.0,\n",
              "  decision_function_shape='ovr', degree=3, gamma='auto', kernel='rbf',\n",
              "  max_iter=-1, probability=False, random_state=None, shrinking=True,\n",
              "  tol=0.001, verbose=False)"
            ]
          },
          "metadata": {
            "tags": []
          },
          "execution_count": 23
        }
      ]
    },
    {
      "cell_type": "code",
      "metadata": {
        "id": "BH-At-PAV8VH",
        "colab_type": "code",
        "outputId": "564f888d-493a-4bf5-ac09-00d8a912a9ab",
        "colab": {
          "base_uri": "https://localhost:8080/",
          "height": 108
        }
      },
      "source": [
        "print(\"Training SURF SVM\")\n",
        "svmSURF = svm.SVC(gamma = 'auto')\n",
        "svmSURF.fit(surf_train_feature_vec[0], surf_train_feature_vec[1])"
      ],
      "execution_count": 0,
      "outputs": [
        {
          "output_type": "stream",
          "text": [
            "Training SURF SVM\n"
          ],
          "name": "stdout"
        },
        {
          "output_type": "execute_result",
          "data": {
            "text/plain": [
              "SVC(C=1.0, cache_size=200, class_weight=None, coef0=0.0,\n",
              "  decision_function_shape='ovr', degree=3, gamma='auto', kernel='rbf',\n",
              "  max_iter=-1, probability=False, random_state=None, shrinking=True,\n",
              "  tol=0.001, verbose=False)"
            ]
          },
          "metadata": {
            "tags": []
          },
          "execution_count": 25
        }
      ]
    },
    {
      "cell_type": "code",
      "metadata": {
        "id": "t2L9DkMtGHO5",
        "colab_type": "code",
        "outputId": "ae7040dc-3ede-436a-a6d4-af5cc657cfa4",
        "colab": {
          "base_uri": "https://localhost:8080/",
          "height": 108
        }
      },
      "source": [
        "print(\"Training  ORB SVM\")\n",
        "svmORB = svm.SVC(gamma = 'auto')\n",
        "svmORB.fit(orb_train_feature_vec[0], orb_train_feature_vec[1])"
      ],
      "execution_count": 0,
      "outputs": [
        {
          "output_type": "stream",
          "text": [
            "Training  ORB SVM\n"
          ],
          "name": "stdout"
        },
        {
          "output_type": "execute_result",
          "data": {
            "text/plain": [
              "SVC(C=1.0, cache_size=200, class_weight=None, coef0=0.0,\n",
              "  decision_function_shape='ovr', degree=3, gamma='auto', kernel='rbf',\n",
              "  max_iter=-1, probability=False, random_state=None, shrinking=True,\n",
              "  tol=0.001, verbose=False)"
            ]
          },
          "metadata": {
            "tags": []
          },
          "execution_count": 26
        }
      ]
    },
    {
      "cell_type": "markdown",
      "metadata": {
        "id": "XivJ-crCWFGP",
        "colab_type": "text"
      },
      "source": [
        "#### Train MLP Models"
      ]
    },
    {
      "cell_type": "code",
      "metadata": {
        "id": "iOpRM6TIWJzF",
        "colab_type": "code",
        "outputId": "af5f0a56-45e0-4102-bf35-8a2f2cf1233d",
        "colab": {
          "base_uri": "https://localhost:8080/",
          "height": 1199
        }
      },
      "source": [
        "print(\"Training SIFT MLP\")\n",
        "mlpSIFT = MLPClassifier(verbose=True, early_stopping=True, alpha=0.05, max_iter=600)\n",
        "mlpSIFT.fit(sift_train_feature_vec[0], sift_train_feature_vec[1])"
      ],
      "execution_count": 0,
      "outputs": [
        {
          "output_type": "stream",
          "text": [
            "Training SIFT MLP\n",
            "Iteration 1, loss = 4.08721274\n",
            "Validation score: 0.215292\n",
            "Iteration 2, loss = 3.28826112\n",
            "Validation score: 0.547284\n",
            "Iteration 3, loss = 2.28818451\n",
            "Validation score: 0.800805\n",
            "Iteration 4, loss = 1.46012572\n",
            "Validation score: 0.879276\n",
            "Iteration 5, loss = 0.95734813\n",
            "Validation score: 0.905433\n",
            "Iteration 6, loss = 0.67365199\n",
            "Validation score: 0.921529\n",
            "Iteration 7, loss = 0.50482132\n",
            "Validation score: 0.933602\n",
            "Iteration 8, loss = 0.39770069\n",
            "Validation score: 0.943662\n",
            "Iteration 9, loss = 0.32698163\n",
            "Validation score: 0.945674\n",
            "Iteration 10, loss = 0.27771535\n",
            "Validation score: 0.955734\n",
            "Iteration 11, loss = 0.24089909\n",
            "Validation score: 0.957746\n",
            "Iteration 12, loss = 0.21449265\n",
            "Validation score: 0.963783\n",
            "Iteration 13, loss = 0.19396514\n",
            "Validation score: 0.965795\n",
            "Iteration 14, loss = 0.17827019\n",
            "Validation score: 0.965795\n",
            "Iteration 15, loss = 0.16575232\n",
            "Validation score: 0.965795\n",
            "Iteration 16, loss = 0.15536163\n",
            "Validation score: 0.965795\n",
            "Iteration 17, loss = 0.14724885\n",
            "Validation score: 0.975855\n",
            "Iteration 18, loss = 0.14028000\n",
            "Validation score: 0.973843\n",
            "Iteration 19, loss = 0.13418095\n",
            "Validation score: 0.969819\n",
            "Iteration 20, loss = 0.12919313\n",
            "Validation score: 0.971831\n",
            "Iteration 21, loss = 0.12499011\n",
            "Validation score: 0.975855\n",
            "Iteration 22, loss = 0.12124465\n",
            "Validation score: 0.973843\n",
            "Iteration 23, loss = 0.11804399\n",
            "Validation score: 0.973843\n",
            "Iteration 24, loss = 0.11518237\n",
            "Validation score: 0.973843\n",
            "Iteration 25, loss = 0.11275290\n",
            "Validation score: 0.973843\n",
            "Iteration 26, loss = 0.11052813\n",
            "Validation score: 0.973843\n",
            "Iteration 27, loss = 0.10865715\n",
            "Validation score: 0.971831\n",
            "Iteration 28, loss = 0.10677942\n",
            "Validation score: 0.971831\n",
            "Validation score did not improve more than tol=0.000100 for 10 consecutive epochs. Stopping.\n"
          ],
          "name": "stdout"
        },
        {
          "output_type": "execute_result",
          "data": {
            "text/plain": [
              "MLPClassifier(activation='relu', alpha=0.05, batch_size='auto', beta_1=0.9,\n",
              "       beta_2=0.999, early_stopping=True, epsilon=1e-08,\n",
              "       hidden_layer_sizes=(100,), learning_rate='constant',\n",
              "       learning_rate_init=0.001, max_iter=600, momentum=0.9,\n",
              "       n_iter_no_change=10, nesterovs_momentum=True, power_t=0.5,\n",
              "       random_state=None, shuffle=True, solver='adam', tol=0.0001,\n",
              "       validation_fraction=0.1, verbose=True, warm_start=False)"
            ]
          },
          "metadata": {
            "tags": []
          },
          "execution_count": 27
        }
      ]
    },
    {
      "cell_type": "code",
      "metadata": {
        "id": "aEhtcfi_WJ8F",
        "colab_type": "code",
        "outputId": "8b7f768c-afa0-4286-f368-6796b3e610ab",
        "colab": {
          "base_uri": "https://localhost:8080/",
          "height": 1122
        }
      },
      "source": [
        "print(\"Training SURF MLP\")\n",
        "mlpSURF = MLPClassifier(verbose=True, early_stopping=True, alpha=0.05, max_iter=600)\n",
        "mlpSURF.fit(surf_train_feature_vec[0], surf_train_feature_vec[1])"
      ],
      "execution_count": 0,
      "outputs": [
        {
          "output_type": "stream",
          "text": [
            "Training SURF MLP\n",
            "Iteration 1, loss = 4.08640603\n",
            "Validation score: 0.221328\n",
            "Iteration 2, loss = 3.18045487\n",
            "Validation score: 0.567404\n",
            "Iteration 3, loss = 2.24556891\n",
            "Validation score: 0.782696\n",
            "Iteration 4, loss = 1.54396403\n",
            "Validation score: 0.885312\n",
            "Iteration 5, loss = 1.09231770\n",
            "Validation score: 0.923541\n",
            "Iteration 6, loss = 0.79181897\n",
            "Validation score: 0.941650\n",
            "Iteration 7, loss = 0.59233543\n",
            "Validation score: 0.949698\n",
            "Iteration 8, loss = 0.46623101\n",
            "Validation score: 0.959759\n",
            "Iteration 9, loss = 0.37213985\n",
            "Validation score: 0.959759\n",
            "Iteration 10, loss = 0.30684163\n",
            "Validation score: 0.963783\n",
            "Iteration 11, loss = 0.26318324\n",
            "Validation score: 0.965795\n",
            "Iteration 12, loss = 0.22633727\n",
            "Validation score: 0.967807\n",
            "Iteration 13, loss = 0.20022225\n",
            "Validation score: 0.967807\n",
            "Iteration 14, loss = 0.18043190\n",
            "Validation score: 0.969819\n",
            "Iteration 15, loss = 0.16447264\n",
            "Validation score: 0.973843\n",
            "Iteration 16, loss = 0.15206932\n",
            "Validation score: 0.973843\n",
            "Iteration 17, loss = 0.14215722\n",
            "Validation score: 0.977867\n",
            "Iteration 18, loss = 0.13385092\n",
            "Validation score: 0.975855\n",
            "Iteration 19, loss = 0.12662056\n",
            "Validation score: 0.975855\n",
            "Iteration 20, loss = 0.12094503\n",
            "Validation score: 0.977867\n",
            "Iteration 21, loss = 0.11631140\n",
            "Validation score: 0.975855\n",
            "Iteration 22, loss = 0.11170923\n",
            "Validation score: 0.977867\n",
            "Iteration 23, loss = 0.10812988\n",
            "Validation score: 0.977867\n",
            "Iteration 24, loss = 0.10502803\n",
            "Validation score: 0.977867\n",
            "Iteration 25, loss = 0.10222957\n",
            "Validation score: 0.977867\n",
            "Iteration 26, loss = 0.09985423\n",
            "Validation score: 0.977867\n",
            "Iteration 27, loss = 0.09771478\n",
            "Validation score: 0.977867\n",
            "Iteration 28, loss = 0.09590236\n",
            "Validation score: 0.977867\n",
            "Validation score did not improve more than tol=0.000100 for 10 consecutive epochs. Stopping.\n"
          ],
          "name": "stdout"
        },
        {
          "output_type": "execute_result",
          "data": {
            "text/plain": [
              "MLPClassifier(activation='relu', alpha=0.05, batch_size='auto', beta_1=0.9,\n",
              "       beta_2=0.999, early_stopping=True, epsilon=1e-08,\n",
              "       hidden_layer_sizes=(100,), learning_rate='constant',\n",
              "       learning_rate_init=0.001, max_iter=600, momentum=0.9,\n",
              "       n_iter_no_change=10, nesterovs_momentum=True, power_t=0.5,\n",
              "       random_state=None, shuffle=True, solver='adam', tol=0.0001,\n",
              "       validation_fraction=0.1, verbose=True, warm_start=False)"
            ]
          },
          "metadata": {
            "tags": []
          },
          "execution_count": 28
        }
      ]
    },
    {
      "cell_type": "code",
      "metadata": {
        "id": "ANOVa_4p-dWI",
        "colab_type": "code",
        "outputId": "eac5da59-8928-469a-89ea-828248e1eb1f",
        "colab": {
          "base_uri": "https://localhost:8080/",
          "height": 1904
        }
      },
      "source": [
        "print(\"Training ORB MLP\")\n",
        "mlpORB = MLPClassifier(verbose=True, early_stopping=True, alpha=0.05, max_iter=600)\n",
        "mlpORB.fit(orb_train_feature_vec[0], orb_train_feature_vec[1])"
      ],
      "execution_count": 0,
      "outputs": [
        {
          "output_type": "stream",
          "text": [
            "Training ORB MLP\n",
            "Iteration 1, loss = 4.07284116\n",
            "Validation score: 0.171371\n",
            "Iteration 2, loss = 3.31789698\n",
            "Validation score: 0.411290\n",
            "Iteration 3, loss = 2.60059775\n",
            "Validation score: 0.590726\n",
            "Iteration 4, loss = 2.01083008\n",
            "Validation score: 0.681452\n",
            "Iteration 5, loss = 1.58579738\n",
            "Validation score: 0.745968\n",
            "Iteration 6, loss = 1.28228323\n",
            "Validation score: 0.802419\n",
            "Iteration 7, loss = 1.06107389\n",
            "Validation score: 0.834677\n",
            "Iteration 8, loss = 0.89320661\n",
            "Validation score: 0.844758\n",
            "Iteration 9, loss = 0.76466211\n",
            "Validation score: 0.852823\n",
            "Iteration 10, loss = 0.66246509\n",
            "Validation score: 0.872984\n",
            "Iteration 11, loss = 0.58393836\n",
            "Validation score: 0.883065\n",
            "Iteration 12, loss = 0.51801393\n",
            "Validation score: 0.893145\n",
            "Iteration 13, loss = 0.46353554\n",
            "Validation score: 0.897177\n",
            "Iteration 14, loss = 0.41908319\n",
            "Validation score: 0.907258\n",
            "Iteration 15, loss = 0.38108849\n",
            "Validation score: 0.907258\n",
            "Iteration 16, loss = 0.34993804\n",
            "Validation score: 0.913306\n",
            "Iteration 17, loss = 0.32495015\n",
            "Validation score: 0.917339\n",
            "Iteration 18, loss = 0.30092699\n",
            "Validation score: 0.917339\n",
            "Iteration 19, loss = 0.28123950\n",
            "Validation score: 0.923387\n",
            "Iteration 20, loss = 0.26437092\n",
            "Validation score: 0.921371\n",
            "Iteration 21, loss = 0.24978745\n",
            "Validation score: 0.923387\n",
            "Iteration 22, loss = 0.23682979\n",
            "Validation score: 0.923387\n",
            "Iteration 23, loss = 0.22582819\n",
            "Validation score: 0.925403\n",
            "Iteration 24, loss = 0.21632852\n",
            "Validation score: 0.927419\n",
            "Iteration 25, loss = 0.20776723\n",
            "Validation score: 0.927419\n",
            "Iteration 26, loss = 0.20034297\n",
            "Validation score: 0.929435\n",
            "Iteration 27, loss = 0.19330547\n",
            "Validation score: 0.931452\n",
            "Iteration 28, loss = 0.18755868\n",
            "Validation score: 0.931452\n",
            "Iteration 29, loss = 0.18192395\n",
            "Validation score: 0.933468\n",
            "Iteration 30, loss = 0.17692970\n",
            "Validation score: 0.931452\n",
            "Iteration 31, loss = 0.17269067\n",
            "Validation score: 0.931452\n",
            "Iteration 32, loss = 0.16874674\n",
            "Validation score: 0.931452\n",
            "Iteration 33, loss = 0.16528041\n",
            "Validation score: 0.931452\n",
            "Iteration 34, loss = 0.16183274\n",
            "Validation score: 0.931452\n",
            "Iteration 35, loss = 0.15886992\n",
            "Validation score: 0.933468\n",
            "Iteration 36, loss = 0.15607769\n",
            "Validation score: 0.935484\n",
            "Iteration 37, loss = 0.15368846\n",
            "Validation score: 0.933468\n",
            "Iteration 38, loss = 0.15142603\n",
            "Validation score: 0.933468\n",
            "Iteration 39, loss = 0.14922277\n",
            "Validation score: 0.933468\n",
            "Iteration 40, loss = 0.14715508\n",
            "Validation score: 0.937500\n",
            "Iteration 41, loss = 0.14539578\n",
            "Validation score: 0.935484\n",
            "Iteration 42, loss = 0.14360256\n",
            "Validation score: 0.935484\n",
            "Iteration 43, loss = 0.14199491\n",
            "Validation score: 0.933468\n",
            "Iteration 44, loss = 0.14051716\n",
            "Validation score: 0.935484\n",
            "Iteration 45, loss = 0.13907885\n",
            "Validation score: 0.931452\n",
            "Iteration 46, loss = 0.13782741\n",
            "Validation score: 0.933468\n",
            "Iteration 47, loss = 0.13649410\n",
            "Validation score: 0.931452\n",
            "Iteration 48, loss = 0.13530652\n",
            "Validation score: 0.931452\n",
            "Iteration 49, loss = 0.13415703\n",
            "Validation score: 0.931452\n",
            "Iteration 50, loss = 0.13306380\n",
            "Validation score: 0.931452\n",
            "Iteration 51, loss = 0.13202464\n",
            "Validation score: 0.929435\n",
            "Validation score did not improve more than tol=0.000100 for 10 consecutive epochs. Stopping.\n"
          ],
          "name": "stdout"
        },
        {
          "output_type": "execute_result",
          "data": {
            "text/plain": [
              "MLPClassifier(activation='relu', alpha=0.05, batch_size='auto', beta_1=0.9,\n",
              "       beta_2=0.999, early_stopping=True, epsilon=1e-08,\n",
              "       hidden_layer_sizes=(100,), learning_rate='constant',\n",
              "       learning_rate_init=0.001, max_iter=600, momentum=0.9,\n",
              "       n_iter_no_change=10, nesterovs_momentum=True, power_t=0.5,\n",
              "       random_state=None, shuffle=True, solver='adam', tol=0.0001,\n",
              "       validation_fraction=0.1, verbose=True, warm_start=False)"
            ]
          },
          "metadata": {
            "tags": []
          },
          "execution_count": 29
        }
      ]
    },
    {
      "cell_type": "markdown",
      "metadata": {
        "id": "HSFhT0zPiZjZ",
        "colab_type": "text"
      },
      "source": [
        "#### Train Set Evaluation"
      ]
    },
    {
      "cell_type": "code",
      "metadata": {
        "id": "EEkyeUq3Caig",
        "colab_type": "code",
        "outputId": "18e68a01-b030-42fd-c32b-8f4c1c57cded",
        "colab": {
          "base_uri": "https://localhost:8080/",
          "height": 68
        }
      },
      "source": [
        "## Training Predictions\n",
        "\n",
        "#%% Predict  SVM\n",
        "svmPredsSIFT = svmSIFT.predict(sift_train_feature_vec[0])\n",
        "print(\"SIFT SCORE (SVM)\", accuracy_score(sift_train_feature_vec[1], svmPredsSIFT))\n",
        "\n",
        "svmPredsSURF = svmSURF.predict(surf_train_feature_vec[0])\n",
        "print(\"SURF SCORE (SVM)\", accuracy_score(surf_train_feature_vec[1], svmPredsSURF))\n",
        "\n",
        "svmPredsORB = svmORB.predict(orb_train_feature_vec[0])\n",
        "print(\"ORB SCORE (SVM)\", accuracy_score(orb_train_feature_vec[1], svmPredsORB))\n",
        "\n"
      ],
      "execution_count": 0,
      "outputs": [
        {
          "output_type": "stream",
          "text": [
            "SIFT SCORE (SVM) 0.9853059581320451\n",
            "SURF SCORE (SVM) 0.9897342995169082\n",
            "ORB SCORE (SVM) 0.9244749596122779\n"
          ],
          "name": "stdout"
        }
      ]
    },
    {
      "cell_type": "code",
      "metadata": {
        "id": "asReBijxWqdQ",
        "colab_type": "code",
        "outputId": "ee99d9be-75fb-41ad-99f3-4bc196e402dc",
        "colab": {
          "base_uri": "https://localhost:8080/",
          "height": 68
        }
      },
      "source": [
        "#%% Predict Train MLP\n",
        "mlpPredsSIFT = mlpSIFT.predict(sift_train_feature_vec[0])\n",
        "print(\"SIFT SCORE (MLP)\", accuracy_score(sift_train_feature_vec[1], mlpPredsSIFT))\n",
        "\n",
        "mlpPredsSURF = mlpSURF.predict(surf_train_feature_vec[0])\n",
        "print(\"SURF SCORE (MLP)\",  accuracy_score(surf_train_feature_vec[1], mlpPredsSURF))\n",
        "\n",
        "mlpPredsORB = mlpORB.predict(orb_train_feature_vec[0])\n",
        "print(\"ORB SCORE (MLP)\", accuracy_score(orb_train_feature_vec[1], mlpPredsORB))"
      ],
      "execution_count": 0,
      "outputs": [
        {
          "output_type": "stream",
          "text": [
            "SIFT SCORE (MLP) 0.9945652173913043\n",
            "SURF SCORE (MLP) 0.9961755233494364\n",
            "ORB SCORE (MLP) 0.9894991922455574\n"
          ],
          "name": "stdout"
        }
      ]
    },
    {
      "cell_type": "markdown",
      "metadata": {
        "id": "OufSnp16n_7W",
        "colab_type": "text"
      },
      "source": [
        "#### Test Set Evalution"
      ]
    },
    {
      "cell_type": "code",
      "metadata": {
        "id": "Z_654kOQ_wNw",
        "colab_type": "code",
        "outputId": "eb45caa7-325c-48d2-96ca-5b7160f8b440",
        "colab": {
          "base_uri": "https://localhost:8080/",
          "height": 68
        }
      },
      "source": [
        "#Test Predictions\n",
        "\n",
        "#%% Predict SVM \n",
        "svmPredsSIFT = svmSIFT.predict(sift_test_feature_vec[0])\n",
        "print(\"SIFT SCORE (SVM)\", accuracy_score(sift_test_feature_vec[1], svmPredsSIFT))\n",
        "\n",
        "svmPredsSURF = svmSURF.predict(surf_test_feature_vec[0])\n",
        "print(\"SURF SCORE (SVM)\", accuracy_score(surf_test_feature_vec[1], svmPredsSURF))\n",
        "\n",
        "svmPredsORB = svmORB.predict(orb_test_feature_vec[0])\n",
        "print(\"ORB SCORE (SVM)\", accuracy_score(orb_test_feature_vec[1], svmPredsORB))\n",
        "\n"
      ],
      "execution_count": 0,
      "outputs": [
        {
          "output_type": "stream",
          "text": [
            "SIFT SCORE (SVM) 0.959794296400187\n",
            "SURF SCORE (SVM) 0.9630668536699393\n",
            "ORB SCORE (SVM) 0.8805620608899297\n"
          ],
          "name": "stdout"
        }
      ]
    },
    {
      "cell_type": "code",
      "metadata": {
        "id": "MwaiqMOnW3dC",
        "colab_type": "code",
        "outputId": "de901033-2ab5-4d54-8a43-8b61eaed84bc",
        "colab": {
          "base_uri": "https://localhost:8080/",
          "height": 68
        }
      },
      "source": [
        "#%% Predict Test MLP\n",
        "mlpPredsSIFT = mlpSIFT.predict(sift_test_feature_vec[0])\n",
        "print(\"SIFT SCORE (MLP)\", accuracy_score(sift_test_feature_vec[1], mlpPredsSIFT))\n",
        "\n",
        "mlpPredsSURF = mlpSURF.predict(surf_test_feature_vec[0])\n",
        "print(\"SURF SCORE (MLP)\",  accuracy_score(surf_test_feature_vec[1], mlpPredsSURF))\n",
        "\n",
        "mlpPredsORB = mlpORB.predict(orb_test_feature_vec[0])\n",
        "print(\"ORB SCORE (MLP)\", accuracy_score(orb_test_feature_vec[1], mlpPredsORB))"
      ],
      "execution_count": 0,
      "outputs": [
        {
          "output_type": "stream",
          "text": [
            "SIFT SCORE (MLP) 0.9780271154745208\n",
            "SURF SCORE (MLP) 0.9733520336605891\n",
            "ORB SCORE (MLP) 0.9311475409836065\n"
          ],
          "name": "stdout"
        }
      ]
    },
    {
      "cell_type": "markdown",
      "metadata": {
        "id": "mXcLQ8qEigjl",
        "colab_type": "text"
      },
      "source": [
        "#### Save Models & Data"
      ]
    },
    {
      "cell_type": "code",
      "metadata": {
        "id": "LS4JYwVzimOV",
        "colab_type": "code",
        "outputId": "724fcf59-0212-4c57-e251-f13fc96b314c",
        "colab": {
          "base_uri": "https://localhost:8080/",
          "height": 34
        }
      },
      "source": [
        "%cd /content/drive/My\\ Drive/City\\ Msc\\ Data\\ Science/ComputerVision/models/v3"
      ],
      "execution_count": 0,
      "outputs": [
        {
          "output_type": "stream",
          "text": [
            "/content/drive/My Drive/City Msc Data Science/ComputerVision/models/v3\n"
          ],
          "name": "stdout"
        }
      ]
    },
    {
      "cell_type": "code",
      "metadata": {
        "id": "t-p5QovMFLkK",
        "colab_type": "code",
        "outputId": "0aec0df7-a8ec-49d7-84da-e9b1f1f3b6cd",
        "colab": {
          "base_uri": "https://localhost:8080/",
          "height": 34
        }
      },
      "source": [
        "## Save models\n",
        "joblib.dump(svmSIFT, \"model_siftSVM.pkl\")\n",
        "joblib.dump(svmSURF, \"model_surfSVM.pkl\")\n",
        "joblib.dump(svmORB, \"model_orbSVM.pkl\")\n",
        "\n",
        "joblib.dump(mlpSIFT, \"model_siftMLP.pkl\")\n",
        "joblib.dump(mlpSURF, \"model_surfMLP.pkl\")\n",
        "joblib.dump(mlpORB, \"model_orbMLP.pkl\")"
      ],
      "execution_count": 0,
      "outputs": [
        {
          "output_type": "execute_result",
          "data": {
            "text/plain": [
              "['model_orbMLP.pkl']"
            ]
          },
          "metadata": {
            "tags": []
          },
          "execution_count": 36
        }
      ]
    },
    {
      "cell_type": "code",
      "metadata": {
        "id": "4F3_APTxUaJM",
        "colab_type": "code",
        "outputId": "b7be3262-6f9c-4860-de32-664d3a2c01ea",
        "colab": {
          "base_uri": "https://localhost:8080/",
          "height": 51
        }
      },
      "source": [
        "# Save bag of features\n",
        "\n",
        "%cd /content/drive/My\\ Drive/City\\ Msc\\ Data\\ Science/ComputerVision/models/v3\n",
        "\n",
        "joblib.dump(sift_kmeans, \"siftBAG_kmeans.pkl\")\n",
        "joblib.dump(surf_kmeans, \"surfBAG_kmeans.pkl\")\n",
        "joblib.dump(orb_kmeans, \"orbBAG_kmeans.pkl\")"
      ],
      "execution_count": 0,
      "outputs": [
        {
          "output_type": "stream",
          "text": [
            "/content/drive/My Drive/City Msc Data Science/ComputerVision/models/v3\n"
          ],
          "name": "stdout"
        },
        {
          "output_type": "execute_result",
          "data": {
            "text/plain": [
              "['orbBAG_kmeans.pkl']"
            ]
          },
          "metadata": {
            "tags": []
          },
          "execution_count": 37
        }
      ]
    },
    {
      "cell_type": "code",
      "metadata": {
        "id": "hpa0oz8bAk8S",
        "colab_type": "code",
        "outputId": "4f5d3606-5a7d-4ddc-c9a0-118215429db9",
        "colab": {
          "base_uri": "https://localhost:8080/",
          "height": 51
        }
      },
      "source": [
        "## Save descriptors\n",
        "\n",
        "%cd /content/drive/My\\ Drive/City\\ Msc\\ Data\\ Science/ComputerVision/descriptors/v3\n",
        "\n",
        "\n",
        "joblib.dump(sift_train_feature_vec, \"sift_train.pkl\")\n",
        "joblib.dump(surf_train_feature_vec, \"surf_train.pkl\")\n",
        "joblib.dump(orb_train_feature_vec, \"orb_train.pkl\")\n",
        "\n",
        "\n",
        "joblib.dump(sift_test_feature_vec, \"sift_test.pkl\")\n",
        "joblib.dump(surf_test_feature_vec, \"surf_test.pkl\")\n",
        "joblib.dump(orb_test_feature_vec, \"orb_test.pkl\")\n",
        "\n"
      ],
      "execution_count": 0,
      "outputs": [
        {
          "output_type": "stream",
          "text": [
            "/content/drive/My Drive/City Msc Data Science/ComputerVision/descriptors/v3\n"
          ],
          "name": "stdout"
        },
        {
          "output_type": "execute_result",
          "data": {
            "text/plain": [
              "['orb_test.pkl']"
            ]
          },
          "metadata": {
            "tags": []
          },
          "execution_count": 38
        }
      ]
    },
    {
      "cell_type": "markdown",
      "metadata": {
        "id": "pXUAe5tWHqpt",
        "colab_type": "text"
      },
      "source": [
        "# Part 2: CNN"
      ]
    },
    {
      "cell_type": "code",
      "metadata": {
        "id": "vojlse7X-Tpu",
        "colab_type": "code",
        "outputId": "43c1b441-c102-4cd7-8042-283b22882da7",
        "colab": {
          "base_uri": "https://localhost:8080/",
          "height": 1105
        }
      },
      "source": [
        "!pip install tensorflow-gpu\n",
        "!pip install --upgrade tensorflow\n",
        "!pip install numpy scipy\n",
        "!pip install scikit-learn\n",
        "!pip install pillow\n",
        "!pip install h5py\n",
        "!pip install keras\n",
        "!pip install keras-preprocessing\n",
        "!pip install h5py  #for saving keras models to disk?\n"
      ],
      "execution_count": 0,
      "outputs": [
        {
          "output_type": "stream",
          "text": [
            "Requirement already satisfied: tensorflow-gpu in /usr/local/lib/python3.6/dist-packages (1.13.1)\n",
            "Requirement already satisfied: astor>=0.6.0 in /usr/local/lib/python3.6/dist-packages (from tensorflow-gpu) (0.7.1)\n",
            "Requirement already satisfied: wheel>=0.26 in /usr/local/lib/python3.6/dist-packages (from tensorflow-gpu) (0.33.1)\n",
            "Requirement already satisfied: termcolor>=1.1.0 in /usr/local/lib/python3.6/dist-packages (from tensorflow-gpu) (1.1.0)\n",
            "Requirement already satisfied: tensorflow-estimator<1.14.0rc0,>=1.13.0 in /usr/local/lib/python3.6/dist-packages (from tensorflow-gpu) (1.13.0)\n",
            "Requirement already satisfied: absl-py>=0.1.6 in /usr/local/lib/python3.6/dist-packages (from tensorflow-gpu) (0.7.1)\n",
            "Requirement already satisfied: numpy>=1.13.3 in /usr/local/lib/python3.6/dist-packages (from tensorflow-gpu) (1.16.3)\n",
            "Requirement already satisfied: keras-applications>=1.0.6 in /usr/local/lib/python3.6/dist-packages (from tensorflow-gpu) (1.0.7)\n",
            "Requirement already satisfied: protobuf>=3.6.1 in /usr/local/lib/python3.6/dist-packages (from tensorflow-gpu) (3.7.1)\n",
            "Requirement already satisfied: grpcio>=1.8.6 in /usr/local/lib/python3.6/dist-packages (from tensorflow-gpu) (1.15.0)\n",
            "Requirement already satisfied: keras-preprocessing>=1.0.5 in /usr/local/lib/python3.6/dist-packages (from tensorflow-gpu) (1.0.9)\n",
            "Requirement already satisfied: tensorboard<1.14.0,>=1.13.0 in /usr/local/lib/python3.6/dist-packages (from tensorflow-gpu) (1.13.1)\n",
            "Requirement already satisfied: gast>=0.2.0 in /usr/local/lib/python3.6/dist-packages (from tensorflow-gpu) (0.2.2)\n",
            "Requirement already satisfied: six>=1.10.0 in /usr/local/lib/python3.6/dist-packages (from tensorflow-gpu) (1.12.0)\n",
            "Requirement already satisfied: mock>=2.0.0 in /usr/local/lib/python3.6/dist-packages (from tensorflow-estimator<1.14.0rc0,>=1.13.0->tensorflow-gpu) (2.0.0)\n",
            "Requirement already satisfied: h5py in /usr/local/lib/python3.6/dist-packages (from keras-applications>=1.0.6->tensorflow-gpu) (2.8.0)\n",
            "Requirement already satisfied: setuptools in /usr/local/lib/python3.6/dist-packages (from protobuf>=3.6.1->tensorflow-gpu) (40.9.0)\n",
            "Requirement already satisfied: werkzeug>=0.11.15 in /usr/local/lib/python3.6/dist-packages (from tensorboard<1.14.0,>=1.13.0->tensorflow-gpu) (0.15.2)\n",
            "Requirement already satisfied: markdown>=2.6.8 in /usr/local/lib/python3.6/dist-packages (from tensorboard<1.14.0,>=1.13.0->tensorflow-gpu) (3.1)\n",
            "Requirement already satisfied: pbr>=0.11 in /usr/local/lib/python3.6/dist-packages (from mock>=2.0.0->tensorflow-estimator<1.14.0rc0,>=1.13.0->tensorflow-gpu) (5.1.3)\n",
            "Requirement already up-to-date: tensorflow in /usr/local/lib/python3.6/dist-packages (1.13.1)\n",
            "Requirement already satisfied, skipping upgrade: grpcio>=1.8.6 in /usr/local/lib/python3.6/dist-packages (from tensorflow) (1.15.0)\n",
            "Requirement already satisfied, skipping upgrade: protobuf>=3.6.1 in /usr/local/lib/python3.6/dist-packages (from tensorflow) (3.7.1)\n",
            "Requirement already satisfied, skipping upgrade: six>=1.10.0 in /usr/local/lib/python3.6/dist-packages (from tensorflow) (1.12.0)\n",
            "Requirement already satisfied, skipping upgrade: astor>=0.6.0 in /usr/local/lib/python3.6/dist-packages (from tensorflow) (0.7.1)\n",
            "Requirement already satisfied, skipping upgrade: gast>=0.2.0 in /usr/local/lib/python3.6/dist-packages (from tensorflow) (0.2.2)\n",
            "Requirement already satisfied, skipping upgrade: absl-py>=0.1.6 in /usr/local/lib/python3.6/dist-packages (from tensorflow) (0.7.1)\n",
            "Requirement already satisfied, skipping upgrade: tensorflow-estimator<1.14.0rc0,>=1.13.0 in /usr/local/lib/python3.6/dist-packages (from tensorflow) (1.13.0)\n",
            "Requirement already satisfied, skipping upgrade: wheel>=0.26 in /usr/local/lib/python3.6/dist-packages (from tensorflow) (0.33.1)\n",
            "Requirement already satisfied, skipping upgrade: tensorboard<1.14.0,>=1.13.0 in /usr/local/lib/python3.6/dist-packages (from tensorflow) (1.13.1)\n",
            "Requirement already satisfied, skipping upgrade: termcolor>=1.1.0 in /usr/local/lib/python3.6/dist-packages (from tensorflow) (1.1.0)\n",
            "Requirement already satisfied, skipping upgrade: numpy>=1.13.3 in /usr/local/lib/python3.6/dist-packages (from tensorflow) (1.16.3)\n",
            "Requirement already satisfied, skipping upgrade: keras-applications>=1.0.6 in /usr/local/lib/python3.6/dist-packages (from tensorflow) (1.0.7)\n",
            "Requirement already satisfied, skipping upgrade: keras-preprocessing>=1.0.5 in /usr/local/lib/python3.6/dist-packages (from tensorflow) (1.0.9)\n",
            "Requirement already satisfied, skipping upgrade: setuptools in /usr/local/lib/python3.6/dist-packages (from protobuf>=3.6.1->tensorflow) (40.9.0)\n",
            "Requirement already satisfied, skipping upgrade: mock>=2.0.0 in /usr/local/lib/python3.6/dist-packages (from tensorflow-estimator<1.14.0rc0,>=1.13.0->tensorflow) (2.0.0)\n",
            "Requirement already satisfied, skipping upgrade: markdown>=2.6.8 in /usr/local/lib/python3.6/dist-packages (from tensorboard<1.14.0,>=1.13.0->tensorflow) (3.1)\n",
            "Requirement already satisfied, skipping upgrade: werkzeug>=0.11.15 in /usr/local/lib/python3.6/dist-packages (from tensorboard<1.14.0,>=1.13.0->tensorflow) (0.15.2)\n",
            "Requirement already satisfied, skipping upgrade: h5py in /usr/local/lib/python3.6/dist-packages (from keras-applications>=1.0.6->tensorflow) (2.8.0)\n",
            "Requirement already satisfied, skipping upgrade: pbr>=0.11 in /usr/local/lib/python3.6/dist-packages (from mock>=2.0.0->tensorflow-estimator<1.14.0rc0,>=1.13.0->tensorflow) (5.1.3)\n",
            "Requirement already satisfied: numpy in /usr/local/lib/python3.6/dist-packages (1.16.3)\n",
            "Requirement already satisfied: scipy in /usr/local/lib/python3.6/dist-packages (1.2.1)\n",
            "Requirement already satisfied: scikit-learn in /usr/local/lib/python3.6/dist-packages (0.20.3)\n",
            "Requirement already satisfied: numpy>=1.8.2 in /usr/local/lib/python3.6/dist-packages (from scikit-learn) (1.16.3)\n",
            "Requirement already satisfied: scipy>=0.13.3 in /usr/local/lib/python3.6/dist-packages (from scikit-learn) (1.2.1)\n",
            "Requirement already satisfied: pillow in /usr/local/lib/python3.6/dist-packages (4.3.0)\n",
            "Requirement already satisfied: olefile in /usr/local/lib/python3.6/dist-packages (from pillow) (0.46)\n",
            "Requirement already satisfied: h5py in /usr/local/lib/python3.6/dist-packages (2.8.0)\n",
            "Requirement already satisfied: numpy>=1.7 in /usr/local/lib/python3.6/dist-packages (from h5py) (1.16.3)\n",
            "Requirement already satisfied: six in /usr/local/lib/python3.6/dist-packages (from h5py) (1.12.0)\n",
            "Requirement already satisfied: keras in /usr/local/lib/python3.6/dist-packages (2.2.4)\n",
            "Requirement already satisfied: h5py in /usr/local/lib/python3.6/dist-packages (from keras) (2.8.0)\n",
            "Requirement already satisfied: numpy>=1.9.1 in /usr/local/lib/python3.6/dist-packages (from keras) (1.16.3)\n",
            "Requirement already satisfied: keras-applications>=1.0.6 in /usr/local/lib/python3.6/dist-packages (from keras) (1.0.7)\n",
            "Requirement already satisfied: keras-preprocessing>=1.0.5 in /usr/local/lib/python3.6/dist-packages (from keras) (1.0.9)\n",
            "Requirement already satisfied: six>=1.9.0 in /usr/local/lib/python3.6/dist-packages (from keras) (1.12.0)\n",
            "Requirement already satisfied: scipy>=0.14 in /usr/local/lib/python3.6/dist-packages (from keras) (1.2.1)\n",
            "Requirement already satisfied: pyyaml in /usr/local/lib/python3.6/dist-packages (from keras) (3.13)\n",
            "Requirement already satisfied: keras-preprocessing in /usr/local/lib/python3.6/dist-packages (1.0.9)\n",
            "Requirement already satisfied: six>=1.9.0 in /usr/local/lib/python3.6/dist-packages (from keras-preprocessing) (1.12.0)\n",
            "Requirement already satisfied: numpy>=1.9.1 in /usr/local/lib/python3.6/dist-packages (from keras-preprocessing) (1.16.3)\n",
            "Requirement already satisfied: h5py in /usr/local/lib/python3.6/dist-packages (2.8.0)\n",
            "Requirement already satisfied: six in /usr/local/lib/python3.6/dist-packages (from h5py) (1.12.0)\n",
            "Requirement already satisfied: numpy>=1.7 in /usr/local/lib/python3.6/dist-packages (from h5py) (1.16.3)\n"
          ],
          "name": "stdout"
        }
      ]
    },
    {
      "cell_type": "markdown",
      "metadata": {
        "id": "AJivnUQQizSl",
        "colab_type": "text"
      },
      "source": [
        "#### Prepare Data"
      ]
    },
    {
      "cell_type": "code",
      "metadata": {
        "id": "FhR5MNzn8yxt",
        "colab_type": "code",
        "colab": {}
      },
      "source": [
        "from keras.preprocessing.image import ImageDataGenerator"
      ],
      "execution_count": 0,
      "outputs": []
    },
    {
      "cell_type": "code",
      "metadata": {
        "id": "k0F9uIM9yoj0",
        "colab_type": "code",
        "outputId": "19e68e8f-d3e4-46c2-cf50-79045358ada6",
        "colab": {
          "base_uri": "https://localhost:8080/",
          "height": 119
        }
      },
      "source": [
        "%cd /content/drive/My\\ Drive/City\\ Msc\\ Data\\ Science/ComputerVision/crops/\n",
        "!ls -l"
      ],
      "execution_count": 0,
      "outputs": [
        {
          "output_type": "stream",
          "text": [
            "/content/drive/My Drive/City Msc Data Science/ComputerVision/crops\n",
            "total 19\n",
            "-rw-------  1 root root 6477 Apr 18 17:23  juan.jpg\n",
            "drwx------  2 root root 4096 Apr 22 16:35 'model(?)'\n",
            "drwx------ 71 root root 4096 Apr 16 18:53  test\n",
            "drwx------ 71 root root 4096 Apr 16 18:53  train\n"
          ],
          "name": "stdout"
        }
      ]
    },
    {
      "cell_type": "code",
      "metadata": {
        "id": "S0YMi9vsEhNe",
        "colab_type": "code",
        "colab": {}
      },
      "source": [
        "train_datagen = ImageDataGenerator(\n",
        "        rescale=1./255,\n",
        "        shear_range=0.2,\n",
        "        zoom_range=0.2,\n",
        "        horizontal_flip=False)\n",
        "\n",
        "test_datagen = ImageDataGenerator(rescale=1./255)"
      ],
      "execution_count": 0,
      "outputs": []
    },
    {
      "cell_type": "code",
      "metadata": {
        "id": "JFthbhzo_e0H",
        "colab_type": "code",
        "outputId": "fd714d85-4bb3-4df3-e6ca-a7268c9e2a8e",
        "colab": {
          "base_uri": "https://localhost:8080/",
          "height": 34
        }
      },
      "source": [
        "train_generator = train_datagen.flow_from_directory(\n",
        "    directory=r\"train/\",\n",
        "    target_size=(224, 224),\n",
        "    color_mode=\"rgb\",\n",
        "    batch_size=32,\n",
        "    class_mode=\"categorical\",\n",
        "  #  shuffle=True,\n",
        "    seed=42\n",
        ")"
      ],
      "execution_count": 0,
      "outputs": [
        {
          "output_type": "stream",
          "text": [
            "Found 4968 images belonging to 69 classes.\n"
          ],
          "name": "stdout"
        }
      ]
    },
    {
      "cell_type": "code",
      "metadata": {
        "id": "HGoeoEdv_WDD",
        "colab_type": "code",
        "outputId": "7d49f69d-f256-4cdf-f619-2f164be15a3d",
        "colab": {
          "base_uri": "https://localhost:8080/",
          "height": 34
        }
      },
      "source": [
        "valid_generator = test_datagen.flow_from_directory(\n",
        "    directory=r\"test/\",\n",
        "    target_size=(224, 224),\n",
        "    color_mode=\"rgb\",\n",
        "    batch_size=32,\n",
        "    class_mode=\"categorical\",\n",
        "#    shuffle=True,\n",
        "    seed=42\n",
        ")"
      ],
      "execution_count": 0,
      "outputs": [
        {
          "output_type": "stream",
          "text": [
            "Found 2139 images belonging to 69 classes.\n"
          ],
          "name": "stdout"
        }
      ]
    },
    {
      "cell_type": "markdown",
      "metadata": {
        "id": "xjRI2QiKwjXq",
        "colab_type": "text"
      },
      "source": [
        "## VGG16"
      ]
    },
    {
      "cell_type": "code",
      "metadata": {
        "id": "_piCEQ3DJlVI",
        "colab_type": "code",
        "colab": {}
      },
      "source": [
        "import pandas as pd\n",
        "import numpy as np\n",
        "import os\n",
        "import keras\n",
        "from keras.layers import Dense, GlobalAveragePooling2D, Flatten, Dropout\n",
        "from keras.applications import VGG16\n",
        "from keras.preprocessing.image import ImageDataGenerator\n",
        "from keras.models import Model\n",
        "from keras.optimizers import Adam\n",
        "from keras.callbacks import EarlyStopping\n",
        "from keras.models import load_model\n",
        "import matplotlib.pyplot as plt\n",
        "from google.colab.patches import cv2_imshow"
      ],
      "execution_count": 0,
      "outputs": []
    },
    {
      "cell_type": "markdown",
      "metadata": {
        "id": "WXDY0CULDp2c",
        "colab_type": "text"
      },
      "source": [
        "#### Build Model"
      ]
    },
    {
      "cell_type": "code",
      "metadata": {
        "id": "3M76M8_yNR33",
        "colab_type": "code",
        "outputId": "fa37b583-00ad-46c0-9acf-b382f6743b8b",
        "colab": {
          "base_uri": "https://localhost:8080/",
          "height": 435
        }
      },
      "source": [
        "# Build CNN with VGG16 base architecture and ImageNet weights\n",
        "base_model=VGG16(weights='imagenet',include_top=False, input_shape=(224, 224, 3)) #imports the  VGG model and discards the last 1000 neuron layer.\n",
        "\n",
        "x=base_model.output\n",
        "x=Flatten()(x)\n",
        "x=Dense(1028,activation='relu')(x) #we add dense layers so that the model can learn more complex functions and classify for better results.\n",
        "x=Dropout(0.5)(x)\n",
        "preds=Dense(69,activation='softmax')(x) #final layer with softmax activation\n",
        "\n",
        "model= Model(inputs=base_model.input,outputs=preds)\n",
        "\n",
        "for layer in model.layers[:19]:\n",
        "    layer.trainable=False\n",
        "for layer in model.layers[19:]:\n",
        "    layer.trainable=True\n",
        "\n",
        "for i,layer in enumerate(model.layers):\n",
        "  print(i,layer.name, layer.trainable)\n",
        "  \n",
        "  "
      ],
      "execution_count": 0,
      "outputs": [
        {
          "output_type": "stream",
          "text": [
            "0 input_3 False\n",
            "1 block1_conv1 False\n",
            "2 block1_conv2 False\n",
            "3 block1_pool False\n",
            "4 block2_conv1 False\n",
            "5 block2_conv2 False\n",
            "6 block2_pool False\n",
            "7 block3_conv1 False\n",
            "8 block3_conv2 False\n",
            "9 block3_conv3 False\n",
            "10 block3_pool False\n",
            "11 block4_conv1 False\n",
            "12 block4_conv2 False\n",
            "13 block4_conv3 False\n",
            "14 block4_pool False\n",
            "15 block5_conv1 False\n",
            "16 block5_conv2 False\n",
            "17 block5_conv3 False\n",
            "18 block5_pool False\n",
            "19 flatten_3 True\n",
            "20 dense_5 True\n",
            "21 dropout_3 True\n",
            "22 dense_6 True\n"
          ],
          "name": "stdout"
        }
      ]
    },
    {
      "cell_type": "markdown",
      "metadata": {
        "id": "TGwMpu-uDtqI",
        "colab_type": "text"
      },
      "source": [
        "#### Train Model"
      ]
    },
    {
      "cell_type": "code",
      "metadata": {
        "id": "AHUrVGTFPsC_",
        "colab_type": "code",
        "outputId": "2bb343a3-0e65-4288-b8bf-85fab3cd7bcb",
        "colab": {
          "base_uri": "https://localhost:8080/",
          "height": 599
        }
      },
      "source": [
        "# Train last 4 layers of model\n",
        "model.compile(optimizer='Adam',loss='categorical_crossentropy',metrics=['accuracy'])\n",
        "\n",
        "early_stop = EarlyStopping(patience=3)\n",
        "step_size_train=train_generator.n//train_generator.batch_size\n",
        "step_size_valid=valid_generator.n//valid_generator.batch_size\n",
        "\n",
        "with Timer() as t:\n",
        "  history = model.fit_generator(generator=train_generator,\n",
        "                     steps_per_epoch=step_size_train,\n",
        "                     validation_data=valid_generator,\n",
        "                     validation_steps=step_size_valid,\n",
        "                     callbacks=[early_stop],\n",
        "                     epochs=30)\n",
        "  \n",
        "print(\"\\n\", \"Time\", t.secs)"
      ],
      "execution_count": 0,
      "outputs": [
        {
          "output_type": "stream",
          "text": [
            "Epoch 1/30\n",
            "155/155 [==============================] - 73s 469ms/step - loss: 3.3950 - acc: 0.3589 - val_loss: 0.4705 - val_acc: 0.9568\n",
            "Epoch 2/30\n",
            "155/155 [==============================] - 68s 437ms/step - loss: 0.8322 - acc: 0.7962 - val_loss: 0.0977 - val_acc: 0.9910\n",
            "Epoch 3/30\n",
            "155/155 [==============================] - 67s 432ms/step - loss: 0.4349 - acc: 0.8917 - val_loss: 0.0609 - val_acc: 0.9943\n",
            "Epoch 4/30\n",
            "155/155 [==============================] - 66s 429ms/step - loss: 0.2866 - acc: 0.9315 - val_loss: 0.0369 - val_acc: 0.9953\n",
            "Epoch 5/30\n",
            "155/155 [==============================] - 68s 436ms/step - loss: 0.2265 - acc: 0.9464 - val_loss: 0.0223 - val_acc: 0.9972\n",
            "Epoch 6/30\n",
            "155/155 [==============================] - 67s 434ms/step - loss: 0.1828 - acc: 0.9500 - val_loss: 0.0152 - val_acc: 0.9972\n",
            "Epoch 7/30\n",
            "155/155 [==============================] - 68s 441ms/step - loss: 0.1776 - acc: 0.9506 - val_loss: 0.0177 - val_acc: 0.9972\n",
            "Epoch 8/30\n",
            "155/155 [==============================] - 67s 435ms/step - loss: 0.1713 - acc: 0.9524 - val_loss: 0.0128 - val_acc: 0.9986\n",
            "Epoch 9/30\n",
            "155/155 [==============================] - 68s 436ms/step - loss: 0.1615 - acc: 0.9548 - val_loss: 0.0082 - val_acc: 0.9986\n",
            "Epoch 10/30\n",
            "155/155 [==============================] - 69s 443ms/step - loss: 0.1453 - acc: 0.9593 - val_loss: 0.0154 - val_acc: 0.9972\n",
            "Epoch 11/30\n",
            "155/155 [==============================] - 67s 430ms/step - loss: 0.1616 - acc: 0.9504 - val_loss: 0.0098 - val_acc: 0.9976\n",
            "Epoch 12/30\n",
            "155/155 [==============================] - 67s 429ms/step - loss: 0.1406 - acc: 0.9579 - val_loss: 0.0074 - val_acc: 0.9986\n",
            "Epoch 13/30\n",
            "155/155 [==============================] - 67s 435ms/step - loss: 0.1212 - acc: 0.9591 - val_loss: 0.0076 - val_acc: 0.9986\n",
            "Epoch 14/30\n",
            "155/155 [==============================] - 69s 445ms/step - loss: 0.1289 - acc: 0.9577 - val_loss: 0.0107 - val_acc: 0.9972\n",
            "Epoch 15/30\n",
            "155/155 [==============================] - 68s 436ms/step - loss: 0.1988 - acc: 0.9335 - val_loss: 0.0181 - val_acc: 0.9972\n",
            "\n",
            " Time 1018.5284022610012\n"
          ],
          "name": "stdout"
        }
      ]
    },
    {
      "cell_type": "markdown",
      "metadata": {
        "id": "TFYtwFi-D2Fo",
        "colab_type": "text"
      },
      "source": [
        "#### Evaluate Model"
      ]
    },
    {
      "cell_type": "code",
      "metadata": {
        "id": "4mx6UQnLj_xE",
        "colab_type": "code",
        "outputId": "565ccdf8-f4ff-457a-8cfd-9eaeb18b4ce3",
        "colab": {
          "base_uri": "https://localhost:8080/",
          "height": 592
        }
      },
      "source": [
        "# Plot Accuracy and Loss\n",
        "\n",
        "# list all data in history\n",
        "print(history.history.keys())\n",
        "\n",
        "# summarize history for accuracy\n",
        "plt.plot(history.history['acc'])\n",
        "plt.plot(history.history['val_acc'])\n",
        "plt.title('model accuracy')\n",
        "plt.ylabel('accuracy')\n",
        "plt.xlabel('epoch')\n",
        "plt.legend(['train', 'test'], loc='upper left')\n",
        "plt.show()\n",
        "\n",
        "# summarize history for loss\n",
        "plt.plot(history.history['loss'])\n",
        "plt.plot(history.history['val_loss'])\n",
        "plt.title('model loss')\n",
        "plt.ylabel('loss')\n",
        "plt.xlabel('epoch')\n",
        "plt.legend(['train', 'test'], loc='upper left')\n",
        "plt.show()"
      ],
      "execution_count": 0,
      "outputs": [
        {
          "output_type": "stream",
          "text": [
            "dict_keys(['val_loss', 'val_acc', 'loss', 'acc'])\n"
          ],
          "name": "stdout"
        },
        {
          "output_type": "display_data",
          "data": {
            "image/png": "[encoded data removed]",
            "text/plain": [
              "<Figure size 432x288 with 1 Axes>"
            ]
          },
          "metadata": {
            "tags": []
          }
        },
        {
          "output_type": "display_data",
          "data": {
            "image/png": "[encoded data removed]",
            "text/plain": [
              "<Figure size 432x288 with 1 Axes>"
            ]
          },
          "metadata": {
            "tags": []
          }
        }
      ]
    },
    {
      "cell_type": "code",
      "metadata": {
        "id": "7QoFjcK7uNPe",
        "colab_type": "code",
        "outputId": "03ca7e8c-8e00-4de7-fc81-467f3478e9ea",
        "colab": {
          "base_uri": "https://localhost:8080/",
          "height": 1272
        }
      },
      "source": [
        "# Get mapping  for predictions\n",
        "class_to_index = train_generator.class_indices\n",
        "label_map = dict((v,k) for k,v in class_to_index.items()) \n",
        "label_map"
      ],
      "execution_count": 0,
      "outputs": [
        {
          "output_type": "execute_result",
          "data": {
            "text/plain": [
              "{0: '1',\n",
              " 1: '10',\n",
              " 2: '11',\n",
              " 3: '12',\n",
              " 4: '13',\n",
              " 5: '14',\n",
              " 6: '15',\n",
              " 7: '16',\n",
              " 8: '17',\n",
              " 9: '2',\n",
              " 10: '20',\n",
              " 11: '21',\n",
              " 12: '22',\n",
              " 13: '24',\n",
              " 14: '3',\n",
              " 15: '33',\n",
              " 16: '34',\n",
              " 17: '36',\n",
              " 18: '37',\n",
              " 19: '38',\n",
              " 20: '39',\n",
              " 21: '4',\n",
              " 22: '40',\n",
              " 23: '41',\n",
              " 24: '42',\n",
              " 25: '43',\n",
              " 26: '44',\n",
              " 27: '45',\n",
              " 28: '46',\n",
              " 29: '47',\n",
              " 30: '48',\n",
              " 31: '49',\n",
              " 32: '5',\n",
              " 33: '50',\n",
              " 34: '51',\n",
              " 35: '52',\n",
              " 36: '53',\n",
              " 37: '54',\n",
              " 38: '55',\n",
              " 39: '56',\n",
              " 40: '57',\n",
              " 41: '58',\n",
              " 42: '59',\n",
              " 43: '6',\n",
              " 44: '60',\n",
              " 45: '61',\n",
              " 46: '62',\n",
              " 47: '63',\n",
              " 48: '64',\n",
              " 49: '65',\n",
              " 50: '66',\n",
              " 51: '67',\n",
              " 52: '68',\n",
              " 53: '69',\n",
              " 54: '7',\n",
              " 55: '70',\n",
              " 56: '71',\n",
              " 57: '72',\n",
              " 58: '73',\n",
              " 59: '74',\n",
              " 60: '75',\n",
              " 61: '76',\n",
              " 62: '77',\n",
              " 63: '78',\n",
              " 64: '79',\n",
              " 65: '8',\n",
              " 66: '80',\n",
              " 67: '81',\n",
              " 68: '9'}"
            ]
          },
          "metadata": {
            "tags": []
          },
          "execution_count": 53
        }
      ]
    },
    {
      "cell_type": "code",
      "metadata": {
        "id": "1IqJYar8Soxa",
        "colab_type": "code",
        "outputId": "65d08c70-695a-44a7-d61e-908cb882e2c2",
        "colab": {
          "base_uri": "https://localhost:8080/",
          "height": 55
        }
      },
      "source": [
        "# Batch Predictions\n",
        "def get_classes(preds, label_map):\n",
        "  predictions = np.argmax(preds, axis=-1)\n",
        "  class_preds = [label_map[k] for k in predictions]\n",
        "  return class_preds\n",
        "\n",
        "test_probs = model.predict_generator(valid_generator, steps=step_size_valid)\n",
        "test_preds = get_classes(test_probs, label_map)\n",
        "print(test_preds)"
      ],
      "execution_count": 0,
      "outputs": [
        {
          "output_type": "stream",
          "text": [
            "['9', '46', '3', '53', '76', '17', '59', '51', '79', '47', '41', '2', '20', '4', '1', '20', '59', '73', '49', '37', '12', '15', '38', '2', '55', '77', '41', '2', '47', '22', '3', '65', '50', '44', '24', '54', '47', '53', '22', '8', '44', '8', '3', '61', '75', '52', '43', '56', '49', '22', '54', '61', '52', '74', '48', '40', '15', '10', '9', '64', '36', '73', '77', '37', '7', '66', '74', '60', '53', '53', '38', '68', '45', '77', '54', '49', '70', '10', '48', '61', '22', '45', '63', '51', '3', '42', '12', '52', '64', '20', '68', '48', '10', '13', '41', '40', '81', '2', '73', '22', '65', '17', '47', '42', '38', '13', '71', '22', '58', '10', '61', '54', '44', '36', '49', '66', '2', '73', '24', '2', '22', '34', '73', '58', '59', '38', '44', '64', '7', '69', '56', '73', '5', '45', '16', '77', '59', '66', '41', '4', '6', '6', '2', '40', '10', '16', '2', '52', '45', '54', '48', '68', '70', '77', '61', '61', '81', '51', '72', '24', '9', '53', '7', '63', '20', '74', '21', '3', '5', '81', '75', '77', '40', '76', '69', '49', '75', '56', '60', '67', '48', '22', '51', '8', '42', '17', '22', '4', '61', '53', '55', '58', '1', '39', '3', '33', '15', '68', '60', '60', '52', '38', '66', '39', '38', '16', '57', '21', '4', '3', '20', '58', '40', '75', '55', '9', '41', '53', '8', '51', '74', '72', '78', '57', '60', '51', '68', '63', '67', '2', '41', '57', '44', '44', '69', '10', '47', '37', '74', '46', '73', '20', '59', '69', '38', '7', '1', '73', '14', '34', '44', '17', '5', '38', '22', '55', '12', '5', '11', '43', '24', '72', '3', '20', '67', '42', '37', '24', '56', '64', '21', '12', '7', '15', '58', '50', '2', '17', '67', '59', '13', '3', '74', '38', '60', '53', '16', '76', '78', '62', '44', '6', '4', '11', '55', '48', '37', '59', '16', '36', '79', '20', '50', '77', '81', '16', '42', '49', '80', '8', '61', '10', '71', '15', '59', '64', '6', '12', '64', '54', '43', '9', '58', '36', '79', '33', '54', '53', '43', '34', '69', '46', '22', '66', '52', '59', '42', '80', '50', '6', '55', '66', '45', '54', '41', '12', '69', '22', '16', '22', '10', '73', '47', '20', '79', '73', '52', '33', '49', '1', '11', '71', '53', '66', '48', '8', '47', '52', '60', '63', '72', '50', '13', '61', '45', '3', '5', '3', '34', '71', '68', '68', '65', '11', '17', '46', '36', '64', '65', '54', '80', '38', '80', '10', '73', '12', '53', '59', '77', '46', '52', '76', '64', '48', '53', '4', '15', '56', '41', '16', '57', '50', '2', '58', '7', '81', '65', '53', '13', '1', '53', '22', '66', '54', '6', '46', '43', '65', '4', '62', '72', '47', '56', '63', '13', '9', '55', '24', '10', '20', '69', '40', '16', '66', '12', '5', '39', '61', '21', '20', '41', '42', '40', '8', '7', '9', '1', '76', '61', '40', '14', '78', '11', '38', '52', '55', '78', '75', '14', '63', '50', '52', '15', '62', '62', '8', '80', '34', '67', '62', '75', '38', '44', '51', '36', '79', '69', '51', '81', '42', '58', '72', '37', '13', '55', '44', '50', '67', '67', '54', '13', '46', '37', '81', '22', '16', '22', '8', '42', '24', '36', '55', '43', '2', '34', '73', '38', '47', '17', '50', '15', '38', '10', '34', '47', '78', '53', '13', '70', '63', '72', '47', '78', '1', '12', '57', '11', '57', '45', '49', '48', '21', '10', '5', '69', '21', '71', '77', '1', '63', '54', '10', '80', '70', '3', '66', '9', '42', '53', '70', '66', '52', '59', '51', '58', '56', '61', '79', '17', '50', '49', '74', '49', '39', '14', '70', '55', '73', '24', '71', '7', '58', '68', '9', '77', '62', '56', '11', '21', '41', '42', '60', '54', '57', '45', '78', '41', '38', '64', '6', '12', '51', '41', '41', '78', '5', '71', '63', '7', '12', '11', '75', '14', '67', '45', '33', '42', '76', '56', '74', '36', '69', '54', '56', '75', '58', '62', '40', '41', '24', '59', '11', '81', '78', '49', '66', '81', '53', '56', '8', '57', '62', '6', '5', '72', '67', '81', '71', '51', '34', '10', '47', '76', '62', '81', '68', '37', '64', '78', '46', '24', '72', '38', '73', '67', '16', '2', '2', '50', '65', '81', '9', '72', '72', '34', '43', '2', '57', '65', '45', '40', '15', '21', '55', '24', '2', '41', '67', '21', '81', '66', '13', '11', '51', '67', '10', '60', '70', '21', '39', '2', '63', '37', '46', '4', '55', '63', '76', '48', '71', '17', '39', '52', '6', '49', '20', '42', '69', '48', '43', '11', '43', '15', '34', '80', '21', '80', '55', '38', '16', '14', '73', '9', '24', '69', '5', '12', '75', '44', '8', '49', '20', '12', '37', '51', '16', '60', '2', '62', '49', '42', '11', '68', '12', '51', '75', '57', '14', '64', '80', '53', '22', '12', '68', '69', '52', '22', '80', '20', '36', '63', '14', '56', '75', '46', '17', '58', '54', '59', '39', '43', '63', '72', '64', '16', '42', '58', '52', '52', '66', '7', '79', '14', '3', '64', '58', '17', '67', '6', '81', '37', '56', '48', '14', '73', '37', '50', '13', '17', '53', '70', '70', '52', '13', '72', '41', '40', '70', '71', '4', '56', '76', '70', '33', '47', '6', '33', '71', '65', '11', '63', '68', '72', '81', '75', '78', '9', '80', '4', '13', '77', '79', '60', '69', '20', '48', '47', '67', '60', '36', '70', '11', '20', '6', '1', '24', '56', '58', '8', '66', '51', '78', '81', '70', '24', '2', '74', '5', '61', '81', '72', '15', '72', '43', '50', '68', '5', '64', '1', '59', '5', '50', '34', '40', '53', '74', '76', '4', '46', '21', '56', '51', '34', '36', '75', '60', '78', '59', '56', '6', '12', '78', '56', '38', '37', '44', '48', '48', '9', '17', '47', '17', '16', '40', '67', '57', '57', '65', '77', '13', '12', '65', '81', '11', '4', '14', '51', '57', '47', '58', '8', '40', '7', '76', '34', '79', '37', '49', '8', '79', '78', '43', '6', '12', '57', '71', '68', '54', '1', '68', '36', '37', '24', '66', '64', '67', '65', '10', '24', '51', '54', '37', '59', '38', '12', '9', '16', '60', '4', '78', '1', '2', '39', '57', '62', '38', '62', '34', '63', '13', '40', '20', '49', '34', '39', '68', '1', '49', '7', '8', '54', '75', '45', '11', '44', '79', '54', '1', '65', '67', '58', '51', '71', '42', '20', '67', '75', '5', '71', '73', '61', '16', '8', '24', '11', '2', '46', '1', '57', '67', '36', '74', '38', '70', '77', '24', '44', '50', '76', '39', '33', '61', '1', '13', '46', '76', '16', '39', '5', '42', '10', '47', '34', '13', '62', '58', '5', '71', '79', '69', '13', '76', '75', '69', '3', '11', '57', '8', '1', '40', '4', '71', '10', '52', '21', '6', '80', '81', '17', '5', '66', '76', '52', '36', '74', '80', '33', '71', '81', '10', '49', '15', '76', '24', '57', '33', '67', '69', '14', '5', '12', '64', '56', '64', '45', '12', '78', '64', '4', '47', '6', '7', '40', '76', '81', '45', '56', '41', '53', '44', '67', '21', '11', '70', '62', '62', '24', '64', '39', '16', '76', '48', '21', '12', '80', '34', '71', '46', '34', '45', '62', '4', '43', '8', '13', '50', '9', '20', '2', '20', '56', '36', '9', '24', '56', '55', '74', '7', '57', '59', '78', '39', '59', '63', '58', '52', '9', '15', '55', '67', '62', '60', '13', '66', '64', '80', '40', '70', '37', '74', '80', '74', '36', '53', '10', '70', '55', '55', '9', '51', '3', '62', '49', '13', '36', '65', '57', '5', '4', '3', '12', '33', '49', '15', '52', '36', '63', '3', '57', '11', '66', '71', '79', '75', '46', '71', '39', '16', '40', '66', '41', '63', '66', '9', '4', '14', '48', '42', '66', '5', '40', '14', '60', '76', '48', '81', '44', '17', '16', '14', '7', '36', '81', '75', '36', '75', '47', '2', '58', '50', '21', '55', '69', '44', '15', '74', '75', '42', '38', '59', '81', '61', '15', '21', '54', '37', '61', '5', '6', '9', '10', '62', '17', '63', '43', '24', '65', '1', '65', '77', '57', '4', '52', '69', '62', '44', '58', '66', '46', '21', '5', '49', '43', '74', '67', '36', '76', '76', '54', '44', '46', '34', '5', '56', '33', '79', '49', '65', '76', '61', '7', '61', '78', '61', '54', '50', '80', '17', '37', '22', '13', '65', '10', '62', '21', '79', '54', '7', '43', '79', '33', '72', '72', '65', '46', '69', '6', '68', '34', '69', '58', '60', '12', '42', '43', '1', '67', '80', '42', '53', '17', '6', '1', '76', '66', '49', '7', '39', '4', '40', '21', '2', '1', '74', '40', '75', '59', '52', '46', '33', '64', '39', '43', '51', '73', '2', '4', '34', '43', '39', '39', '70', '16', '33', '5', '7', '3', '17', '79', '71', '4', '11', '47', '70', '57', '65', '33', '75', '22', '21', '53', '11', '8', '39', '8', '72', '5', '42', '70', '77', '76', '64', '7', '47', '74', '70', '51', '58', '69', '45', '11', '46', '63', '60', '44', '14', '60', '51', '81', '20', '3', '42', '14', '34', '38', '59', '7', '62', '3', '72', '37', '3', '51', '3', '37', '75', '37', '15', '55', '10', '80', '7', '53', '45', '55', '73', '71', '78', '17', '41', '36', '42', '68', '9', '40', '11', '8', '68', '69', '72', '64', '54', '49', '39', '22', '45', '17', '44', '44', '16', '16', '61', '46', '48', '11', '12', '33', '69', '3', '45', '63', '9', '72', '75', '68', '69', '7', '20', '65', '74', '55', '3', '77', '41', '15', '71', '22', '1', '74', '55', '61', '24', '61', '21', '38', '43', '33', '16', '40', '21', '15', '73', '72', '51', '69', '1', '8', '56', '57', '48', '74', '58', '7', '41', '74', '65', '34', '64', '74', '60', '60', '15', '3', '48', '79', '9', '71', '49', '73', '42', '41', '74', '79', '62', '37', '22', '33', '70', '59', '68', '14', '67', '37', '8', '77', '48', '15', '9', '10', '62', '55', '13', '14', '80', '75', '17', '22', '21', '2', '41', '45', '33', '9', '46', '64', '14', '77', '5', '40', '6', '41', '63', '66', '22', '66', '81', '34', '54', '55', '9', '75', '21', '62', '72', '80', '16', '9', '43', '34', '55', '62', '58', '73', '69', '48', '67', '46', '36', '57', '70', '68', '45', '53', '51', '37', '40', '62', '63', '77', '73', '14', '71', '11', '12', '79', '43', '56', '45', '51', '53', '47', '75', '38', '77', '4', '4', '73', '80', '76', '77', '46', '8', '47', '69', '54', '73', '53', '60', '51', '70', '65', '76', '77', '7', '50', '68', '7', '20', '53', '62', '47', '49', '48', '24', '33', '45', '76', '13', '51', '59', '50', '62', '39', '1', '78', '39', '42', '60', '61', '68', '63', '33', '68', '33', '73', '77', '57', '78', '64', '74', '41', '50', '1', '54', '71', '16', '48', '6', '24', '53', '51', '1', '6', '46', '67', '17', '17', '59', '63', '37', '50', '5', '46', '15', '21', '21', '13', '10', '60', '79', '49', '54', '14', '55', '64', '48', '22', '5', '7', '64', '63', '81', '67', '70', '79', '60', '16', '67', '81', '50', '12', '69', '65', '78', '80', '79', '14', '1', '34', '38', '33', '13', '44', '10', '33', '56', '15', '15', '60', '39', '24', '46', '66', '56', '57', '8', '11', '61', '6', '17', '36', '2', '75', '73', '3', '72', '70', '75', '34', '8', '44', '9', '52', '33', '68', '17', '77', '52', '13', '6', '43', '61', '70', '57', '41', '2', '46', '37', '38', '73', '42', '6', '44', '77', '16', '76', '39', '52', '58', '77', '43', '63', '50', '49', '78', '17', '37', '15', '61', '47', '22', '6', '74', '39', '80', '78', '38', '77', '72', '43', '16', '20', '20', '50', '10', '13', '33', '64', '5', '59', '24', '45', '4', '81', '65', '59', '37', '77', '14', '10', '68', '24', '12', '59', '6', '61', '48', '55', '72', '42', '67', '40', '14', '63', '66', '33', '11', '68', '14', '22', '78', '6', '36', '78', '52', '77', '71', '66', '13', '80', '79', '5', '66', '37', '36', '54', '7', '71', '81', '73', '58', '57', '81', '9', '47', '81', '77', '79', '36', '40', '4', '46', '5', '64', '80', '17', '68', '61', '52', '67', '80', '8', '63', '60', '47', '73', '68', '33', '8', '59', '67', '52', '64', '5', '65', '64', '34', '1', '37', '14', '64', '6', '59', '70', '40', '73', '21', '62', '16', '10', '54', '76', '61', '47', '76', '54', '43', '41', '53', '54', '43', '52', '2', '74', '61', '13', '37', '8', '7', '63', '10', '17', '50', '5', '45', '68', '11', '4', '36', '38', '21', '81', '11', '4', '69', '41', '66', '63', '64', '7', '55', '37', '60', '20', '40', '47', '24', '10', '1', '4', '53', '53', '52', '58', '66', '15', '3', '60', '68', '58', '49', '74', '7', '54', '79', '34', '80', '65', '37', '50', '17', '55', '51', '69', '20', '21', '16', '74', '41', '15', '63', '50', '69', '22', '43', '53', '55', '49', '7', '81', '24', '56', '44', '73', '22', '36', '49', '46', '14', '42', '70', '49', '46', '6', '39', '3', '64', '22', '73', '75', '71', '36', '34', '39', '56', '22', '61', '44', '51', '75', '61', '53', '46', '21', '52', '53', '12', '2', '21', '43', '20', '21', '1', '78', '75', '47', '41', '46', '70', '2', '77', '73', '60', '40', '3', '56', '61', '39', '50', '49', '66', '44', '49', '58', '20', '41', '53', '17', '43', '10', '79', '17', '62', '38', '7', '71', '17']\n"
          ],
          "name": "stdout"
        }
      ]
    },
    {
      "cell_type": "code",
      "metadata": {
        "id": "jAiuEtytyZ94",
        "colab_type": "code",
        "outputId": "ee7fd42f-23b2-4b45-8606-2581b22b3fb0",
        "colab": {
          "base_uri": "https://localhost:8080/",
          "height": 164
        }
      },
      "source": [
        "# Indivdual Predictions\n",
        "def transform_img(img, show=False):\n",
        "    img = cv2.resize(img, (224,224))\n",
        "    img_tensor = np.expand_dims(img, axis=0)         # (1, height, width, channels), add a dimension because the model expects this shape: (batch_size, height, width, channels)\n",
        "    return img_tensor\n",
        "\n",
        "juan = cv2.imread(\"juan.jpg\")\n",
        "cv2_imshow(juan)\n",
        "\n",
        "juan_67 = transform_img(juan)\n",
        "pred = model.predict(juan_67)\n",
        "\n",
        "guess = get_classes(pred, label_map)\n",
        "print(guess)"
      ],
      "execution_count": 0,
      "outputs": [
        {
          "output_type": "display_data",
          "data": {
            "image/png": "[encoded data removed]",
            "text/plain": [
              "<PIL.Image.Image image mode=RGB size=128x128 at 0x7F1AF15F2AC8>"
            ]
          },
          "metadata": {
            "tags": []
          }
        },
        {
          "output_type": "stream",
          "text": [
            "['17']\n"
          ],
          "name": "stdout"
        }
      ]
    },
    {
      "cell_type": "markdown",
      "metadata": {
        "id": "JwQ4j3qxDlOU",
        "colab_type": "text"
      },
      "source": [
        "#### Save Models and Data"
      ]
    },
    {
      "cell_type": "code",
      "metadata": {
        "id": "piLMLNeZuHm9",
        "colab_type": "code",
        "outputId": "c3d3dc6c-505a-4b49-b701-fac3a12f7b9c",
        "colab": {
          "base_uri": "https://localhost:8080/",
          "height": 35
        }
      },
      "source": [
        "# Save Models and Data\n",
        "%cd /content/drive/My\\ Drive/City\\ Msc\\ Data\\ Science/ComputerVision/models/v3\n",
        "\n",
        "joblib.dump(label_map, 'cnn_labelmap.pkl')\n",
        "\n",
        "#python save\n",
        "joblib.dump(svmSIFT, \"model_VGG16.pkl\")\n",
        "\n",
        "#keras save\n",
        "model.save('model_VGG16.h5')"
      ],
      "execution_count": 0,
      "outputs": [
        {
          "output_type": "stream",
          "text": [
            "/content/drive/My Drive/City Msc Data Science/ComputerVision/models/v3\n"
          ],
          "name": "stdout"
        }
      ]
    },
    {
      "cell_type": "markdown",
      "metadata": {
        "id": "V7NDfnsUNSkZ",
        "colab_type": "text"
      },
      "source": [
        "# MobileNet (doesn't work)"
      ]
    },
    {
      "cell_type": "code",
      "metadata": {
        "id": "zNijaICz_kKw",
        "colab_type": "code",
        "colab": {}
      },
      "source": [
        "import pandas as pd\n",
        "import numpy as np\n",
        "import os\n",
        "import keras\n",
        "import matplotlib.pyplot as plt\n",
        "from keras.layers import Dense,GlobalAveragePooling2D, Dropout, Flatten\n",
        "from keras.applications import MobileNet\n",
        "from keras.preprocessing import image\n",
        "from keras.applications.mobilenet import preprocess_input\n",
        "from keras.preprocessing.image import ImageDataGenerator\n",
        "from keras.models import Model\n",
        "from keras.optimizers import Adam\n",
        "from keras.callbacks import EarlyStopping"
      ],
      "execution_count": 0,
      "outputs": []
    },
    {
      "cell_type": "code",
      "metadata": {
        "id": "xoU9c5NI4B3Y",
        "colab_type": "code",
        "outputId": "7f8252d6-e35e-4348-f0f8-05d4cb642a1e",
        "colab": {
          "base_uri": "https://localhost:8080/",
          "height": 1564
        }
      },
      "source": [
        "base_model=MobileNet(weights='imagenet',include_top=False, input_shape=(224, 224, 3)) #imports the mobilenet model and discards the last 1000 neuron layer.\n",
        "\n",
        "x=base_model.output\n",
        "x=Flatten()(x)\n",
        "x=Dense(1024,activation='relu')(x) #we add dense layers so that the model can learn more complex functions and classify for better results.\n",
        "x=Dropout(0.5)(x)\n",
        "preds=Dense(69,activation='softmax')(x) #final layer with softmax activation\n",
        "\n",
        "model=Model(inputs=base_model.input,outputs=preds)\n",
        "\n",
        "for layer in model.layers[:87]:\n",
        "    layer.trainable=False\n",
        "for layer in model.layers[87:]:\n",
        "    layer.trainable=True\n",
        "\n",
        "for i,layer in enumerate(model.layers):\n",
        "  print(i,layer.name, layer.trainable)"
      ],
      "execution_count": 0,
      "outputs": [
        {
          "output_type": "stream",
          "text": [
            "0 input_10 False\n",
            "1 conv1_pad False\n",
            "2 conv1 False\n",
            "3 conv1_bn False\n",
            "4 conv1_relu False\n",
            "5 conv_dw_1 False\n",
            "6 conv_dw_1_bn False\n",
            "7 conv_dw_1_relu False\n",
            "8 conv_pw_1 False\n",
            "9 conv_pw_1_bn False\n",
            "10 conv_pw_1_relu False\n",
            "11 conv_pad_2 False\n",
            "12 conv_dw_2 False\n",
            "13 conv_dw_2_bn False\n",
            "14 conv_dw_2_relu False\n",
            "15 conv_pw_2 False\n",
            "16 conv_pw_2_bn False\n",
            "17 conv_pw_2_relu False\n",
            "18 conv_dw_3 False\n",
            "19 conv_dw_3_bn False\n",
            "20 conv_dw_3_relu False\n",
            "21 conv_pw_3 False\n",
            "22 conv_pw_3_bn False\n",
            "23 conv_pw_3_relu False\n",
            "24 conv_pad_4 False\n",
            "25 conv_dw_4 False\n",
            "26 conv_dw_4_bn False\n",
            "27 conv_dw_4_relu False\n",
            "28 conv_pw_4 False\n",
            "29 conv_pw_4_bn False\n",
            "30 conv_pw_4_relu False\n",
            "31 conv_dw_5 False\n",
            "32 conv_dw_5_bn False\n",
            "33 conv_dw_5_relu False\n",
            "34 conv_pw_5 False\n",
            "35 conv_pw_5_bn False\n",
            "36 conv_pw_5_relu False\n",
            "37 conv_pad_6 False\n",
            "38 conv_dw_6 False\n",
            "39 conv_dw_6_bn False\n",
            "40 conv_dw_6_relu False\n",
            "41 conv_pw_6 False\n",
            "42 conv_pw_6_bn False\n",
            "43 conv_pw_6_relu False\n",
            "44 conv_dw_7 False\n",
            "45 conv_dw_7_bn False\n",
            "46 conv_dw_7_relu False\n",
            "47 conv_pw_7 False\n",
            "48 conv_pw_7_bn False\n",
            "49 conv_pw_7_relu False\n",
            "50 conv_dw_8 False\n",
            "51 conv_dw_8_bn False\n",
            "52 conv_dw_8_relu False\n",
            "53 conv_pw_8 False\n",
            "54 conv_pw_8_bn False\n",
            "55 conv_pw_8_relu False\n",
            "56 conv_dw_9 False\n",
            "57 conv_dw_9_bn False\n",
            "58 conv_dw_9_relu False\n",
            "59 conv_pw_9 False\n",
            "60 conv_pw_9_bn False\n",
            "61 conv_pw_9_relu False\n",
            "62 conv_dw_10 False\n",
            "63 conv_dw_10_bn False\n",
            "64 conv_dw_10_relu False\n",
            "65 conv_pw_10 False\n",
            "66 conv_pw_10_bn False\n",
            "67 conv_pw_10_relu False\n",
            "68 conv_dw_11 False\n",
            "69 conv_dw_11_bn False\n",
            "70 conv_dw_11_relu False\n",
            "71 conv_pw_11 False\n",
            "72 conv_pw_11_bn False\n",
            "73 conv_pw_11_relu False\n",
            "74 conv_pad_12 False\n",
            "75 conv_dw_12 False\n",
            "76 conv_dw_12_bn False\n",
            "77 conv_dw_12_relu False\n",
            "78 conv_pw_12 False\n",
            "79 conv_pw_12_bn False\n",
            "80 conv_pw_12_relu False\n",
            "81 conv_dw_13 False\n",
            "82 conv_dw_13_bn False\n",
            "83 conv_dw_13_relu False\n",
            "84 conv_pw_13 False\n",
            "85 conv_pw_13_bn False\n",
            "86 conv_pw_13_relu False\n",
            "87 flatten_5 True\n",
            "88 dense_22 True\n",
            "89 dropout_6 True\n",
            "90 dense_23 True\n"
          ],
          "name": "stdout"
        }
      ]
    },
    {
      "cell_type": "code",
      "metadata": {
        "id": "4jN7L4L-6m-H",
        "colab_type": "code",
        "outputId": "9af7792f-60fa-444d-9e68-b8ecf787cfe4",
        "colab": {
          "base_uri": "https://localhost:8080/",
          "height": 1305
        }
      },
      "source": [
        "model.compile(optimizer='Adam',loss='categorical_crossentropy',metrics=['accuracy'])\n",
        "# Adam optimizer\n",
        "# loss function will be categorical cross entropy\n",
        "# evaluation metric will be accuracy\n",
        "\n",
        "\n",
        "early_stop = EarlyStopping(patience=3)\n",
        "\n",
        "step_size_train=train_generator.n//train_generator.batch_size\n",
        "step_size_valid=valid_generator.n//valid_generator.batch_size\n",
        "\n",
        "\n",
        "history = model.fit_generator(generator=train_generator,\n",
        "                    steps_per_epoch=step_size_train,\n",
        "                    epochs=14,\n",
        "                    validation_data=valid_generator,\n",
        "\t                  validation_steps=step_size_valid)"
      ],
      "execution_count": 0,
      "outputs": [
        {
          "output_type": "stream",
          "text": [
            "Epoch 1/14\n"
          ],
          "name": "stdout"
        },
        {
          "output_type": "error",
          "ename": "KeyboardInterrupt",
          "evalue": "ignored",
          "traceback": [
            "\u001b[0;31m---------------------------------------------------------------------------\u001b[0m",
            "\u001b[0;31mKeyboardInterrupt\u001b[0m                         Traceback (most recent call last)",
            "\u001b[0;32m<ipython-input-104-e7e19af401a3>\u001b[0m in \u001b[0;36m<module>\u001b[0;34m()\u001b[0m\n\u001b[1;32m     15\u001b[0m                     \u001b[0mepochs\u001b[0m\u001b[0;34m=\u001b[0m\u001b[0;36m14\u001b[0m\u001b[0;34m,\u001b[0m\u001b[0;34m\u001b[0m\u001b[0;34m\u001b[0m\u001b[0m\n\u001b[1;32m     16\u001b[0m                     \u001b[0mvalidation_data\u001b[0m\u001b[0;34m=\u001b[0m\u001b[0mvalid_generator\u001b[0m\u001b[0;34m,\u001b[0m\u001b[0;34m\u001b[0m\u001b[0;34m\u001b[0m\u001b[0m\n\u001b[0;32m---> 17\u001b[0;31m \t                  validation_steps=step_size_valid)\n\u001b[0m",
            "\u001b[0;32m/usr/local/lib/python3.6/dist-packages/keras/legacy/interfaces.py\u001b[0m in \u001b[0;36mwrapper\u001b[0;34m(*args, **kwargs)\u001b[0m\n\u001b[1;32m     89\u001b[0m                 warnings.warn('Update your `' + object_name + '` call to the ' +\n\u001b[1;32m     90\u001b[0m                               'Keras 2 API: ' + signature, stacklevel=2)\n\u001b[0;32m---> 91\u001b[0;31m             \u001b[0;32mreturn\u001b[0m \u001b[0mfunc\u001b[0m\u001b[0;34m(\u001b[0m\u001b[0;34m*\u001b[0m\u001b[0margs\u001b[0m\u001b[0;34m,\u001b[0m \u001b[0;34m**\u001b[0m\u001b[0mkwargs\u001b[0m\u001b[0;34m)\u001b[0m\u001b[0;34m\u001b[0m\u001b[0;34m\u001b[0m\u001b[0m\n\u001b[0m\u001b[1;32m     92\u001b[0m         \u001b[0mwrapper\u001b[0m\u001b[0;34m.\u001b[0m\u001b[0m_original_function\u001b[0m \u001b[0;34m=\u001b[0m \u001b[0mfunc\u001b[0m\u001b[0;34m\u001b[0m\u001b[0;34m\u001b[0m\u001b[0m\n\u001b[1;32m     93\u001b[0m         \u001b[0;32mreturn\u001b[0m \u001b[0mwrapper\u001b[0m\u001b[0;34m\u001b[0m\u001b[0;34m\u001b[0m\u001b[0m\n",
            "\u001b[0;32m/usr/local/lib/python3.6/dist-packages/keras/engine/training.py\u001b[0m in \u001b[0;36mfit_generator\u001b[0;34m(self, generator, steps_per_epoch, epochs, verbose, callbacks, validation_data, validation_steps, class_weight, max_queue_size, workers, use_multiprocessing, shuffle, initial_epoch)\u001b[0m\n\u001b[1;32m   1416\u001b[0m             \u001b[0muse_multiprocessing\u001b[0m\u001b[0;34m=\u001b[0m\u001b[0muse_multiprocessing\u001b[0m\u001b[0;34m,\u001b[0m\u001b[0;34m\u001b[0m\u001b[0;34m\u001b[0m\u001b[0m\n\u001b[1;32m   1417\u001b[0m             \u001b[0mshuffle\u001b[0m\u001b[0;34m=\u001b[0m\u001b[0mshuffle\u001b[0m\u001b[0;34m,\u001b[0m\u001b[0;34m\u001b[0m\u001b[0;34m\u001b[0m\u001b[0m\n\u001b[0;32m-> 1418\u001b[0;31m             initial_epoch=initial_epoch)\n\u001b[0m\u001b[1;32m   1419\u001b[0m \u001b[0;34m\u001b[0m\u001b[0m\n\u001b[1;32m   1420\u001b[0m     \u001b[0;34m@\u001b[0m\u001b[0minterfaces\u001b[0m\u001b[0;34m.\u001b[0m\u001b[0mlegacy_generator_methods_support\u001b[0m\u001b[0;34m\u001b[0m\u001b[0;34m\u001b[0m\u001b[0m\n",
            "\u001b[0;32m/usr/local/lib/python3.6/dist-packages/keras/engine/training_generator.py\u001b[0m in \u001b[0;36mfit_generator\u001b[0;34m(model, generator, steps_per_epoch, epochs, verbose, callbacks, validation_data, validation_steps, class_weight, max_queue_size, workers, use_multiprocessing, shuffle, initial_epoch)\u001b[0m\n\u001b[1;32m    215\u001b[0m                 outs = model.train_on_batch(x, y,\n\u001b[1;32m    216\u001b[0m                                             \u001b[0msample_weight\u001b[0m\u001b[0;34m=\u001b[0m\u001b[0msample_weight\u001b[0m\u001b[0;34m,\u001b[0m\u001b[0;34m\u001b[0m\u001b[0;34m\u001b[0m\u001b[0m\n\u001b[0;32m--> 217\u001b[0;31m                                             class_weight=class_weight)\n\u001b[0m\u001b[1;32m    218\u001b[0m \u001b[0;34m\u001b[0m\u001b[0m\n\u001b[1;32m    219\u001b[0m                 \u001b[0mouts\u001b[0m \u001b[0;34m=\u001b[0m \u001b[0mto_list\u001b[0m\u001b[0;34m(\u001b[0m\u001b[0mouts\u001b[0m\u001b[0;34m)\u001b[0m\u001b[0;34m\u001b[0m\u001b[0;34m\u001b[0m\u001b[0m\n",
            "\u001b[0;32m/usr/local/lib/python3.6/dist-packages/keras/engine/training.py\u001b[0m in \u001b[0;36mtrain_on_batch\u001b[0;34m(self, x, y, sample_weight, class_weight)\u001b[0m\n\u001b[1;32m   1215\u001b[0m             \u001b[0mins\u001b[0m \u001b[0;34m=\u001b[0m \u001b[0mx\u001b[0m \u001b[0;34m+\u001b[0m \u001b[0my\u001b[0m \u001b[0;34m+\u001b[0m \u001b[0msample_weights\u001b[0m\u001b[0;34m\u001b[0m\u001b[0;34m\u001b[0m\u001b[0m\n\u001b[1;32m   1216\u001b[0m         \u001b[0mself\u001b[0m\u001b[0;34m.\u001b[0m\u001b[0m_make_train_function\u001b[0m\u001b[0;34m(\u001b[0m\u001b[0;34m)\u001b[0m\u001b[0;34m\u001b[0m\u001b[0;34m\u001b[0m\u001b[0m\n\u001b[0;32m-> 1217\u001b[0;31m         \u001b[0moutputs\u001b[0m \u001b[0;34m=\u001b[0m \u001b[0mself\u001b[0m\u001b[0;34m.\u001b[0m\u001b[0mtrain_function\u001b[0m\u001b[0;34m(\u001b[0m\u001b[0mins\u001b[0m\u001b[0;34m)\u001b[0m\u001b[0;34m\u001b[0m\u001b[0;34m\u001b[0m\u001b[0m\n\u001b[0m\u001b[1;32m   1218\u001b[0m         \u001b[0;32mreturn\u001b[0m \u001b[0munpack_singleton\u001b[0m\u001b[0;34m(\u001b[0m\u001b[0moutputs\u001b[0m\u001b[0;34m)\u001b[0m\u001b[0;34m\u001b[0m\u001b[0;34m\u001b[0m\u001b[0m\n\u001b[1;32m   1219\u001b[0m \u001b[0;34m\u001b[0m\u001b[0m\n",
            "\u001b[0;32m/usr/local/lib/python3.6/dist-packages/keras/backend/tensorflow_backend.py\u001b[0m in \u001b[0;36m__call__\u001b[0;34m(self, inputs)\u001b[0m\n\u001b[1;32m   2713\u001b[0m                 \u001b[0;32mreturn\u001b[0m \u001b[0mself\u001b[0m\u001b[0;34m.\u001b[0m\u001b[0m_legacy_call\u001b[0m\u001b[0;34m(\u001b[0m\u001b[0minputs\u001b[0m\u001b[0;34m)\u001b[0m\u001b[0;34m\u001b[0m\u001b[0;34m\u001b[0m\u001b[0m\n\u001b[1;32m   2714\u001b[0m \u001b[0;34m\u001b[0m\u001b[0m\n\u001b[0;32m-> 2715\u001b[0;31m             \u001b[0;32mreturn\u001b[0m \u001b[0mself\u001b[0m\u001b[0;34m.\u001b[0m\u001b[0m_call\u001b[0m\u001b[0;34m(\u001b[0m\u001b[0minputs\u001b[0m\u001b[0;34m)\u001b[0m\u001b[0;34m\u001b[0m\u001b[0;34m\u001b[0m\u001b[0m\n\u001b[0m\u001b[1;32m   2716\u001b[0m         \u001b[0;32melse\u001b[0m\u001b[0;34m:\u001b[0m\u001b[0;34m\u001b[0m\u001b[0;34m\u001b[0m\u001b[0m\n\u001b[1;32m   2717\u001b[0m             \u001b[0;32mif\u001b[0m \u001b[0mpy_any\u001b[0m\u001b[0;34m(\u001b[0m\u001b[0mis_tensor\u001b[0m\u001b[0;34m(\u001b[0m\u001b[0mx\u001b[0m\u001b[0;34m)\u001b[0m \u001b[0;32mfor\u001b[0m \u001b[0mx\u001b[0m \u001b[0;32min\u001b[0m \u001b[0minputs\u001b[0m\u001b[0;34m)\u001b[0m\u001b[0;34m:\u001b[0m\u001b[0;34m\u001b[0m\u001b[0;34m\u001b[0m\u001b[0m\n",
            "\u001b[0;32m/usr/local/lib/python3.6/dist-packages/keras/backend/tensorflow_backend.py\u001b[0m in \u001b[0;36m_call\u001b[0;34m(self, inputs)\u001b[0m\n\u001b[1;32m   2669\u001b[0m                                 \u001b[0mfeed_symbols\u001b[0m\u001b[0;34m,\u001b[0m\u001b[0;34m\u001b[0m\u001b[0;34m\u001b[0m\u001b[0m\n\u001b[1;32m   2670\u001b[0m                                 \u001b[0msymbol_vals\u001b[0m\u001b[0;34m,\u001b[0m\u001b[0;34m\u001b[0m\u001b[0;34m\u001b[0m\u001b[0m\n\u001b[0;32m-> 2671\u001b[0;31m                                 session)\n\u001b[0m\u001b[1;32m   2672\u001b[0m         \u001b[0;32mif\u001b[0m \u001b[0mself\u001b[0m\u001b[0;34m.\u001b[0m\u001b[0mrun_metadata\u001b[0m\u001b[0;34m:\u001b[0m\u001b[0;34m\u001b[0m\u001b[0;34m\u001b[0m\u001b[0m\n\u001b[1;32m   2673\u001b[0m             \u001b[0mfetched\u001b[0m \u001b[0;34m=\u001b[0m \u001b[0mself\u001b[0m\u001b[0;34m.\u001b[0m\u001b[0m_callable_fn\u001b[0m\u001b[0;34m(\u001b[0m\u001b[0;34m*\u001b[0m\u001b[0marray_vals\u001b[0m\u001b[0;34m,\u001b[0m \u001b[0mrun_metadata\u001b[0m\u001b[0;34m=\u001b[0m\u001b[0mself\u001b[0m\u001b[0;34m.\u001b[0m\u001b[0mrun_metadata\u001b[0m\u001b[0;34m)\u001b[0m\u001b[0;34m\u001b[0m\u001b[0;34m\u001b[0m\u001b[0m\n",
            "\u001b[0;32m/usr/local/lib/python3.6/dist-packages/keras/backend/tensorflow_backend.py\u001b[0m in \u001b[0;36m_make_callable\u001b[0;34m(self, feed_arrays, feed_symbols, symbol_vals, session)\u001b[0m\n\u001b[1;32m   2621\u001b[0m             \u001b[0mcallable_opts\u001b[0m\u001b[0;34m.\u001b[0m\u001b[0mrun_options\u001b[0m\u001b[0;34m.\u001b[0m\u001b[0mCopyFrom\u001b[0m\u001b[0;34m(\u001b[0m\u001b[0mself\u001b[0m\u001b[0;34m.\u001b[0m\u001b[0mrun_options\u001b[0m\u001b[0;34m)\u001b[0m\u001b[0;34m\u001b[0m\u001b[0;34m\u001b[0m\u001b[0m\n\u001b[1;32m   2622\u001b[0m         \u001b[0;31m# Create callable.\u001b[0m\u001b[0;34m\u001b[0m\u001b[0;34m\u001b[0m\u001b[0;34m\u001b[0m\u001b[0m\n\u001b[0;32m-> 2623\u001b[0;31m         \u001b[0mcallable_fn\u001b[0m \u001b[0;34m=\u001b[0m \u001b[0msession\u001b[0m\u001b[0;34m.\u001b[0m\u001b[0m_make_callable_from_options\u001b[0m\u001b[0;34m(\u001b[0m\u001b[0mcallable_opts\u001b[0m\u001b[0;34m)\u001b[0m\u001b[0;34m\u001b[0m\u001b[0;34m\u001b[0m\u001b[0m\n\u001b[0m\u001b[1;32m   2624\u001b[0m         \u001b[0;31m# Cache parameters corresponding to the generated callable, so that\u001b[0m\u001b[0;34m\u001b[0m\u001b[0;34m\u001b[0m\u001b[0;34m\u001b[0m\u001b[0m\n\u001b[1;32m   2625\u001b[0m         \u001b[0;31m# we can detect future mismatches and refresh the callable.\u001b[0m\u001b[0;34m\u001b[0m\u001b[0;34m\u001b[0m\u001b[0;34m\u001b[0m\u001b[0m\n",
            "\u001b[0;32m/usr/local/lib/python3.6/dist-packages/tensorflow/python/client/session.py\u001b[0m in \u001b[0;36m_make_callable_from_options\u001b[0;34m(self, callable_options)\u001b[0m\n\u001b[1;32m   1469\u001b[0m     \"\"\"\n\u001b[1;32m   1470\u001b[0m     \u001b[0mself\u001b[0m\u001b[0;34m.\u001b[0m\u001b[0m_extend_graph\u001b[0m\u001b[0;34m(\u001b[0m\u001b[0;34m)\u001b[0m\u001b[0;34m\u001b[0m\u001b[0;34m\u001b[0m\u001b[0m\n\u001b[0;32m-> 1471\u001b[0;31m     \u001b[0;32mreturn\u001b[0m \u001b[0mBaseSession\u001b[0m\u001b[0;34m.\u001b[0m\u001b[0m_Callable\u001b[0m\u001b[0;34m(\u001b[0m\u001b[0mself\u001b[0m\u001b[0;34m,\u001b[0m \u001b[0mcallable_options\u001b[0m\u001b[0;34m)\u001b[0m\u001b[0;34m\u001b[0m\u001b[0;34m\u001b[0m\u001b[0m\n\u001b[0m\u001b[1;32m   1472\u001b[0m \u001b[0;34m\u001b[0m\u001b[0m\n\u001b[1;32m   1473\u001b[0m \u001b[0;34m\u001b[0m\u001b[0m\n",
            "\u001b[0;32m/usr/local/lib/python3.6/dist-packages/tensorflow/python/client/session.py\u001b[0m in \u001b[0;36m__init__\u001b[0;34m(self, session, callable_options)\u001b[0m\n\u001b[1;32m   1423\u001b[0m         \u001b[0;32mwith\u001b[0m \u001b[0merrors\u001b[0m\u001b[0;34m.\u001b[0m\u001b[0mraise_exception_on_not_ok_status\u001b[0m\u001b[0;34m(\u001b[0m\u001b[0;34m)\u001b[0m \u001b[0;32mas\u001b[0m \u001b[0mstatus\u001b[0m\u001b[0;34m:\u001b[0m\u001b[0;34m\u001b[0m\u001b[0;34m\u001b[0m\u001b[0m\n\u001b[1;32m   1424\u001b[0m           self._handle = tf_session.TF_SessionMakeCallable(\n\u001b[0;32m-> 1425\u001b[0;31m               session._session, options_ptr, status)\n\u001b[0m\u001b[1;32m   1426\u001b[0m       \u001b[0;32mfinally\u001b[0m\u001b[0;34m:\u001b[0m\u001b[0;34m\u001b[0m\u001b[0;34m\u001b[0m\u001b[0m\n\u001b[1;32m   1427\u001b[0m         \u001b[0mtf_session\u001b[0m\u001b[0;34m.\u001b[0m\u001b[0mTF_DeleteBuffer\u001b[0m\u001b[0;34m(\u001b[0m\u001b[0moptions_ptr\u001b[0m\u001b[0;34m)\u001b[0m\u001b[0;34m\u001b[0m\u001b[0;34m\u001b[0m\u001b[0m\n",
            "\u001b[0;31mKeyboardInterrupt\u001b[0m: "
          ]
        }
      ]
    },
    {
      "cell_type": "code",
      "metadata": {
        "id": "LqHy45qG-Xou",
        "colab_type": "code",
        "outputId": "64b94793-b673-4d29-d349-39b78542bce4",
        "colab": {
          "base_uri": "https://localhost:8080/",
          "height": 51
        }
      },
      "source": [
        "plt.figure(figsize=(5,3))\n",
        "plt.plot(history.epoch,history.history['loss'])\n",
        "plt.title('loss')\n",
        "\n",
        "plt.figure(figsize=(5,3))\n",
        "plt.plot(history.epoch,history.history['acc'])\n",
        "plt.title('accuracy');"
      ],
      "execution_count": 0,
      "outputs": [
        {
          "output_type": "stream",
          "text": [
            "66/66 [==============================] - 23s 350ms/step\n"
          ],
          "name": "stdout"
        },
        {
          "output_type": "execute_result",
          "data": {
            "text/plain": [
              "[3.9895266522487645, 0.2349311819023355]"
            ]
          },
          "metadata": {
            "tags": []
          },
          "execution_count": 43
        }
      ]
    },
    {
      "cell_type": "markdown",
      "metadata": {
        "id": "pVExTueVPP3F",
        "colab_type": "text"
      },
      "source": [
        "# ResNet (doesn't work)"
      ]
    },
    {
      "cell_type": "code",
      "metadata": {
        "id": "4gEGhayEk05G",
        "colab_type": "code",
        "colab": {}
      },
      "source": [
        "from keras.applications.resnet50 import ResNet50\n",
        "from keras.preprocessing import image\n",
        "from keras.models import Model\n",
        "from keras.layers import Dense, GlobalAveragePooling2D\n",
        "from keras import backend as K"
      ],
      "execution_count": 0,
      "outputs": []
    },
    {
      "cell_type": "code",
      "metadata": {
        "id": "nJCzW3k5C_vi",
        "colab_type": "code",
        "outputId": "840d3603-1598-468b-e067-6885b6e6cc4b",
        "colab": {
          "base_uri": "https://localhost:8080/",
          "height": 1577
        }
      },
      "source": [
        "\n",
        "# create the base pre-trained model\n",
        "base_model = ResNet50(include_top=False, weights='imagenet', input_tensor=None, input_shape=(224, 224, 3), pooling='max', classes=69)\n",
        "\n",
        "\n",
        "\n",
        "# add a global spatial average pooling layer\n",
        "x = base_model.output\n",
        "x = GlobalAveragePooling2D()(x)\n",
        "# let's add a fully-connected layer\n",
        "x = Dense(1024, activation='relu')(x)\n",
        "# and a logistic layer -- let's say we have 200 classes\n",
        "predictions = Dense(69, activation='softmax')(x)\n",
        "\n",
        "# this is the model we will train\n",
        "model = Model(inputs=base_model.input, outputs=predictions)\n",
        "\n",
        "# first: train only the top layers (which were randomly initialized)\n",
        "# i.e. freeze all convolutional InceptionV3 layers\n",
        "for layer in base_model.layers:\n",
        "    layer.trainable = False\n",
        "\n",
        "# compile the model (should be done *after* setting layers to non-trainable)\n",
        "model.compile(optimizer='rmsprop', loss='categorical_crossentropy')\n",
        "\n",
        "# train the model on the new data for a few epochs\n",
        "STEP_SIZE_TRAIN=train_generator.n//train_generator.batch_size\n",
        "STEP_SIZE_VALID=valid_generator.n//valid_generator.batch_size\n",
        "\n",
        "model.fit_generator(generator=train_generator,\n",
        "                    steps_per_epoch=STEP_SIZE_TRAIN,\n",
        "                    validation_data=valid_generator,\n",
        "                    validation_steps=STEP_SIZE_VALID,\n",
        "                    epochs=50\n",
        ")\n",
        "\n",
        "# at this point, the top layers are well trained and we can start fine-tuning\n",
        "# convolutional layers from inception V3. We will freeze the bottom N layers\n",
        "# and train the remaining top layers.\n",
        "\n",
        "# let's visualize layer names and layer indices to see how many layers\n",
        "# we should freeze:\n",
        "for i, layer in enumerate(base_model.layers):\n",
        "   print(i, layer.name)\n",
        "\n",
        "# we chose to train the top 2 inception blocks, i.e. we will freeze\n",
        "# the first 249 layers and unfreeze the rest:\n",
        "for layer in model.layers[:249]:\n",
        "   layer.trainable = False\n",
        "for layer in model.layers[249:]:\n",
        "   layer.trainable = True\n",
        "\n"
      ],
      "execution_count": 0,
      "outputs": [
        {
          "output_type": "stream",
          "text": [
            "154/155 [============================>.] - ETA: 0s - loss: 15.8663"
          ],
          "name": "stdout"
        },
        {
          "output_type": "error",
          "ename": "KeyboardInterrupt",
          "evalue": "ignored",
          "traceback": [
            "\u001b[0;31m---------------------------------------------------------------------------\u001b[0m",
            "\u001b[0;31mKeyboardInterrupt\u001b[0m                         Traceback (most recent call last)",
            "\u001b[0;32m<ipython-input-32-9ab8f24ac04b>\u001b[0m in \u001b[0;36m<module>\u001b[0;34m()\u001b[0m\n\u001b[1;32m     30\u001b[0m                     \u001b[0mvalidation_data\u001b[0m\u001b[0;34m=\u001b[0m\u001b[0mvalid_generator\u001b[0m\u001b[0;34m,\u001b[0m\u001b[0;34m\u001b[0m\u001b[0;34m\u001b[0m\u001b[0m\n\u001b[1;32m     31\u001b[0m                     \u001b[0mvalidation_steps\u001b[0m\u001b[0;34m=\u001b[0m\u001b[0mSTEP_SIZE_VALID\u001b[0m\u001b[0;34m,\u001b[0m\u001b[0;34m\u001b[0m\u001b[0;34m\u001b[0m\u001b[0m\n\u001b[0;32m---> 32\u001b[0;31m                     \u001b[0mepochs\u001b[0m\u001b[0;34m=\u001b[0m\u001b[0;36m50\u001b[0m\u001b[0;34m\u001b[0m\u001b[0;34m\u001b[0m\u001b[0m\n\u001b[0m\u001b[1;32m     33\u001b[0m )\n\u001b[1;32m     34\u001b[0m \u001b[0;34m\u001b[0m\u001b[0m\n",
            "\u001b[0;32m/usr/local/lib/python3.6/dist-packages/keras/legacy/interfaces.py\u001b[0m in \u001b[0;36mwrapper\u001b[0;34m(*args, **kwargs)\u001b[0m\n\u001b[1;32m     89\u001b[0m                 warnings.warn('Update your `' + object_name + '` call to the ' +\n\u001b[1;32m     90\u001b[0m                               'Keras 2 API: ' + signature, stacklevel=2)\n\u001b[0;32m---> 91\u001b[0;31m             \u001b[0;32mreturn\u001b[0m \u001b[0mfunc\u001b[0m\u001b[0;34m(\u001b[0m\u001b[0;34m*\u001b[0m\u001b[0margs\u001b[0m\u001b[0;34m,\u001b[0m \u001b[0;34m**\u001b[0m\u001b[0mkwargs\u001b[0m\u001b[0;34m)\u001b[0m\u001b[0;34m\u001b[0m\u001b[0;34m\u001b[0m\u001b[0m\n\u001b[0m\u001b[1;32m     92\u001b[0m         \u001b[0mwrapper\u001b[0m\u001b[0;34m.\u001b[0m\u001b[0m_original_function\u001b[0m \u001b[0;34m=\u001b[0m \u001b[0mfunc\u001b[0m\u001b[0;34m\u001b[0m\u001b[0;34m\u001b[0m\u001b[0m\n\u001b[1;32m     93\u001b[0m         \u001b[0;32mreturn\u001b[0m \u001b[0mwrapper\u001b[0m\u001b[0;34m\u001b[0m\u001b[0;34m\u001b[0m\u001b[0m\n",
            "\u001b[0;32m/usr/local/lib/python3.6/dist-packages/keras/engine/training.py\u001b[0m in \u001b[0;36mfit_generator\u001b[0;34m(self, generator, steps_per_epoch, epochs, verbose, callbacks, validation_data, validation_steps, class_weight, max_queue_size, workers, use_multiprocessing, shuffle, initial_epoch)\u001b[0m\n\u001b[1;32m   1416\u001b[0m             \u001b[0muse_multiprocessing\u001b[0m\u001b[0;34m=\u001b[0m\u001b[0muse_multiprocessing\u001b[0m\u001b[0;34m,\u001b[0m\u001b[0;34m\u001b[0m\u001b[0;34m\u001b[0m\u001b[0m\n\u001b[1;32m   1417\u001b[0m             \u001b[0mshuffle\u001b[0m\u001b[0;34m=\u001b[0m\u001b[0mshuffle\u001b[0m\u001b[0;34m,\u001b[0m\u001b[0;34m\u001b[0m\u001b[0;34m\u001b[0m\u001b[0m\n\u001b[0;32m-> 1418\u001b[0;31m             initial_epoch=initial_epoch)\n\u001b[0m\u001b[1;32m   1419\u001b[0m \u001b[0;34m\u001b[0m\u001b[0m\n\u001b[1;32m   1420\u001b[0m     \u001b[0;34m@\u001b[0m\u001b[0minterfaces\u001b[0m\u001b[0;34m.\u001b[0m\u001b[0mlegacy_generator_methods_support\u001b[0m\u001b[0;34m\u001b[0m\u001b[0;34m\u001b[0m\u001b[0m\n",
            "\u001b[0;32m/usr/local/lib/python3.6/dist-packages/keras/engine/training_generator.py\u001b[0m in \u001b[0;36mfit_generator\u001b[0;34m(model, generator, steps_per_epoch, epochs, verbose, callbacks, validation_data, validation_steps, class_weight, max_queue_size, workers, use_multiprocessing, shuffle, initial_epoch)\u001b[0m\n\u001b[1;32m    232\u001b[0m                             \u001b[0mval_enqueuer_gen\u001b[0m\u001b[0;34m,\u001b[0m\u001b[0;34m\u001b[0m\u001b[0;34m\u001b[0m\u001b[0m\n\u001b[1;32m    233\u001b[0m                             \u001b[0mvalidation_steps\u001b[0m\u001b[0;34m,\u001b[0m\u001b[0;34m\u001b[0m\u001b[0;34m\u001b[0m\u001b[0m\n\u001b[0;32m--> 234\u001b[0;31m                             workers=0)\n\u001b[0m\u001b[1;32m    235\u001b[0m                     \u001b[0;32melse\u001b[0m\u001b[0;34m:\u001b[0m\u001b[0;34m\u001b[0m\u001b[0;34m\u001b[0m\u001b[0m\n\u001b[1;32m    236\u001b[0m                         \u001b[0;31m# No need for try/except because\u001b[0m\u001b[0;34m\u001b[0m\u001b[0;34m\u001b[0m\u001b[0;34m\u001b[0m\u001b[0m\n",
            "\u001b[0;32m/usr/local/lib/python3.6/dist-packages/keras/legacy/interfaces.py\u001b[0m in \u001b[0;36mwrapper\u001b[0;34m(*args, **kwargs)\u001b[0m\n\u001b[1;32m     89\u001b[0m                 warnings.warn('Update your `' + object_name + '` call to the ' +\n\u001b[1;32m     90\u001b[0m                               'Keras 2 API: ' + signature, stacklevel=2)\n\u001b[0;32m---> 91\u001b[0;31m             \u001b[0;32mreturn\u001b[0m \u001b[0mfunc\u001b[0m\u001b[0;34m(\u001b[0m\u001b[0;34m*\u001b[0m\u001b[0margs\u001b[0m\u001b[0;34m,\u001b[0m \u001b[0;34m**\u001b[0m\u001b[0mkwargs\u001b[0m\u001b[0;34m)\u001b[0m\u001b[0;34m\u001b[0m\u001b[0;34m\u001b[0m\u001b[0m\n\u001b[0m\u001b[1;32m     92\u001b[0m         \u001b[0mwrapper\u001b[0m\u001b[0;34m.\u001b[0m\u001b[0m_original_function\u001b[0m \u001b[0;34m=\u001b[0m \u001b[0mfunc\u001b[0m\u001b[0;34m\u001b[0m\u001b[0;34m\u001b[0m\u001b[0m\n\u001b[1;32m     93\u001b[0m         \u001b[0;32mreturn\u001b[0m \u001b[0mwrapper\u001b[0m\u001b[0;34m\u001b[0m\u001b[0;34m\u001b[0m\u001b[0m\n",
            "\u001b[0;32m/usr/local/lib/python3.6/dist-packages/keras/engine/training.py\u001b[0m in \u001b[0;36mevaluate_generator\u001b[0;34m(self, generator, steps, max_queue_size, workers, use_multiprocessing, verbose)\u001b[0m\n\u001b[1;32m   1470\u001b[0m             \u001b[0mworkers\u001b[0m\u001b[0;34m=\u001b[0m\u001b[0mworkers\u001b[0m\u001b[0;34m,\u001b[0m\u001b[0;34m\u001b[0m\u001b[0;34m\u001b[0m\u001b[0m\n\u001b[1;32m   1471\u001b[0m             \u001b[0muse_multiprocessing\u001b[0m\u001b[0;34m=\u001b[0m\u001b[0muse_multiprocessing\u001b[0m\u001b[0;34m,\u001b[0m\u001b[0;34m\u001b[0m\u001b[0;34m\u001b[0m\u001b[0m\n\u001b[0;32m-> 1472\u001b[0;31m             verbose=verbose)\n\u001b[0m\u001b[1;32m   1473\u001b[0m \u001b[0;34m\u001b[0m\u001b[0m\n\u001b[1;32m   1474\u001b[0m     \u001b[0;34m@\u001b[0m\u001b[0minterfaces\u001b[0m\u001b[0;34m.\u001b[0m\u001b[0mlegacy_generator_methods_support\u001b[0m\u001b[0;34m\u001b[0m\u001b[0;34m\u001b[0m\u001b[0m\n",
            "\u001b[0;32m/usr/local/lib/python3.6/dist-packages/keras/engine/training_generator.py\u001b[0m in \u001b[0;36mevaluate_generator\u001b[0;34m(model, generator, steps, max_queue_size, workers, use_multiprocessing, verbose)\u001b[0m\n\u001b[1;32m    328\u001b[0m \u001b[0;34m\u001b[0m\u001b[0m\n\u001b[1;32m    329\u001b[0m         \u001b[0;32mwhile\u001b[0m \u001b[0msteps_done\u001b[0m \u001b[0;34m<\u001b[0m \u001b[0msteps\u001b[0m\u001b[0;34m:\u001b[0m\u001b[0;34m\u001b[0m\u001b[0;34m\u001b[0m\u001b[0m\n\u001b[0;32m--> 330\u001b[0;31m             \u001b[0mgenerator_output\u001b[0m \u001b[0;34m=\u001b[0m \u001b[0mnext\u001b[0m\u001b[0;34m(\u001b[0m\u001b[0moutput_generator\u001b[0m\u001b[0;34m)\u001b[0m\u001b[0;34m\u001b[0m\u001b[0;34m\u001b[0m\u001b[0m\n\u001b[0m\u001b[1;32m    331\u001b[0m             \u001b[0;32mif\u001b[0m \u001b[0;32mnot\u001b[0m \u001b[0mhasattr\u001b[0m\u001b[0;34m(\u001b[0m\u001b[0mgenerator_output\u001b[0m\u001b[0;34m,\u001b[0m \u001b[0;34m'__len__'\u001b[0m\u001b[0;34m)\u001b[0m\u001b[0;34m:\u001b[0m\u001b[0;34m\u001b[0m\u001b[0;34m\u001b[0m\u001b[0m\n\u001b[1;32m    332\u001b[0m                 raise ValueError('Output of generator should be a tuple '\n",
            "\u001b[0;32m/usr/local/lib/python3.6/dist-packages/keras/utils/data_utils.py\u001b[0m in \u001b[0;36mget\u001b[0;34m(self)\u001b[0m\n\u001b[1;32m    683\u001b[0m         \u001b[0;32mtry\u001b[0m\u001b[0;34m:\u001b[0m\u001b[0;34m\u001b[0m\u001b[0;34m\u001b[0m\u001b[0m\n\u001b[1;32m    684\u001b[0m             \u001b[0;32mwhile\u001b[0m \u001b[0mself\u001b[0m\u001b[0;34m.\u001b[0m\u001b[0mis_running\u001b[0m\u001b[0;34m(\u001b[0m\u001b[0;34m)\u001b[0m\u001b[0;34m:\u001b[0m\u001b[0;34m\u001b[0m\u001b[0;34m\u001b[0m\u001b[0m\n\u001b[0;32m--> 685\u001b[0;31m                 \u001b[0minputs\u001b[0m \u001b[0;34m=\u001b[0m \u001b[0mself\u001b[0m\u001b[0;34m.\u001b[0m\u001b[0mqueue\u001b[0m\u001b[0;34m.\u001b[0m\u001b[0mget\u001b[0m\u001b[0;34m(\u001b[0m\u001b[0mblock\u001b[0m\u001b[0;34m=\u001b[0m\u001b[0;32mTrue\u001b[0m\u001b[0;34m)\u001b[0m\u001b[0;34m.\u001b[0m\u001b[0mget\u001b[0m\u001b[0;34m(\u001b[0m\u001b[0;34m)\u001b[0m\u001b[0;34m\u001b[0m\u001b[0;34m\u001b[0m\u001b[0m\n\u001b[0m\u001b[1;32m    686\u001b[0m                 \u001b[0mself\u001b[0m\u001b[0;34m.\u001b[0m\u001b[0mqueue\u001b[0m\u001b[0;34m.\u001b[0m\u001b[0mtask_done\u001b[0m\u001b[0;34m(\u001b[0m\u001b[0;34m)\u001b[0m\u001b[0;34m\u001b[0m\u001b[0;34m\u001b[0m\u001b[0m\n\u001b[1;32m    687\u001b[0m                 \u001b[0;32mif\u001b[0m \u001b[0minputs\u001b[0m \u001b[0;32mis\u001b[0m \u001b[0;32mnot\u001b[0m \u001b[0;32mNone\u001b[0m\u001b[0;34m:\u001b[0m\u001b[0;34m\u001b[0m\u001b[0;34m\u001b[0m\u001b[0m\n",
            "\u001b[0;32m/usr/lib/python3.6/multiprocessing/pool.py\u001b[0m in \u001b[0;36mget\u001b[0;34m(self, timeout)\u001b[0m\n\u001b[1;32m    662\u001b[0m \u001b[0;34m\u001b[0m\u001b[0m\n\u001b[1;32m    663\u001b[0m     \u001b[0;32mdef\u001b[0m \u001b[0mget\u001b[0m\u001b[0;34m(\u001b[0m\u001b[0mself\u001b[0m\u001b[0;34m,\u001b[0m \u001b[0mtimeout\u001b[0m\u001b[0;34m=\u001b[0m\u001b[0;32mNone\u001b[0m\u001b[0;34m)\u001b[0m\u001b[0;34m:\u001b[0m\u001b[0;34m\u001b[0m\u001b[0;34m\u001b[0m\u001b[0m\n\u001b[0;32m--> 664\u001b[0;31m         \u001b[0mself\u001b[0m\u001b[0;34m.\u001b[0m\u001b[0mwait\u001b[0m\u001b[0;34m(\u001b[0m\u001b[0mtimeout\u001b[0m\u001b[0;34m)\u001b[0m\u001b[0;34m\u001b[0m\u001b[0;34m\u001b[0m\u001b[0m\n\u001b[0m\u001b[1;32m    665\u001b[0m         \u001b[0;32mif\u001b[0m \u001b[0;32mnot\u001b[0m \u001b[0mself\u001b[0m\u001b[0;34m.\u001b[0m\u001b[0mready\u001b[0m\u001b[0;34m(\u001b[0m\u001b[0;34m)\u001b[0m\u001b[0;34m:\u001b[0m\u001b[0;34m\u001b[0m\u001b[0;34m\u001b[0m\u001b[0m\n\u001b[1;32m    666\u001b[0m             \u001b[0;32mraise\u001b[0m \u001b[0mTimeoutError\u001b[0m\u001b[0;34m\u001b[0m\u001b[0;34m\u001b[0m\u001b[0m\n",
            "\u001b[0;32m/usr/lib/python3.6/multiprocessing/pool.py\u001b[0m in \u001b[0;36mwait\u001b[0;34m(self, timeout)\u001b[0m\n\u001b[1;32m    659\u001b[0m \u001b[0;34m\u001b[0m\u001b[0m\n\u001b[1;32m    660\u001b[0m     \u001b[0;32mdef\u001b[0m \u001b[0mwait\u001b[0m\u001b[0;34m(\u001b[0m\u001b[0mself\u001b[0m\u001b[0;34m,\u001b[0m \u001b[0mtimeout\u001b[0m\u001b[0;34m=\u001b[0m\u001b[0;32mNone\u001b[0m\u001b[0;34m)\u001b[0m\u001b[0;34m:\u001b[0m\u001b[0;34m\u001b[0m\u001b[0;34m\u001b[0m\u001b[0m\n\u001b[0;32m--> 661\u001b[0;31m         \u001b[0mself\u001b[0m\u001b[0;34m.\u001b[0m\u001b[0m_event\u001b[0m\u001b[0;34m.\u001b[0m\u001b[0mwait\u001b[0m\u001b[0;34m(\u001b[0m\u001b[0mtimeout\u001b[0m\u001b[0;34m)\u001b[0m\u001b[0;34m\u001b[0m\u001b[0;34m\u001b[0m\u001b[0m\n\u001b[0m\u001b[1;32m    662\u001b[0m \u001b[0;34m\u001b[0m\u001b[0m\n\u001b[1;32m    663\u001b[0m     \u001b[0;32mdef\u001b[0m \u001b[0mget\u001b[0m\u001b[0;34m(\u001b[0m\u001b[0mself\u001b[0m\u001b[0;34m,\u001b[0m \u001b[0mtimeout\u001b[0m\u001b[0;34m=\u001b[0m\u001b[0;32mNone\u001b[0m\u001b[0;34m)\u001b[0m\u001b[0;34m:\u001b[0m\u001b[0;34m\u001b[0m\u001b[0;34m\u001b[0m\u001b[0m\n",
            "\u001b[0;32m/usr/lib/python3.6/threading.py\u001b[0m in \u001b[0;36mwait\u001b[0;34m(self, timeout)\u001b[0m\n\u001b[1;32m    549\u001b[0m             \u001b[0msignaled\u001b[0m \u001b[0;34m=\u001b[0m \u001b[0mself\u001b[0m\u001b[0;34m.\u001b[0m\u001b[0m_flag\u001b[0m\u001b[0;34m\u001b[0m\u001b[0;34m\u001b[0m\u001b[0m\n\u001b[1;32m    550\u001b[0m             \u001b[0;32mif\u001b[0m \u001b[0;32mnot\u001b[0m \u001b[0msignaled\u001b[0m\u001b[0;34m:\u001b[0m\u001b[0;34m\u001b[0m\u001b[0;34m\u001b[0m\u001b[0m\n\u001b[0;32m--> 551\u001b[0;31m                 \u001b[0msignaled\u001b[0m \u001b[0;34m=\u001b[0m \u001b[0mself\u001b[0m\u001b[0;34m.\u001b[0m\u001b[0m_cond\u001b[0m\u001b[0;34m.\u001b[0m\u001b[0mwait\u001b[0m\u001b[0;34m(\u001b[0m\u001b[0mtimeout\u001b[0m\u001b[0;34m)\u001b[0m\u001b[0;34m\u001b[0m\u001b[0;34m\u001b[0m\u001b[0m\n\u001b[0m\u001b[1;32m    552\u001b[0m             \u001b[0;32mreturn\u001b[0m \u001b[0msignaled\u001b[0m\u001b[0;34m\u001b[0m\u001b[0;34m\u001b[0m\u001b[0m\n\u001b[1;32m    553\u001b[0m \u001b[0;34m\u001b[0m\u001b[0m\n",
            "\u001b[0;32m/usr/lib/python3.6/threading.py\u001b[0m in \u001b[0;36mwait\u001b[0;34m(self, timeout)\u001b[0m\n\u001b[1;32m    293\u001b[0m         \u001b[0;32mtry\u001b[0m\u001b[0;34m:\u001b[0m    \u001b[0;31m# restore state no matter what (e.g., KeyboardInterrupt)\u001b[0m\u001b[0;34m\u001b[0m\u001b[0;34m\u001b[0m\u001b[0m\n\u001b[1;32m    294\u001b[0m             \u001b[0;32mif\u001b[0m \u001b[0mtimeout\u001b[0m \u001b[0;32mis\u001b[0m \u001b[0;32mNone\u001b[0m\u001b[0;34m:\u001b[0m\u001b[0;34m\u001b[0m\u001b[0;34m\u001b[0m\u001b[0m\n\u001b[0;32m--> 295\u001b[0;31m                 \u001b[0mwaiter\u001b[0m\u001b[0;34m.\u001b[0m\u001b[0macquire\u001b[0m\u001b[0;34m(\u001b[0m\u001b[0;34m)\u001b[0m\u001b[0;34m\u001b[0m\u001b[0;34m\u001b[0m\u001b[0m\n\u001b[0m\u001b[1;32m    296\u001b[0m                 \u001b[0mgotit\u001b[0m \u001b[0;34m=\u001b[0m \u001b[0;32mTrue\u001b[0m\u001b[0;34m\u001b[0m\u001b[0;34m\u001b[0m\u001b[0m\n\u001b[1;32m    297\u001b[0m             \u001b[0;32melse\u001b[0m\u001b[0;34m:\u001b[0m\u001b[0;34m\u001b[0m\u001b[0;34m\u001b[0m\u001b[0m\n",
            "\u001b[0;31mKeyboardInterrupt\u001b[0m: "
          ]
        }
      ]
    },
    {
      "cell_type": "code",
      "metadata": {
        "id": "1OwLQ7QdEFLJ",
        "colab_type": "code",
        "outputId": "0a8efb94-6135-4a91-f436-cdcdceb4918d",
        "colab": {
          "base_uri": "https://localhost:8080/",
          "height": 139
        }
      },
      "source": [
        "model = createModel()\n",
        "model.compile(optimizer='adam', loss='categorical_crossentropy', metrics=['accuracy'])"
      ],
      "execution_count": 0,
      "outputs": [
        {
          "output_type": "stream",
          "text": [
            "WARNING:tensorflow:From /usr/local/lib/python3.6/dist-packages/tensorflow/python/framework/op_def_library.py:263: colocate_with (from tensorflow.python.framework.ops) is deprecated and will be removed in a future version.\n",
            "Instructions for updating:\n",
            "Colocations handled automatically by placer.\n",
            "WARNING:tensorflow:From /usr/local/lib/python3.6/dist-packages/keras/backend/tensorflow_backend.py:3445: calling dropout (from tensorflow.python.ops.nn_ops) with keep_prob is deprecated and will be removed in a future version.\n",
            "Instructions for updating:\n",
            "Please use `rate` instead of `keep_prob`. Rate should be set to `rate = 1 - keep_prob`.\n"
          ],
          "name": "stdout"
        }
      ]
    },
    {
      "cell_type": "code",
      "metadata": {
        "id": "Kmp2AmTyF4DI",
        "colab_type": "code",
        "outputId": "929f9900-5134-4ba6-b43f-3cff50f6f64b",
        "colab": {
          "base_uri": "https://localhost:8080/",
          "height": 51
        }
      },
      "source": [
        "STEP_SIZE_TRAIN=train_generator.n//train_generator.batch_size\n",
        "STEP_SIZE_VALID=valid_generator.n//valid_generator.batch_size\n",
        "print(STEP_SIZE_TRAIN)\n",
        "print(STEP_SIZE_VALID)"
      ],
      "execution_count": 0,
      "outputs": [
        {
          "output_type": "stream",
          "text": [
            "155\n",
            "66\n"
          ],
          "name": "stdout"
        }
      ]
    },
    {
      "cell_type": "code",
      "metadata": {
        "id": "kvHg--83Ds2W",
        "colab_type": "code",
        "outputId": "572f4a01-4126-4c32-a200-497f0f4e0d08",
        "colab": {
          "base_uri": "https://localhost:8080/",
          "height": 445
        }
      },
      "source": [
        "\n",
        "model.fit_generator(generator=train_generator,\n",
        "                    steps_per_epoch=STEP_SIZE_TRAIN,\n",
        "                    validation_data=valid_generator,\n",
        "                    validation_steps=STEP_SIZE_VALID,\n",
        "                    epochs=100\n",
        ")"
      ],
      "execution_count": 0,
      "outputs": [
        {
          "output_type": "stream",
          "text": [
            "WARNING:tensorflow:From /usr/local/lib/python3.6/dist-packages/tensorflow/python/ops/math_ops.py:3066: to_int32 (from tensorflow.python.ops.math_ops) is deprecated and will be removed in a future version.\n",
            "Instructions for updating:\n",
            "Use tf.cast instead.\n",
            "Epoch 1/10\n",
            "155/155 [==============================] - 86s 552ms/step - loss: 4.2369 - acc: 0.0103 - val_loss: 4.2341 - val_acc: 0.0147\n",
            "Epoch 2/10\n",
            "155/155 [==============================] - 79s 511ms/step - loss: 4.2351 - acc: 0.0119 - val_loss: 4.2341 - val_acc: 0.0147\n",
            "Epoch 3/10\n",
            "155/155 [==============================] - 77s 498ms/step - loss: 4.2351 - acc: 0.0115 - val_loss: 4.2339 - val_acc: 0.0157\n",
            "Epoch 4/10\n",
            "155/155 [==============================] - 78s 500ms/step - loss: 4.2394 - acc: 0.0141 - val_loss: 4.2341 - val_acc: 0.0152\n",
            "Epoch 5/10\n",
            "155/155 [==============================] - 77s 498ms/step - loss: 4.2351 - acc: 0.0115 - val_loss: 4.2341 - val_acc: 0.0142\n",
            "Epoch 6/10\n",
            "155/155 [==============================] - 78s 502ms/step - loss: 4.2348 - acc: 0.0145 - val_loss: 4.2341 - val_acc: 0.0142\n",
            "Epoch 7/10\n",
            "155/155 [==============================] - 78s 502ms/step - loss: 4.2349 - acc: 0.0105 - val_loss: 4.2340 - val_acc: 0.0157\n",
            "Epoch 8/10\n",
            "155/155 [==============================] - 78s 506ms/step - loss: 4.2350 - acc: 0.0125 - val_loss: 4.2342 - val_acc: 0.0128\n",
            "Epoch 9/10\n",
            "155/155 [==============================] - 78s 502ms/step - loss: 4.2349 - acc: 0.0137 - val_loss: 4.2341 - val_acc: 0.0133\n",
            "Epoch 10/10\n",
            "155/155 [==============================] - 79s 513ms/step - loss: 4.2348 - acc: 0.0111 - val_loss: 4.2341 - val_acc: 0.0161\n"
          ],
          "name": "stdout"
        },
        {
          "output_type": "execute_result",
          "data": {
            "text/plain": [
              "<keras.callbacks.History at 0x7fe0873c3908>"
            ]
          },
          "metadata": {
            "tags": []
          },
          "execution_count": 45
        }
      ]
    },
    {
      "cell_type": "code",
      "metadata": {
        "id": "3b2Pe275DwRa",
        "colab_type": "code",
        "colab": {}
      },
      "source": [
        "model.evaluate_generator(generator=valid_generator)"
      ],
      "execution_count": 0,
      "outputs": []
    },
    {
      "cell_type": "code",
      "metadata": {
        "id": "e6ATDEv_DzU8",
        "colab_type": "code",
        "colab": {}
      },
      "source": [
        "test_generator.reset()\n",
        "pred=model.predict_generator(test_generator,verbose=1)"
      ],
      "execution_count": 0,
      "outputs": []
    },
    {
      "cell_type": "code",
      "metadata": {
        "id": "ADA-qa5BD3uF",
        "colab_type": "code",
        "colab": {}
      },
      "source": [
        "test_generator.reset()\n",
        "pred=model.predict_generator(test_generator,verbose=1)"
      ],
      "execution_count": 0,
      "outputs": []
    },
    {
      "cell_type": "markdown",
      "metadata": {
        "id": "-Xrk-93m_i_Z",
        "colab_type": "text"
      },
      "source": [
        "Sources Consulted\n",
        "\n",
        "https://medium.com/@vijayabhaskar96/tutorial-image-classification-with-keras-flow-from-directory-and-generators-95f75ebe5720"
      ]
    }
  ]
}